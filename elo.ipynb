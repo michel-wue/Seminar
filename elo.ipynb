{
  "nbformat": 4,
  "nbformat_minor": 0,
  "metadata": {
    "colab": {
      "provenance": [],
      "authorship_tag": "ABX9TyM1Nj1zz7onW20fk++lo8vS",
      "include_colab_link": true
    },
    "kernelspec": {
      "name": "python3",
      "display_name": "Python 3"
    },
    "language_info": {
      "name": "python"
    }
  },
  "cells": [
    {
      "cell_type": "markdown",
      "metadata": {
        "id": "view-in-github",
        "colab_type": "text"
      },
      "source": [
        "<a href=\"https://colab.research.google.com/github/michel-wue/Seminar/blob/main/elo.ipynb\" target=\"_parent\"><img src=\"https://colab.research.google.com/assets/colab-badge.svg\" alt=\"Open In Colab\"/></a>"
      ]
    },
    {
      "cell_type": "code",
      "source": [
        "import pandas as pd\n",
        "import requests as r\n",
        "from pandas import json_normalize\n",
        "import re\n",
        "import datetime"
      ],
      "metadata": {
        "id": "Uc7LNTaepYC5"
      },
      "execution_count": 2,
      "outputs": []
    },
    {
      "cell_type": "code",
      "execution_count": 3,
      "metadata": {
        "colab": {
          "base_uri": "https://localhost:8080/"
        },
        "id": "_o9sFUWRpQLT",
        "outputId": "6c91e394-b831-42cb-f1d3-31c33a93ccda"
      },
      "outputs": [
        {
          "output_type": "stream",
          "name": "stdout",
          "text": [
            "   team_id         team_fullname team_name\n",
            "0        1       Atlanta Falcons       atl\n",
            "1        2         Buffalo Bills       buf\n",
            "2        3         Chicago Bears       chi\n",
            "3        4    Cincinnati Bengals       cin\n",
            "4        5      Cleveland Browns       cle\n",
            "5        6        Dallas Cowboys       dal\n",
            "6        7        Denver Broncos       den\n",
            "7        8         Detroit Lions       det\n",
            "8        9     Green Bay Packers        gb\n",
            "9       10      Tennessee Titans       ten\n",
            "10      11    Indianapolis Colts       ind\n",
            "11      12    Kansas City Chiefs        kc\n",
            "12      13       Oakland Raiders       oak\n",
            "13      14        St. Louis Rams       stl\n",
            "14      15        Miami Dolphins       mia\n",
            "15      16     Minnesota Vikings       min\n",
            "16      17  New England Patriots        ne\n",
            "17      18    New Orleans Saints        no\n",
            "18      19       New York Giants       nyg\n",
            "19      20         New York Jets       nyj\n",
            "20      21   Philadelphia Eagles       phi\n",
            "21      22     Arizona Cardinals       ari\n",
            "22      23   Pittsburgh Steelers       pit\n",
            "23      24    San Diego Chargers        sd\n",
            "24      25   San Francisco 49ers        sf\n"
          ]
        }
      ],
      "source": [
        "teams_name_elo = pd.DataFrame(columns=['team_id', 'team_fullname', 'team_name'])\n",
        "\n",
        "year = '2015'\n",
        "url = f'http://sports.core.api.espn.com/v2/sports/football/leagues/nfl/seasons/{year}/teams'\n",
        "response_teams = r.get(url)\n",
        "teams_data = response_teams.json()\n",
        "teams_df = json_normalize(teams_data['items'])\n",
        "for index, row in teams_df.iterrows():\n",
        "    api = row['$ref']\n",
        "    team_name = r.get(api)\n",
        "    teamname_json = team_name.json()\n",
        "    team = teamname_json['abbreviation'].lower()\n",
        "    full_name = teamname_json['displayName']\n",
        "    data = [teamname_json['id'], full_name, team]\n",
        "    teams_name_elo.loc[len(teams_name_elo)] = data\n",
        "    # elo_api = f'https://projects.fivethirtyeight.com/complete-history-of-the-nfl/data/{team}.json'\n",
        "    # elo = r.get(elo_api)\n",
        "    # elo_json = elo.json()\n",
        "    # print(elo_json)\n",
        "    # print(teamname_json['id'])\n",
        "    # print(re.search(r\"teams/(\\d+)\", row['$ref']).group(1))\n",
        "print(teams_name_elo)"
      ]
    },
    {
      "cell_type": "code",
      "source": [
        "elonumbers = []\n",
        "for teams in teams_name_elo['team_name']:\n",
        "\n",
        "    elo_api = f'https://projects.fivethirtyeight.com/complete-history-of-the-nfl/data/{teams}.json'\n",
        "    elo = r.get(elo_api)\n",
        "    elo_json = elo.json()\n",
        "    elonumbers.append(elo_json)\n",
        "teams_name_elo['elo_score_historie'] = elonumbers\n",
        "print(teams_name_elo)"
      ],
      "metadata": {
        "colab": {
          "base_uri": "https://localhost:8080/"
        },
        "id": "WZP46BMEpjpH",
        "outputId": "09defd95-a0a2-4a16-9d3e-0125eb84035c"
      },
      "execution_count": 4,
      "outputs": [
        {
          "output_type": "stream",
          "name": "stdout",
          "text": [
            "   team_id         team_fullname team_name  \\\n",
            "0        1       Atlanta Falcons       atl   \n",
            "1        2         Buffalo Bills       buf   \n",
            "2        3         Chicago Bears       chi   \n",
            "3        4    Cincinnati Bengals       cin   \n",
            "4        5      Cleveland Browns       cle   \n",
            "5        6        Dallas Cowboys       dal   \n",
            "6        7        Denver Broncos       den   \n",
            "7        8         Detroit Lions       det   \n",
            "8        9     Green Bay Packers        gb   \n",
            "9       10      Tennessee Titans       ten   \n",
            "10      11    Indianapolis Colts       ind   \n",
            "11      12    Kansas City Chiefs        kc   \n",
            "12      13       Oakland Raiders       oak   \n",
            "13      14        St. Louis Rams       stl   \n",
            "14      15        Miami Dolphins       mia   \n",
            "15      16     Minnesota Vikings       min   \n",
            "16      17  New England Patriots        ne   \n",
            "17      18    New Orleans Saints        no   \n",
            "18      19       New York Giants       nyg   \n",
            "19      20         New York Jets       nyj   \n",
            "20      21   Philadelphia Eagles       phi   \n",
            "21      22     Arizona Cardinals       ari   \n",
            "22      23   Pittsburgh Steelers       pit   \n",
            "23      24    San Diego Chargers        sd   \n",
            "24      25   San Francisco 49ers        sf   \n",
            "\n",
            "                                   elo_score_historie  \n",
            "0   {'name': 'Atl', 'value': [{'x': 1966, 'y': 130...  \n",
            "1   {'name': 'Buf', 'value': [{'x': 1960, 'y': 130...  \n",
            "2   {'name': 'Chi', 'value': [{'x': 1920, 'y': 136...  \n",
            "3   {'name': 'Cin', 'value': [{'x': 1968, 'y': 130...  \n",
            "4   {'name': 'Cle', 'value': [{'x': 1946, 'y': 130...  \n",
            "5   {'name': 'Dal', 'value': [{'x': 1960, 'y': 130...  \n",
            "6   {'name': 'Den', 'value': [{'x': 1960, 'y': 130...  \n",
            "7   {'name': 'Det', 'value': [{'x': 1930, 'y': 136...  \n",
            "8   {'name': 'Gb', 'value': [{'x': 1921, 'y': 1413...  \n",
            "9   {'name': 'Ten', 'value': [{'x': 1960, 'y': 130...  \n",
            "10  {'name': 'Ind', 'value': [{'x': 1953, 'y': 130...  \n",
            "11  {'name': 'Kc', 'value': [{'x': 1960, 'y': 1300...  \n",
            "12  {'name': 'Oak', 'value': [{'x': 1960, 'y': 130...  \n",
            "13  {'name': 'Stl', 'value': [{'x': 1937, 'y': 136...  \n",
            "14  {'name': 'Mia', 'value': [{'x': 1966, 'y': 130...  \n",
            "15  {'name': 'Min', 'value': [{'x': 1961, 'y': 130...  \n",
            "16  {'name': 'Ne', 'value': [{'x': 1960, 'y': 1300...  \n",
            "17  {'name': 'No', 'value': [{'x': 1967, 'y': 1300...  \n",
            "18  {'name': 'Nyg', 'value': [{'x': 1925, 'y': 130...  \n",
            "19  {'name': 'Nyj', 'value': [{'x': 1960, 'y': 130...  \n",
            "20  {'name': 'Phi', 'value': [{'x': 1933, 'y': 130...  \n",
            "21  {'name': 'Ari', 'value': [{'x': 1920, 'y': 149...  \n",
            "22  {'name': 'Pit', 'value': [{'x': 1933, 'y': 130...  \n",
            "23  {'name': 'Sd', 'value': [{'x': 1960, 'y': 1300...  \n",
            "24  {'name': 'Sf', 'value': [{'x': 1946, 'y': 1300...  \n"
          ]
        }
      ]
    },
    {
      "cell_type": "code",
      "source": [
        "data_str = data['elo_score_historie'][0].replace(\"'\", \"\\\"\")\n",
        "json_obj = json.loads(data_str)\n",
        "print(json_obj['value'][1])\n",
        "home_elo = []\n",
        "away_elo = []\n",
        "for index, row in play_data.iterrows():\n",
        "    for index, elo in data.iterrows():\n",
        "        if elo['team_id'] == row['HomeTeam_ID']:\n",
        "            home_elo.append(elo['elo_score_historie'])\n",
        "        elif elo['team_id'] == row['AwayTeam_ID']:\n",
        "            away_elo.append(elo['elo_score_historie'])"
      ],
      "metadata": {
        "id": "xT-r5RNnp6Vb"
      },
      "execution_count": null,
      "outputs": []
    }
  ]
}