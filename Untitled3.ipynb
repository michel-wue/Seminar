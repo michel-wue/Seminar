{
  "cells": [
    {
      "cell_type": "markdown",
      "metadata": {
        "colab_type": "text",
        "id": "view-in-github"
      },
      "source": [
        "<a href=\"https://colab.research.google.com/github/michel-wue/Seminar/blob/Tries_API_Data_extraction/Untitled3.ipynb\" target=\"_parent\"><img src=\"https://colab.research.google.com/assets/colab-badge.svg\" alt=\"Open In Colab\"/></a>"
      ]
    },
    {
      "cell_type": "code",
      "execution_count": 7,
      "metadata": {},
      "outputs": [
        {
          "ename": "TypeError",
          "evalue": "Descriptors cannot not be created directly.\nIf this call came from a _pb2.py file, your generated code is out of date and must be regenerated with protoc >= 3.19.0.\nIf you cannot immediately regenerate your protos, some other possible workarounds are:\n 1. Downgrade the protobuf package to 3.20.x or lower.\n 2. Set PROTOCOL_BUFFERS_PYTHON_IMPLEMENTATION=python (but this will use pure-Python parsing and will be much slower).\n\nMore information: https://developers.google.com/protocol-buffers/docs/news/2022-05-06#python-updates",
          "output_type": "error",
          "traceback": [
            "\u001b[0;31m---------------------------------------------------------------------------\u001b[0m",
            "\u001b[0;31mTypeError\u001b[0m                                 Traceback (most recent call last)",
            "Cell \u001b[0;32mIn[7], line 6\u001b[0m\n\u001b[1;32m      4\u001b[0m \u001b[39mimport\u001b[39;00m \u001b[39mtensorflow\u001b[39;00m \u001b[39mas\u001b[39;00m \u001b[39mtf\u001b[39;00m\n\u001b[1;32m      5\u001b[0m \u001b[39mimport\u001b[39;00m \u001b[39mtempfile\u001b[39;00m\u001b[39m,\u001b[39m \u001b[39murllib\u001b[39;00m\u001b[39m,\u001b[39m \u001b[39mzipfile\u001b[39;00m\n\u001b[0;32m----> 6\u001b[0m \u001b[39mimport\u001b[39;00m \u001b[39mtensorflow_data_validation\u001b[39;00m \u001b[39mas\u001b[39;00m \u001b[39mtfdv\u001b[39;00m\n\u001b[1;32m      9\u001b[0m \u001b[39mfrom\u001b[39;00m \u001b[39mtensorflow\u001b[39;00m\u001b[39m.\u001b[39;00m\u001b[39mpython\u001b[39;00m\u001b[39m.\u001b[39;00m\u001b[39mlib\u001b[39;00m\u001b[39m.\u001b[39;00m\u001b[39mio\u001b[39;00m \u001b[39mimport\u001b[39;00m file_io\n\u001b[1;32m     10\u001b[0m \u001b[39mfrom\u001b[39;00m \u001b[39mtensorflow_data_validation\u001b[39;00m\u001b[39m.\u001b[39;00m\u001b[39mutils\u001b[39;00m \u001b[39mimport\u001b[39;00m slicing_util\n",
            "File \u001b[0;32m~/.local/lib/python3.8/site-packages/tensorflow_data_validation/__init__.py:27\u001b[0m\n\u001b[1;32m     24\u001b[0m \u001b[39mfrom\u001b[39;00m \u001b[39mtensorflow_data_validation\u001b[39;00m\u001b[39m.\u001b[39;00m\u001b[39mapi\u001b[39;00m\u001b[39m.\u001b[39;00m\u001b[39mstats_api\u001b[39;00m \u001b[39mimport\u001b[39;00m WriteStatisticsToTFRecord\n\u001b[1;32m     26\u001b[0m \u001b[39m# Import validation API.\u001b[39;00m\n\u001b[0;32m---> 27\u001b[0m \u001b[39mfrom\u001b[39;00m \u001b[39mtensorflow_data_validation\u001b[39;00m\u001b[39m.\u001b[39;00m\u001b[39mapi\u001b[39;00m\u001b[39m.\u001b[39;00m\u001b[39mvalidation_api\u001b[39;00m \u001b[39mimport\u001b[39;00m DetectFeatureSkew\n\u001b[1;32m     28\u001b[0m \u001b[39mfrom\u001b[39;00m \u001b[39mtensorflow_data_validation\u001b[39;00m\u001b[39m.\u001b[39;00m\u001b[39mapi\u001b[39;00m\u001b[39m.\u001b[39;00m\u001b[39mvalidation_api\u001b[39;00m \u001b[39mimport\u001b[39;00m infer_schema\n\u001b[1;32m     29\u001b[0m \u001b[39mfrom\u001b[39;00m \u001b[39mtensorflow_data_validation\u001b[39;00m\u001b[39m.\u001b[39;00m\u001b[39mapi\u001b[39;00m\u001b[39m.\u001b[39;00m\u001b[39mvalidation_api\u001b[39;00m \u001b[39mimport\u001b[39;00m update_schema\n",
            "File \u001b[0;32m~/.local/lib/python3.8/site-packages/tensorflow_data_validation/api/validation_api.py:29\u001b[0m\n\u001b[1;32m     27\u001b[0m \u001b[39mfrom\u001b[39;00m \u001b[39mtensorflow_data_validation\u001b[39;00m \u001b[39mimport\u001b[39;00m constants\n\u001b[1;32m     28\u001b[0m \u001b[39mfrom\u001b[39;00m \u001b[39mtensorflow_data_validation\u001b[39;00m \u001b[39mimport\u001b[39;00m types\n\u001b[0;32m---> 29\u001b[0m \u001b[39mfrom\u001b[39;00m \u001b[39mtensorflow_data_validation\u001b[39;00m\u001b[39m.\u001b[39;00m\u001b[39manomalies\u001b[39;00m\u001b[39m.\u001b[39;00m\u001b[39mproto\u001b[39;00m \u001b[39mimport\u001b[39;00m custom_validation_config_pb2\n\u001b[1;32m     30\u001b[0m \u001b[39mfrom\u001b[39;00m \u001b[39mtensorflow_data_validation\u001b[39;00m\u001b[39m.\u001b[39;00m\u001b[39manomalies\u001b[39;00m\u001b[39m.\u001b[39;00m\u001b[39mproto\u001b[39;00m \u001b[39mimport\u001b[39;00m validation_config_pb2\n\u001b[1;32m     31\u001b[0m \u001b[39mfrom\u001b[39;00m \u001b[39mtensorflow_data_validation\u001b[39;00m\u001b[39m.\u001b[39;00m\u001b[39manomalies\u001b[39;00m\u001b[39m.\u001b[39;00m\u001b[39mproto\u001b[39;00m \u001b[39mimport\u001b[39;00m validation_metadata_pb2\n",
            "File \u001b[0;32m~/.local/lib/python3.8/site-packages/tensorflow_data_validation/anomalies/proto/custom_validation_config_pb2.py:39\u001b[0m\n\u001b[1;32m     15\u001b[0m \u001b[39mfrom\u001b[39;00m \u001b[39mtensorflow_metadata\u001b[39;00m\u001b[39m.\u001b[39;00m\u001b[39mproto\u001b[39;00m\u001b[39m.\u001b[39;00m\u001b[39mv0\u001b[39;00m \u001b[39mimport\u001b[39;00m path_pb2 \u001b[39mas\u001b[39;00m tensorflow__metadata_dot_proto_dot_v0_dot_path__pb2\n\u001b[1;32m     18\u001b[0m DESCRIPTOR \u001b[39m=\u001b[39m _descriptor\u001b[39m.\u001b[39mFileDescriptor(\n\u001b[1;32m     19\u001b[0m   name\u001b[39m=\u001b[39m\u001b[39m'\u001b[39m\u001b[39mtensorflow_data_validation/anomalies/proto/custom_validation_config.proto\u001b[39m\u001b[39m'\u001b[39m,\n\u001b[1;32m     20\u001b[0m   package\u001b[39m=\u001b[39m\u001b[39m'\u001b[39m\u001b[39mtensorflow.data_validation\u001b[39m\u001b[39m'\u001b[39m,\n\u001b[0;32m   (...)\u001b[0m\n\u001b[1;32m     25\u001b[0m   ,\n\u001b[1;32m     26\u001b[0m   dependencies\u001b[39m=\u001b[39m[tensorflow__metadata_dot_proto_dot_v0_dot_anomalies__pb2\u001b[39m.\u001b[39mDESCRIPTOR,tensorflow__metadata_dot_proto_dot_v0_dot_path__pb2\u001b[39m.\u001b[39mDESCRIPTOR,])\n\u001b[1;32m     31\u001b[0m _VALIDATION \u001b[39m=\u001b[39m _descriptor\u001b[39m.\u001b[39mDescriptor(\n\u001b[1;32m     32\u001b[0m   name\u001b[39m=\u001b[39m\u001b[39m'\u001b[39m\u001b[39mValidation\u001b[39m\u001b[39m'\u001b[39m,\n\u001b[1;32m     33\u001b[0m   full_name\u001b[39m=\u001b[39m\u001b[39m'\u001b[39m\u001b[39mtensorflow.data_validation.Validation\u001b[39m\u001b[39m'\u001b[39m,\n\u001b[1;32m     34\u001b[0m   filename\u001b[39m=\u001b[39m\u001b[39mNone\u001b[39;00m,\n\u001b[1;32m     35\u001b[0m   file\u001b[39m=\u001b[39mDESCRIPTOR,\n\u001b[1;32m     36\u001b[0m   containing_type\u001b[39m=\u001b[39m\u001b[39mNone\u001b[39;00m,\n\u001b[1;32m     37\u001b[0m   create_key\u001b[39m=\u001b[39m_descriptor\u001b[39m.\u001b[39m_internal_create_key,\n\u001b[1;32m     38\u001b[0m   fields\u001b[39m=\u001b[39m[\n\u001b[0;32m---> 39\u001b[0m     _descriptor\u001b[39m.\u001b[39;49mFieldDescriptor(\n\u001b[1;32m     40\u001b[0m       name\u001b[39m=\u001b[39;49m\u001b[39m'\u001b[39;49m\u001b[39msql_expression\u001b[39;49m\u001b[39m'\u001b[39;49m, full_name\u001b[39m=\u001b[39;49m\u001b[39m'\u001b[39;49m\u001b[39mtensorflow.data_validation.Validation.sql_expression\u001b[39;49m\u001b[39m'\u001b[39;49m, index\u001b[39m=\u001b[39;49m\u001b[39m0\u001b[39;49m,\n\u001b[1;32m     41\u001b[0m       number\u001b[39m=\u001b[39;49m\u001b[39m1\u001b[39;49m, \u001b[39mtype\u001b[39;49m\u001b[39m=\u001b[39;49m\u001b[39m9\u001b[39;49m, cpp_type\u001b[39m=\u001b[39;49m\u001b[39m9\u001b[39;49m, label\u001b[39m=\u001b[39;49m\u001b[39m1\u001b[39;49m,\n\u001b[1;32m     42\u001b[0m       has_default_value\u001b[39m=\u001b[39;49m\u001b[39mFalse\u001b[39;49;00m, default_value\u001b[39m=\u001b[39;49m\u001b[39mb\u001b[39;49m\u001b[39m\"\u001b[39;49m\u001b[39m\"\u001b[39;49m\u001b[39m.\u001b[39;49mdecode(\u001b[39m'\u001b[39;49m\u001b[39mutf-8\u001b[39;49m\u001b[39m'\u001b[39;49m),\n\u001b[1;32m     43\u001b[0m       message_type\u001b[39m=\u001b[39;49m\u001b[39mNone\u001b[39;49;00m, enum_type\u001b[39m=\u001b[39;49m\u001b[39mNone\u001b[39;49;00m, containing_type\u001b[39m=\u001b[39;49m\u001b[39mNone\u001b[39;49;00m,\n\u001b[1;32m     44\u001b[0m       is_extension\u001b[39m=\u001b[39;49m\u001b[39mFalse\u001b[39;49;00m, extension_scope\u001b[39m=\u001b[39;49m\u001b[39mNone\u001b[39;49;00m,\n\u001b[1;32m     45\u001b[0m       serialized_options\u001b[39m=\u001b[39;49m\u001b[39mNone\u001b[39;49;00m, file\u001b[39m=\u001b[39;49mDESCRIPTOR,  create_key\u001b[39m=\u001b[39;49m_descriptor\u001b[39m.\u001b[39;49m_internal_create_key),\n\u001b[1;32m     46\u001b[0m     _descriptor\u001b[39m.\u001b[39mFieldDescriptor(\n\u001b[1;32m     47\u001b[0m       name\u001b[39m=\u001b[39m\u001b[39m'\u001b[39m\u001b[39mseverity\u001b[39m\u001b[39m'\u001b[39m, full_name\u001b[39m=\u001b[39m\u001b[39m'\u001b[39m\u001b[39mtensorflow.data_validation.Validation.severity\u001b[39m\u001b[39m'\u001b[39m, index\u001b[39m=\u001b[39m\u001b[39m1\u001b[39m,\n\u001b[1;32m     48\u001b[0m       number\u001b[39m=\u001b[39m\u001b[39m2\u001b[39m, \u001b[39mtype\u001b[39m\u001b[39m=\u001b[39m\u001b[39m14\u001b[39m, cpp_type\u001b[39m=\u001b[39m\u001b[39m8\u001b[39m, label\u001b[39m=\u001b[39m\u001b[39m1\u001b[39m,\n\u001b[1;32m     49\u001b[0m       has_default_value\u001b[39m=\u001b[39m\u001b[39mFalse\u001b[39;00m, default_value\u001b[39m=\u001b[39m\u001b[39m0\u001b[39m,\n\u001b[1;32m     50\u001b[0m       message_type\u001b[39m=\u001b[39m\u001b[39mNone\u001b[39;00m, enum_type\u001b[39m=\u001b[39m\u001b[39mNone\u001b[39;00m, containing_type\u001b[39m=\u001b[39m\u001b[39mNone\u001b[39;00m,\n\u001b[1;32m     51\u001b[0m       is_extension\u001b[39m=\u001b[39m\u001b[39mFalse\u001b[39;00m, extension_scope\u001b[39m=\u001b[39m\u001b[39mNone\u001b[39;00m,\n\u001b[1;32m     52\u001b[0m       serialized_options\u001b[39m=\u001b[39m\u001b[39mNone\u001b[39;00m, file\u001b[39m=\u001b[39mDESCRIPTOR,  create_key\u001b[39m=\u001b[39m_descriptor\u001b[39m.\u001b[39m_internal_create_key),\n\u001b[1;32m     53\u001b[0m     _descriptor\u001b[39m.\u001b[39mFieldDescriptor(\n\u001b[1;32m     54\u001b[0m       name\u001b[39m=\u001b[39m\u001b[39m'\u001b[39m\u001b[39mdescription\u001b[39m\u001b[39m'\u001b[39m, full_name\u001b[39m=\u001b[39m\u001b[39m'\u001b[39m\u001b[39mtensorflow.data_validation.Validation.description\u001b[39m\u001b[39m'\u001b[39m, index\u001b[39m=\u001b[39m\u001b[39m2\u001b[39m,\n\u001b[1;32m     55\u001b[0m       number\u001b[39m=\u001b[39m\u001b[39m3\u001b[39m, \u001b[39mtype\u001b[39m\u001b[39m=\u001b[39m\u001b[39m9\u001b[39m, cpp_type\u001b[39m=\u001b[39m\u001b[39m9\u001b[39m, label\u001b[39m=\u001b[39m\u001b[39m1\u001b[39m,\n\u001b[1;32m     56\u001b[0m       has_default_value\u001b[39m=\u001b[39m\u001b[39mFalse\u001b[39;00m, default_value\u001b[39m=\u001b[39m\u001b[39mb\u001b[39m\u001b[39m\"\u001b[39m\u001b[39m\"\u001b[39m\u001b[39m.\u001b[39mdecode(\u001b[39m'\u001b[39m\u001b[39mutf-8\u001b[39m\u001b[39m'\u001b[39m),\n\u001b[1;32m     57\u001b[0m       message_type\u001b[39m=\u001b[39m\u001b[39mNone\u001b[39;00m, enum_type\u001b[39m=\u001b[39m\u001b[39mNone\u001b[39;00m, containing_type\u001b[39m=\u001b[39m\u001b[39mNone\u001b[39;00m,\n\u001b[1;32m     58\u001b[0m       is_extension\u001b[39m=\u001b[39m\u001b[39mFalse\u001b[39;00m, extension_scope\u001b[39m=\u001b[39m\u001b[39mNone\u001b[39;00m,\n\u001b[1;32m     59\u001b[0m       serialized_options\u001b[39m=\u001b[39m\u001b[39mNone\u001b[39;00m, file\u001b[39m=\u001b[39mDESCRIPTOR,  create_key\u001b[39m=\u001b[39m_descriptor\u001b[39m.\u001b[39m_internal_create_key),\n\u001b[1;32m     60\u001b[0m     _descriptor\u001b[39m.\u001b[39mFieldDescriptor(\n\u001b[1;32m     61\u001b[0m       name\u001b[39m=\u001b[39m\u001b[39m'\u001b[39m\u001b[39min_environment\u001b[39m\u001b[39m'\u001b[39m, full_name\u001b[39m=\u001b[39m\u001b[39m'\u001b[39m\u001b[39mtensorflow.data_validation.Validation.in_environment\u001b[39m\u001b[39m'\u001b[39m, index\u001b[39m=\u001b[39m\u001b[39m3\u001b[39m,\n\u001b[1;32m     62\u001b[0m       number\u001b[39m=\u001b[39m\u001b[39m4\u001b[39m, \u001b[39mtype\u001b[39m\u001b[39m=\u001b[39m\u001b[39m9\u001b[39m, cpp_type\u001b[39m=\u001b[39m\u001b[39m9\u001b[39m, label\u001b[39m=\u001b[39m\u001b[39m3\u001b[39m,\n\u001b[1;32m     63\u001b[0m       has_default_value\u001b[39m=\u001b[39m\u001b[39mFalse\u001b[39;00m, default_value\u001b[39m=\u001b[39m[],\n\u001b[1;32m     64\u001b[0m       message_type\u001b[39m=\u001b[39m\u001b[39mNone\u001b[39;00m, enum_type\u001b[39m=\u001b[39m\u001b[39mNone\u001b[39;00m, containing_type\u001b[39m=\u001b[39m\u001b[39mNone\u001b[39;00m,\n\u001b[1;32m     65\u001b[0m       is_extension\u001b[39m=\u001b[39m\u001b[39mFalse\u001b[39;00m, extension_scope\u001b[39m=\u001b[39m\u001b[39mNone\u001b[39;00m,\n\u001b[1;32m     66\u001b[0m       serialized_options\u001b[39m=\u001b[39m\u001b[39mNone\u001b[39;00m, file\u001b[39m=\u001b[39mDESCRIPTOR,  create_key\u001b[39m=\u001b[39m_descriptor\u001b[39m.\u001b[39m_internal_create_key),\n\u001b[1;32m     67\u001b[0m   ],\n\u001b[1;32m     68\u001b[0m   extensions\u001b[39m=\u001b[39m[\n\u001b[1;32m     69\u001b[0m   ],\n\u001b[1;32m     70\u001b[0m   nested_types\u001b[39m=\u001b[39m[],\n\u001b[1;32m     71\u001b[0m   enum_types\u001b[39m=\u001b[39m[\n\u001b[1;32m     72\u001b[0m   ],\n\u001b[1;32m     73\u001b[0m   serialized_options\u001b[39m=\u001b[39m\u001b[39mNone\u001b[39;00m,\n\u001b[1;32m     74\u001b[0m   is_extendable\u001b[39m=\u001b[39m\u001b[39mFalse\u001b[39;00m,\n\u001b[1;32m     75\u001b[0m   syntax\u001b[39m=\u001b[39m\u001b[39m'\u001b[39m\u001b[39mproto2\u001b[39m\u001b[39m'\u001b[39m,\n\u001b[1;32m     76\u001b[0m   extension_ranges\u001b[39m=\u001b[39m[],\n\u001b[1;32m     77\u001b[0m   oneofs\u001b[39m=\u001b[39m[\n\u001b[1;32m     78\u001b[0m   ],\n\u001b[1;32m     79\u001b[0m   serialized_start\u001b[39m=\u001b[39m\u001b[39m193\u001b[39m,\n\u001b[1;32m     80\u001b[0m   serialized_end\u001b[39m=\u001b[39m\u001b[39m338\u001b[39m,\n\u001b[1;32m     81\u001b[0m )\n\u001b[1;32m     84\u001b[0m _FEATUREVALIDATION \u001b[39m=\u001b[39m _descriptor\u001b[39m.\u001b[39mDescriptor(\n\u001b[1;32m     85\u001b[0m   name\u001b[39m=\u001b[39m\u001b[39m'\u001b[39m\u001b[39mFeatureValidation\u001b[39m\u001b[39m'\u001b[39m,\n\u001b[1;32m     86\u001b[0m   full_name\u001b[39m=\u001b[39m\u001b[39m'\u001b[39m\u001b[39mtensorflow.data_validation.FeatureValidation\u001b[39m\u001b[39m'\u001b[39m,\n\u001b[0;32m   (...)\u001b[0m\n\u001b[1;32m    126\u001b[0m   serialized_end\u001b[39m=\u001b[39m\u001b[39m495\u001b[39m,\n\u001b[1;32m    127\u001b[0m )\n\u001b[1;32m    130\u001b[0m _FEATUREPAIRVALIDATION \u001b[39m=\u001b[39m _descriptor\u001b[39m.\u001b[39mDescriptor(\n\u001b[1;32m    131\u001b[0m   name\u001b[39m=\u001b[39m\u001b[39m'\u001b[39m\u001b[39mFeaturePairValidation\u001b[39m\u001b[39m'\u001b[39m,\n\u001b[1;32m    132\u001b[0m   full_name\u001b[39m=\u001b[39m\u001b[39m'\u001b[39m\u001b[39mtensorflow.data_validation.FeaturePairValidation\u001b[39m\u001b[39m'\u001b[39m,\n\u001b[0;32m   (...)\u001b[0m\n\u001b[1;32m    186\u001b[0m   serialized_end\u001b[39m=\u001b[39m\u001b[39m745\u001b[39m,\n\u001b[1;32m    187\u001b[0m )\n",
            "File \u001b[0;32m~/.local/lib/python3.8/site-packages/google/protobuf/descriptor.py:561\u001b[0m, in \u001b[0;36mFieldDescriptor.__new__\u001b[0;34m(cls, name, full_name, index, number, type, cpp_type, label, default_value, message_type, enum_type, containing_type, is_extension, extension_scope, options, serialized_options, has_default_value, containing_oneof, json_name, file, create_key)\u001b[0m\n\u001b[1;32m    555\u001b[0m \u001b[39mdef\u001b[39;00m \u001b[39m__new__\u001b[39m(\u001b[39mcls\u001b[39m, name, full_name, index, number, \u001b[39mtype\u001b[39m, cpp_type, label,\n\u001b[1;32m    556\u001b[0m             default_value, message_type, enum_type, containing_type,\n\u001b[1;32m    557\u001b[0m             is_extension, extension_scope, options\u001b[39m=\u001b[39m\u001b[39mNone\u001b[39;00m,\n\u001b[1;32m    558\u001b[0m             serialized_options\u001b[39m=\u001b[39m\u001b[39mNone\u001b[39;00m,\n\u001b[1;32m    559\u001b[0m             has_default_value\u001b[39m=\u001b[39m\u001b[39mTrue\u001b[39;00m, containing_oneof\u001b[39m=\u001b[39m\u001b[39mNone\u001b[39;00m, json_name\u001b[39m=\u001b[39m\u001b[39mNone\u001b[39;00m,\n\u001b[1;32m    560\u001b[0m             file\u001b[39m=\u001b[39m\u001b[39mNone\u001b[39;00m, create_key\u001b[39m=\u001b[39m\u001b[39mNone\u001b[39;00m):  \u001b[39m# pylint: disable=redefined-builtin\u001b[39;00m\n\u001b[0;32m--> 561\u001b[0m   _message\u001b[39m.\u001b[39;49mMessage\u001b[39m.\u001b[39;49m_CheckCalledFromGeneratedFile()\n\u001b[1;32m    562\u001b[0m   \u001b[39mif\u001b[39;00m is_extension:\n\u001b[1;32m    563\u001b[0m     \u001b[39mreturn\u001b[39;00m _message\u001b[39m.\u001b[39mdefault_pool\u001b[39m.\u001b[39mFindExtensionByName(full_name)\n",
            "\u001b[0;31mTypeError\u001b[0m: Descriptors cannot not be created directly.\nIf this call came from a _pb2.py file, your generated code is out of date and must be regenerated with protoc >= 3.19.0.\nIf you cannot immediately regenerate your protos, some other possible workarounds are:\n 1. Downgrade the protobuf package to 3.20.x or lower.\n 2. Set PROTOCOL_BUFFERS_PYTHON_IMPLEMENTATION=python (but this will use pure-Python parsing and will be much slower).\n\nMore information: https://developers.google.com/protocol-buffers/docs/news/2022-05-06#python-updates"
          ]
        }
      ],
      "source": [
        "# Import packages\n",
        "import os\n",
        "import pandas as pd\n",
        "import tensorflow as tf\n",
        "import tempfile, urllib, zipfile\n",
        "import tensorflow_data_validation as tfdv\n",
        "\n",
        "\n",
        "from tensorflow.python.lib.io import file_io\n",
        "from tensorflow_data_validation.utils import slicing_util\n",
        "from tensorflow_metadata.proto.v0.statistics_pb2 import DatasetFeatureStatisticsList, DatasetFeatureStatistics\n",
        "\n",
        "# Set TF's logger to only display errors to avoid internal warnings being shown\n",
        "tf.get_logger().setLevel('ERROR')"
      ]
    },
    {
      "cell_type": "code",
      "execution_count": 154,
      "metadata": {
        "id": "bf7mXYH2I4k-"
      },
      "outputs": [],
      "source": [
        "import requests as r\n",
        "import pandas as pd\n",
        "from pandas import json_normalize\n",
        "import re\n",
        "# from google.colab import drive\n",
        "import datetime\n",
        "from os import times\n",
        "import xgboost as xgb\n",
        "from sklearn.preprocessing import StandardScaler\n",
        "from sklearn.datasets import make_classification\n",
        "from sklearn.model_selection import train_test_split\n",
        "from matplotlib import pyplot as plt\n",
        "from sklearn.preprocessing import OneHotEncoder\n",
        "from sklearn.compose import ColumnTransformer\n",
        "from sklearn.pipeline import Pipeline\n",
        "from datetime import datetime, timedelta\n",
        "from sklearn.metrics import accuracy_score\n",
        "from sklearn.metrics import confusion_matrix, classification_report\n",
        "import numpy as np\n",
        "from sklearn.metrics import mean_absolute_error\n",
        "from sklearn.metrics import accuracy_score, precision_score, recall_score, f1_score\n"
      ]
    },
    {
      "cell_type": "code",
      "execution_count": 3,
      "metadata": {
        "colab": {
          "base_uri": "https://localhost:8080/"
        },
        "id": "cssogtW2I6Xj",
        "outputId": "f2931644-a8f9-4cf2-f9e2-a812e1d688f7"
      },
      "outputs": [
        {
          "name": "stdout",
          "output_type": "stream",
          "text": [
            "Mounted at /content/drive\n"
          ]
        }
      ],
      "source": [
        "drive.mount('/content/drive')"
      ]
    },
    {
      "cell_type": "code",
      "execution_count": 146,
      "metadata": {
        "id": "JzdxCH7OI8dv"
      },
      "outputs": [],
      "source": [
        "play_data = pd.read_csv(\n",
        "    '/content/drive/MyDrive/seminar/full_data3.csv'\n",
        ")"
      ]
    },
    {
      "cell_type": "code",
      "execution_count": 121,
      "metadata": {
        "colab": {
          "base_uri": "https://localhost:8080/"
        },
        "id": "wUDUdoaAJhaS",
        "outputId": "3c1b2031-f049-4b8b-f9f5-de90ef7c2407"
      },
      "outputs": [
        {
          "name": "stdout",
          "output_type": "stream",
          "text": [
            "['playID', 'awayScore', 'homeScore', 'scoreValue', 'statYardage', 'quarter', 'clock', 'start_distance', 'start_yardlinie', 'start_yardsToEndzone', 'end_distance', 'end_yardlinie', 'end_yardsToEndzone', 'Winner', 'elo_score_away', 'elo_score_home', 'attendence']\n",
            "['GameID', 'type_text', 'team_play', 'start_down', 'end_down', 'season', 'week', 'Home_teamname', 'Away_teamname']\n"
          ]
        }
      ],
      "source": [
        "numerical_cols = [cname for cname in play_data.columns if play_data[cname].dtype != \"category\"]\n",
        "cardinality_cols = [cname for cname in play_data.columns if play_data[cname].dtype == \"category\"]\n",
        "print(numerical_cols)\n",
        "print(cardinality_cols)"
      ]
    },
    {
      "cell_type": "code",
      "execution_count": 147,
      "metadata": {
        "id": "yxEVCrqgKCzF"
      },
      "outputs": [],
      "source": [
        "object_cols = ['GameID', 'type_text', 'team_play', 'start_down', 'end_down', 'season', 'week', 'Home_teamname', 'Away_teamname']\n",
        "play_data[object_cols] = play_data[object_cols].astype('category')\n"
      ]
    },
    {
      "cell_type": "code",
      "execution_count": 148,
      "metadata": {
        "colab": {
          "base_uri": "https://localhost:8080/"
        },
        "id": "uPJ21F5ZDqL9",
        "outputId": "0d34201b-d5a3-47e1-a120-061cc2f5c9a0"
      },
      "outputs": [
        {
          "name": "stdout",
          "output_type": "stream",
          "text": [
            "           GameID         playID  awayScore  homeScore  scoreValue  \\\n",
            "0       400951620    40095162037          0          0           0   \n",
            "1       400951620    40095162052          0          0           0   \n",
            "2       400951620    40095162073          0          0           0   \n",
            "3       400951620   400951620102          0          0           0   \n",
            "4       400951620   400951620124          0          0           0   \n",
            "...           ...            ...        ...        ...         ...   \n",
            "356583  401437952  4014379523753         20         16           0   \n",
            "356584  401437952  4014379523764         20         16           0   \n",
            "356585  401437952  4014379523774         20         16           0   \n",
            "356586  401437952  4014379523812         20         16           0   \n",
            "356587  401437952  4014379523833         20         16           0   \n",
            "\n",
            "        statYardage  quarter      clock          type_text team_play  ...  \\\n",
            "0                 0        1  15.000000            Kickoff       cin  ...   \n",
            "1                 4        1  15.000000               Rush       hou  ...   \n",
            "2                 0        1  14.416667  Pass Incompletion       hou  ...   \n",
            "3                 0        1  14.316667  Pass Incompletion       hou  ...   \n",
            "4                33        1  14.233333               Punt       hou  ...   \n",
            "...             ...      ...        ...                ...       ...  ...   \n",
            "356583            2        4   2.000000               Rush       det  ...   \n",
            "356584            0        4   1.250000            Timeout       det  ...   \n",
            "356585            9        4   1.233333     Pass Reception       det  ...   \n",
            "356586           -1        4   0.550000               Rush       det  ...   \n",
            "356587            0        4   0.000000        End of Game    NoTeam  ...   \n",
            "\n",
            "       end_yardlinie  end_yardsToEndzone  season  week Winner  Home_teamname  \\\n",
            "0                 75                  75    2017     2   Away            cin   \n",
            "1                 71                  71    2017     2   Away            cin   \n",
            "2                 71                  71    2017     2   Away            cin   \n",
            "3                 71                  71    2017     2   Away            cin   \n",
            "4                 46                  54    2017     2   Away            cin   \n",
            "...              ...                 ...     ...   ...    ...            ...   \n",
            "356583            15                  15    2022    18   Away             gb   \n",
            "356584            15                  15    2022    18   Away             gb   \n",
            "356585             6                   6    2022    18   Away             gb   \n",
            "356586             7                   7    2022    18   Away             gb   \n",
            "356587             7                   7    2022    18   Away             gb   \n",
            "\n",
            "        Away_teamname  elo_score_away elo_score_home attendence  \n",
            "0                 hou         1451.21        1476.20   0.808090  \n",
            "1                 hou         1451.21        1476.20   0.808090  \n",
            "2                 hou         1451.21        1476.20   0.808090  \n",
            "3                 hou         1451.21        1476.20   0.808090  \n",
            "4                 hou         1451.21        1476.20   0.808090  \n",
            "...               ...             ...            ...        ...  \n",
            "356583            det         1485.30        1557.21   0.964833  \n",
            "356584            det         1485.30        1557.21   0.964833  \n",
            "356585            det         1485.30        1557.21   0.964833  \n",
            "356586            det         1485.30        1557.21   0.964833  \n",
            "356587            det         1485.30        1557.21   0.964833  \n",
            "\n",
            "[356588 rows x 26 columns]\n"
          ]
        }
      ],
      "source": [
        "import pandas as pd\n",
        "from datetime import timedelta\n",
        "\n",
        "# Assuming your DataFrame is called \"play_data\"\n",
        "play_data['clock'] = play_data['clock'].apply(lambda x: timedelta(days=int(x.split()[0]), hours=int(x.split()[2].split(':')[0]), minutes=int(x.split()[2].split(':')[1]), seconds=int(x.split()[2].split(':')[2])).total_seconds() / 60.0)\n",
        "\n",
        "# Print the updated DataFrame\n",
        "print(play_data)\n",
        "\n"
      ]
    },
    {
      "cell_type": "code",
      "execution_count": 65,
      "metadata": {
        "colab": {
          "base_uri": "https://localhost:8080/",
          "height": 183
        },
        "id": "1aFuxWN5Q2zp",
        "outputId": "0d6a52cf-6038-4cf7-c22f-5c7d9e34b6fc"
      },
      "outputs": [
        {
          "ename": "TypeError",
          "evalue": "ignored",
          "output_type": "error",
          "traceback": [
            "\u001b[0;31m---------------------------------------------------------------------------\u001b[0m",
            "\u001b[0;31mTypeError\u001b[0m                                 Traceback (most recent call last)",
            "\u001b[0;32m<ipython-input-65-9a7f0a89f1af>\u001b[0m in \u001b[0;36m<cell line: 1>\u001b[0;34m()\u001b[0m\n\u001b[0;32m----> 1\u001b[0;31m \u001b[0mplay_data\u001b[0m\u001b[0;34m[\u001b[0m\u001b[0;34m'clock'\u001b[0m\u001b[0;34m]\u001b[0m  \u001b[0;34m=\u001b[0m \u001b[0mdatetime\u001b[0m\u001b[0;34m.\u001b[0m\u001b[0mstrptime\u001b[0m\u001b[0;34m(\u001b[0m\u001b[0mplay_data\u001b[0m\u001b[0;34m[\u001b[0m\u001b[0;34m'clock'\u001b[0m\u001b[0;34m]\u001b[0m\u001b[0;34m,\u001b[0m \u001b[0;34m\"%d days %H:%M:%S\"\u001b[0m\u001b[0;34m)\u001b[0m\u001b[0;34m\u001b[0m\u001b[0;34m\u001b[0m\u001b[0m\n\u001b[0m\u001b[1;32m      2\u001b[0m \u001b[0mplay_data\u001b[0m\u001b[0;34m[\u001b[0m\u001b[0;34m'clock'\u001b[0m\u001b[0;34m]\u001b[0m  \u001b[0;34m=\u001b[0m \u001b[0mplay_data\u001b[0m\u001b[0;34m[\u001b[0m\u001b[0;34m'clock'\u001b[0m\u001b[0;34m]\u001b[0m \u001b[0;34m.\u001b[0m\u001b[0mtotal_seconds\u001b[0m\u001b[0;34m(\u001b[0m\u001b[0;34m)\u001b[0m \u001b[0;34m/\u001b[0m \u001b[0;36m60.0\u001b[0m\u001b[0;34m\u001b[0m\u001b[0;34m\u001b[0m\u001b[0m\n",
            "\u001b[0;31mTypeError\u001b[0m: strptime() argument 1 must be str, not Series"
          ]
        }
      ],
      "source": []
    },
    {
      "cell_type": "code",
      "execution_count": 82,
      "metadata": {
        "colab": {
          "base_uri": "https://localhost:8080/"
        },
        "id": "fCTs8VgjU1HM",
        "outputId": "24d7550f-3e04-4cb4-f7f5-6d17def57b62"
      },
      "outputs": [
        {
          "data": {
            "text/plain": [
              "GameID                  0\n",
              "playID                  0\n",
              "awayScore               0\n",
              "homeScore               0\n",
              "scoreValue              0\n",
              "statYardage             0\n",
              "quarter                 0\n",
              "clock                   0\n",
              "type_text               0\n",
              "team_play               0\n",
              "start_down              0\n",
              "start_distance          0\n",
              "start_yardlinie         0\n",
              "start_yardsToEndzone    0\n",
              "end_down                0\n",
              "end_distance            0\n",
              "end_yardlinie           0\n",
              "end_yardsToEndzone      0\n",
              "season                  0\n",
              "week                    0\n",
              "Winner                  0\n",
              "Home_teamname           0\n",
              "Away_teamname           0\n",
              "elo_score_away          0\n",
              "elo_score_home          0\n",
              "attendence              0\n",
              "dtype: int64"
            ]
          },
          "execution_count": 82,
          "metadata": {},
          "output_type": "execute_result"
        }
      ],
      "source": [
        "play_data.isnull().sum()"
      ]
    },
    {
      "cell_type": "code",
      "execution_count": 153,
      "metadata": {
        "colab": {
          "base_uri": "https://localhost:8080/"
        },
        "id": "X-CViE9RbsC-",
        "outputId": "cffdb6e5-d929-4a62-dec3-5f55a908e5eb"
      },
      "outputs": [
        {
          "name": "stdout",
          "output_type": "stream",
          "text": [
            "      GameID        playID  awayScore  homeScore  scoreValue  statYardage  \\\n",
            "0  400951620   40095162037          0          0           0            0   \n",
            "1  400951620   40095162052          0          0           0            4   \n",
            "2  400951620   40095162073          0          0           0            0   \n",
            "3  400951620  400951620102          0          0           0            0   \n",
            "4  400951620  400951620124          0          0           0           33   \n",
            "\n",
            "   quarter      clock          type_text team_play  ... end_yardlinie  \\\n",
            "0        1  15.000000            Kickoff       cin  ...            75   \n",
            "1        1  15.000000               Rush       hou  ...            71   \n",
            "2        1  14.416667  Pass Incompletion       hou  ...            71   \n",
            "3        1  14.316667  Pass Incompletion       hou  ...            71   \n",
            "4        1  14.233333               Punt       hou  ...            46   \n",
            "\n",
            "   end_yardsToEndzone  season  week Winner  Home_teamname  Away_teamname  \\\n",
            "0                  75    2017     2      1            cin            hou   \n",
            "1                  71    2017     2      1            cin            hou   \n",
            "2                  71    2017     2      1            cin            hou   \n",
            "3                  71    2017     2      1            cin            hou   \n",
            "4                  54    2017     2      1            cin            hou   \n",
            "\n",
            "   elo_score_away elo_score_home attendence  \n",
            "0         1451.21         1476.2    0.80809  \n",
            "1         1451.21         1476.2    0.80809  \n",
            "2         1451.21         1476.2    0.80809  \n",
            "3         1451.21         1476.2    0.80809  \n",
            "4         1451.21         1476.2    0.80809  \n",
            "\n",
            "[5 rows x 26 columns]\n"
          ]
        }
      ],
      "source": [
        "for index, row in play_data.iterrows():\n",
        "  if row['Winner'] == 'Home':\n",
        "    play_data.at[index, 'Winner']=0\n",
        "  elif row['Winner'] == 'Away':\n",
        "    play_data.at[index, 'Winner']=1\n",
        "print(play_data.head())"
      ]
    },
    {
      "cell_type": "code",
      "execution_count": 101,
      "metadata": {
        "colab": {
          "base_uri": "https://localhost:8080/"
        },
        "id": "plsDn5FCDCVd",
        "outputId": "5fb3f995-463e-4854-992a-9ddd2572f55c"
      },
      "outputs": [
        {
          "data": {
            "text/plain": [
              "array([1, 0], dtype=object)"
            ]
          },
          "execution_count": 101,
          "metadata": {},
          "output_type": "execute_result"
        }
      ],
      "source": [
        "play_data['Winner'].unique()"
      ]
    },
    {
      "cell_type": "code",
      "execution_count": 156,
      "metadata": {
        "id": "VyNNytpGfKcL"
      },
      "outputs": [],
      "source": [
        "# Load dataset\n",
        "data = play_data\n",
        "\n",
        "# Separate target from predictors\n",
        "y = data['Winner']\n",
        "X = data.drop('Winner', axis=1)\n",
        "\n",
        "# Train-test split\n",
        "X_train, X_valid, y_train, y_valid = train_test_split(X, y, train_size=0.8, test_size=0.2,random_state=0)\n"
      ]
    },
    {
      "cell_type": "code",
      "execution_count": 110,
      "metadata": {
        "id": "wDD31ynkAXRR"
      },
      "outputs": [],
      "source": [
        "dtrain = xgb.DMatrix(data=X_train, label=y_train, enable_categorical=True)\n",
        "\n",
        "dvalid = xgb.DMatrix(data=X_valid, label=y_valid, enable_categorical=True)"
      ]
    },
    {
      "cell_type": "code",
      "execution_count": 150,
      "metadata": {
        "colab": {
          "base_uri": "https://localhost:8080/"
        },
        "id": "5BwhUdD7G-U1",
        "outputId": "624a0d8c-13da-4169-b064-646973a12010"
      },
      "outputs": [
        {
          "name": "stdout",
          "output_type": "stream",
          "text": [
            "GameID                  0\n",
            "playID                  0\n",
            "awayScore               0\n",
            "homeScore               0\n",
            "scoreValue              0\n",
            "statYardage             0\n",
            "quarter                 0\n",
            "clock                   0\n",
            "type_text               0\n",
            "team_play               0\n",
            "start_down              0\n",
            "start_distance          0\n",
            "start_yardlinie         0\n",
            "start_yardsToEndzone    0\n",
            "end_down                0\n",
            "end_distance            0\n",
            "end_yardlinie           0\n",
            "end_yardsToEndzone      0\n",
            "season                  0\n",
            "week                    0\n",
            "Home_teamname           0\n",
            "Away_teamname           0\n",
            "elo_score_away          0\n",
            "elo_score_home          0\n",
            "attendence              0\n",
            "dtype: int64\n",
            "0\n"
          ]
        }
      ],
      "source": [
        "print(X_valid.isnull().sum())\n",
        "print(y_valid.isnull().sum())"
      ]
    },
    {
      "cell_type": "code",
      "execution_count": 157,
      "metadata": {
        "id": "DylJJNihWA4p"
      },
      "outputs": [],
      "source": [
        "# Preprocessing numerical columns\n",
        "numerical_transformer = StandardScaler() \n",
        "\n",
        "# Preprocessing categorical columns\n",
        "categorical_transformer = Pipeline(steps=[\n",
        "    ('onehot', OneHotEncoder(handle_unknown='ignore')) \n",
        "])\n",
        "\n",
        "# Bundle both preprocessors\n",
        "preprocessor = ColumnTransformer(transformers=[\n",
        "    ('cat', categorical_transformer, cardinality_cols)\n",
        "])"
      ]
    },
    {
      "cell_type": "code",
      "execution_count": 120,
      "metadata": {
        "colab": {
          "base_uri": "https://localhost:8080/"
        },
        "id": "hqMlQP9yM5si",
        "outputId": "b5a35b15-0d11-49cb-9dec-cb83054a1570"
      },
      "outputs": [
        {
          "name": "stdout",
          "output_type": "stream",
          "text": [
            "['playID', 'awayScore', 'homeScore', 'scoreValue', 'statYardage', 'quarter', 'clock', 'start_distance', 'start_yardlinie', 'start_yardsToEndzone', 'end_distance', 'end_yardlinie', 'end_yardsToEndzone', 'elo_score_away', 'elo_score_home', 'attendence']\n"
          ]
        }
      ],
      "source": [
        "print(numerical_cols)"
      ]
    },
    {
      "cell_type": "code",
      "execution_count": 160,
      "metadata": {
        "colab": {
          "base_uri": "https://localhost:8080/"
        },
        "id": "e0Roxt6MXEJS",
        "outputId": "3d7a9d34-58ba-4b9b-8a6c-049955fd6e1b"
      },
      "outputs": [
        {
          "name": "stdout",
          "output_type": "stream",
          "text": [
            "[0 1]\n"
          ]
        }
      ],
      "source": [
        "import numpy as np\n",
        "\n",
        "unique_values = np.unique(y_valid)\n",
        "print(unique_values)\n",
        "y_valid = y_valid.astype(int)"
      ]
    },
    {
      "cell_type": "code",
      "execution_count": 164,
      "metadata": {
        "colab": {
          "base_uri": "https://localhost:8080/"
        },
        "id": "Q3mtzKZPZZEC",
        "outputId": "acf1d879-c66e-4a20-a328-1d6f3fa20ebc"
      },
      "outputs": [
        {
          "name": "stdout",
          "output_type": "stream",
          "text": [
            "Accuracy: 0.78\n",
            "Precision: 0.83\n",
            "Recall: 0.64\n",
            "F1 Score: 0.72\n"
          ]
        }
      ],
      "source": [
        "model = xgb.XGBClassifier(n_estimators=100, max_depth=6, learning_rate=0.1)\n",
        "# Bundle preprocessing and modeling code in a pipeline\n",
        "complete_pipeline = Pipeline(steps=[\n",
        "    ('preprocessor', preprocessor),\n",
        "    ('model', model)\n",
        "])\n",
        "\n",
        "# Bundle preprocessing and modeling code in a pipeline\n",
        "\n",
        "# Preprocess the raw training data and fit the model\n",
        "complete_pipeline.fit(X_train, y_train)\n",
        "\n",
        "# Preprocess the raw validation data and make predictions\n",
        "preds = complete_pipeline.predict(X_valid)\n",
        "\n",
        "accuracy = accuracy_score(y_valid, preds)\n",
        "precision = precision_score(y_valid, preds)\n",
        "recall = recall_score(y_valid, preds)\n",
        "f1 = f1_score(y_valid, preds)\n",
        "\n",
        "print(\"Accuracy: {:.2f}\".format(accuracy))\n",
        "print(\"Precision: {:.2f}\".format(precision))\n",
        "print(\"Recall: {:.2f}\".format(recall))\n",
        "print(\"F1 Score: {:.2f}\".format(f1))\n",
        "\n"
      ]
    },
    {
      "cell_type": "code",
      "execution_count": 38,
      "metadata": {
        "colab": {
          "base_uri": "https://localhost:8080/",
          "height": 380
        },
        "id": "UESvxgaDYkOR",
        "outputId": "46cc9618-6923-4c03-c91f-34dae99d86eb"
      },
      "outputs": [
        {
          "ename": "ValueError",
          "evalue": "ignored",
          "output_type": "error",
          "traceback": [
            "\u001b[0;31m---------------------------------------------------------------------------\u001b[0m",
            "\u001b[0;31mValueError\u001b[0m                                Traceback (most recent call last)",
            "\u001b[0;32m<ipython-input-38-9122468e3d3f>\u001b[0m in \u001b[0;36m<cell line: 1>\u001b[0;34m()\u001b[0m\n\u001b[0;32m----> 1\u001b[0;31m model.fit(X_train, y_train, \n\u001b[0m\u001b[1;32m      2\u001b[0m             \u001b[0meval_set\u001b[0m\u001b[0;34m=\u001b[0m\u001b[0;34m[\u001b[0m\u001b[0;34m(\u001b[0m\u001b[0mX_train\u001b[0m\u001b[0;34m,\u001b[0m \u001b[0my_train\u001b[0m\u001b[0;34m)\u001b[0m\u001b[0;34m,\u001b[0m \u001b[0;34m(\u001b[0m\u001b[0mX_valid\u001b[0m\u001b[0;34m,\u001b[0m \u001b[0my_valid\u001b[0m\u001b[0;34m)\u001b[0m\u001b[0;34m]\u001b[0m\u001b[0;34m,\u001b[0m\u001b[0;34m\u001b[0m\u001b[0;34m\u001b[0m\u001b[0m\n\u001b[1;32m      3\u001b[0m             early_stopping_rounds=20)\n",
            "\u001b[0;32m/usr/local/lib/python3.10/dist-packages/xgboost/core.py\u001b[0m in \u001b[0;36minner_f\u001b[0;34m(*args, **kwargs)\u001b[0m\n\u001b[1;32m    618\u001b[0m             \u001b[0;32mfor\u001b[0m \u001b[0mk\u001b[0m\u001b[0;34m,\u001b[0m \u001b[0marg\u001b[0m \u001b[0;32min\u001b[0m \u001b[0mzip\u001b[0m\u001b[0;34m(\u001b[0m\u001b[0msig\u001b[0m\u001b[0;34m.\u001b[0m\u001b[0mparameters\u001b[0m\u001b[0;34m,\u001b[0m \u001b[0margs\u001b[0m\u001b[0;34m)\u001b[0m\u001b[0;34m:\u001b[0m\u001b[0;34m\u001b[0m\u001b[0;34m\u001b[0m\u001b[0m\n\u001b[1;32m    619\u001b[0m                 \u001b[0mkwargs\u001b[0m\u001b[0;34m[\u001b[0m\u001b[0mk\u001b[0m\u001b[0;34m]\u001b[0m \u001b[0;34m=\u001b[0m \u001b[0marg\u001b[0m\u001b[0;34m\u001b[0m\u001b[0;34m\u001b[0m\u001b[0m\n\u001b[0;32m--> 620\u001b[0;31m             \u001b[0;32mreturn\u001b[0m \u001b[0mfunc\u001b[0m\u001b[0;34m(\u001b[0m\u001b[0;34m**\u001b[0m\u001b[0mkwargs\u001b[0m\u001b[0;34m)\u001b[0m\u001b[0;34m\u001b[0m\u001b[0;34m\u001b[0m\u001b[0m\n\u001b[0m\u001b[1;32m    621\u001b[0m \u001b[0;34m\u001b[0m\u001b[0m\n\u001b[1;32m    622\u001b[0m         \u001b[0;32mreturn\u001b[0m \u001b[0minner_f\u001b[0m\u001b[0;34m\u001b[0m\u001b[0;34m\u001b[0m\u001b[0m\n",
            "\u001b[0;32m/usr/local/lib/python3.10/dist-packages/xgboost/sklearn.py\u001b[0m in \u001b[0;36mfit\u001b[0;34m(self, X, y, sample_weight, base_margin, eval_set, eval_metric, early_stopping_rounds, verbose, xgb_model, sample_weight_eval_set, base_margin_eval_set, feature_weights, callbacks)\u001b[0m\n\u001b[1;32m   1469\u001b[0m                 \u001b[0mxgb_model\u001b[0m\u001b[0;34m,\u001b[0m \u001b[0meval_metric\u001b[0m\u001b[0;34m,\u001b[0m \u001b[0mparams\u001b[0m\u001b[0;34m,\u001b[0m \u001b[0mearly_stopping_rounds\u001b[0m\u001b[0;34m,\u001b[0m \u001b[0mcallbacks\u001b[0m\u001b[0;34m\u001b[0m\u001b[0;34m\u001b[0m\u001b[0m\n\u001b[1;32m   1470\u001b[0m             )\n\u001b[0;32m-> 1471\u001b[0;31m             train_dmatrix, evals = _wrap_evaluation_matrices(\n\u001b[0m\u001b[1;32m   1472\u001b[0m                 \u001b[0mmissing\u001b[0m\u001b[0;34m=\u001b[0m\u001b[0mself\u001b[0m\u001b[0;34m.\u001b[0m\u001b[0mmissing\u001b[0m\u001b[0;34m,\u001b[0m\u001b[0;34m\u001b[0m\u001b[0;34m\u001b[0m\u001b[0m\n\u001b[1;32m   1473\u001b[0m                 \u001b[0mX\u001b[0m\u001b[0;34m=\u001b[0m\u001b[0mX\u001b[0m\u001b[0;34m,\u001b[0m\u001b[0;34m\u001b[0m\u001b[0;34m\u001b[0m\u001b[0m\n",
            "\u001b[0;32m/usr/local/lib/python3.10/dist-packages/xgboost/sklearn.py\u001b[0m in \u001b[0;36m_wrap_evaluation_matrices\u001b[0;34m(missing, X, y, group, qid, sample_weight, base_margin, feature_weights, eval_set, sample_weight_eval_set, base_margin_eval_set, eval_group, eval_qid, create_dmatrix, enable_categorical, feature_types)\u001b[0m\n\u001b[1;32m    446\u001b[0m     \"\"\"Convert array_like evaluation matrices into DMatrix.  Perform validation on the\n\u001b[1;32m    447\u001b[0m     way.\"\"\"\n\u001b[0;32m--> 448\u001b[0;31m     train_dmatrix = create_dmatrix(\n\u001b[0m\u001b[1;32m    449\u001b[0m         \u001b[0mdata\u001b[0m\u001b[0;34m=\u001b[0m\u001b[0mX\u001b[0m\u001b[0;34m,\u001b[0m\u001b[0;34m\u001b[0m\u001b[0;34m\u001b[0m\u001b[0m\n\u001b[1;32m    450\u001b[0m         \u001b[0mlabel\u001b[0m\u001b[0;34m=\u001b[0m\u001b[0my\u001b[0m\u001b[0;34m,\u001b[0m\u001b[0;34m\u001b[0m\u001b[0;34m\u001b[0m\u001b[0m\n",
            "\u001b[0;32m/usr/local/lib/python3.10/dist-packages/xgboost/sklearn.py\u001b[0m in \u001b[0;36m_create_dmatrix\u001b[0;34m(self, ref, **kwargs)\u001b[0m\n\u001b[1;32m    906\u001b[0m             \u001b[0;32mexcept\u001b[0m \u001b[0mTypeError\u001b[0m\u001b[0;34m:\u001b[0m  \u001b[0;31m# `QuantileDMatrix` supports lesser types than DMatrix\u001b[0m\u001b[0;34m\u001b[0m\u001b[0;34m\u001b[0m\u001b[0m\n\u001b[1;32m    907\u001b[0m                 \u001b[0;32mpass\u001b[0m\u001b[0;34m\u001b[0m\u001b[0;34m\u001b[0m\u001b[0m\n\u001b[0;32m--> 908\u001b[0;31m         \u001b[0;32mreturn\u001b[0m \u001b[0mDMatrix\u001b[0m\u001b[0;34m(\u001b[0m\u001b[0;34m**\u001b[0m\u001b[0mkwargs\u001b[0m\u001b[0;34m,\u001b[0m \u001b[0mnthread\u001b[0m\u001b[0;34m=\u001b[0m\u001b[0mself\u001b[0m\u001b[0;34m.\u001b[0m\u001b[0mn_jobs\u001b[0m\u001b[0;34m)\u001b[0m\u001b[0;34m\u001b[0m\u001b[0;34m\u001b[0m\u001b[0m\n\u001b[0m\u001b[1;32m    909\u001b[0m \u001b[0;34m\u001b[0m\u001b[0m\n\u001b[1;32m    910\u001b[0m     \u001b[0;32mdef\u001b[0m \u001b[0m_set_evaluation_result\u001b[0m\u001b[0;34m(\u001b[0m\u001b[0mself\u001b[0m\u001b[0;34m,\u001b[0m \u001b[0mevals_result\u001b[0m\u001b[0;34m:\u001b[0m \u001b[0mTrainingCallback\u001b[0m\u001b[0;34m.\u001b[0m\u001b[0mEvalsLog\u001b[0m\u001b[0;34m)\u001b[0m \u001b[0;34m->\u001b[0m \u001b[0;32mNone\u001b[0m\u001b[0;34m:\u001b[0m\u001b[0;34m\u001b[0m\u001b[0;34m\u001b[0m\u001b[0m\n",
            "\u001b[0;32m/usr/local/lib/python3.10/dist-packages/xgboost/core.py\u001b[0m in \u001b[0;36minner_f\u001b[0;34m(*args, **kwargs)\u001b[0m\n\u001b[1;32m    618\u001b[0m             \u001b[0;32mfor\u001b[0m \u001b[0mk\u001b[0m\u001b[0;34m,\u001b[0m \u001b[0marg\u001b[0m \u001b[0;32min\u001b[0m \u001b[0mzip\u001b[0m\u001b[0;34m(\u001b[0m\u001b[0msig\u001b[0m\u001b[0;34m.\u001b[0m\u001b[0mparameters\u001b[0m\u001b[0;34m,\u001b[0m \u001b[0margs\u001b[0m\u001b[0;34m)\u001b[0m\u001b[0;34m:\u001b[0m\u001b[0;34m\u001b[0m\u001b[0;34m\u001b[0m\u001b[0m\n\u001b[1;32m    619\u001b[0m                 \u001b[0mkwargs\u001b[0m\u001b[0;34m[\u001b[0m\u001b[0mk\u001b[0m\u001b[0;34m]\u001b[0m \u001b[0;34m=\u001b[0m \u001b[0marg\u001b[0m\u001b[0;34m\u001b[0m\u001b[0;34m\u001b[0m\u001b[0m\n\u001b[0;32m--> 620\u001b[0;31m             \u001b[0;32mreturn\u001b[0m \u001b[0mfunc\u001b[0m\u001b[0;34m(\u001b[0m\u001b[0;34m**\u001b[0m\u001b[0mkwargs\u001b[0m\u001b[0;34m)\u001b[0m\u001b[0;34m\u001b[0m\u001b[0;34m\u001b[0m\u001b[0m\n\u001b[0m\u001b[1;32m    621\u001b[0m \u001b[0;34m\u001b[0m\u001b[0m\n\u001b[1;32m    622\u001b[0m         \u001b[0;32mreturn\u001b[0m \u001b[0minner_f\u001b[0m\u001b[0;34m\u001b[0m\u001b[0;34m\u001b[0m\u001b[0m\n",
            "\u001b[0;32m/usr/local/lib/python3.10/dist-packages/xgboost/core.py\u001b[0m in \u001b[0;36m__init__\u001b[0;34m(self, data, label, weight, base_margin, missing, silent, feature_names, feature_types, nthread, group, qid, label_lower_bound, label_upper_bound, feature_weights, enable_categorical)\u001b[0m\n\u001b[1;32m    741\u001b[0m             \u001b[0;32mreturn\u001b[0m\u001b[0;34m\u001b[0m\u001b[0;34m\u001b[0m\u001b[0m\n\u001b[1;32m    742\u001b[0m \u001b[0;34m\u001b[0m\u001b[0m\n\u001b[0;32m--> 743\u001b[0;31m         handle, feature_names, feature_types = dispatch_data_backend(\n\u001b[0m\u001b[1;32m    744\u001b[0m             \u001b[0mdata\u001b[0m\u001b[0;34m,\u001b[0m\u001b[0;34m\u001b[0m\u001b[0;34m\u001b[0m\u001b[0m\n\u001b[1;32m    745\u001b[0m             \u001b[0mmissing\u001b[0m\u001b[0;34m=\u001b[0m\u001b[0mself\u001b[0m\u001b[0;34m.\u001b[0m\u001b[0mmissing\u001b[0m\u001b[0;34m,\u001b[0m\u001b[0;34m\u001b[0m\u001b[0;34m\u001b[0m\u001b[0m\n",
            "\u001b[0;32m/usr/local/lib/python3.10/dist-packages/xgboost/data.py\u001b[0m in \u001b[0;36mdispatch_data_backend\u001b[0;34m(data, missing, threads, feature_names, feature_types, enable_categorical)\u001b[0m\n\u001b[1;32m    968\u001b[0m         \u001b[0;32mreturn\u001b[0m \u001b[0m_from_tuple\u001b[0m\u001b[0;34m(\u001b[0m\u001b[0mdata\u001b[0m\u001b[0;34m,\u001b[0m \u001b[0mmissing\u001b[0m\u001b[0;34m,\u001b[0m \u001b[0mthreads\u001b[0m\u001b[0;34m,\u001b[0m \u001b[0mfeature_names\u001b[0m\u001b[0;34m,\u001b[0m \u001b[0mfeature_types\u001b[0m\u001b[0;34m)\u001b[0m\u001b[0;34m\u001b[0m\u001b[0;34m\u001b[0m\u001b[0m\n\u001b[1;32m    969\u001b[0m     \u001b[0;32mif\u001b[0m \u001b[0m_is_pandas_df\u001b[0m\u001b[0;34m(\u001b[0m\u001b[0mdata\u001b[0m\u001b[0;34m)\u001b[0m\u001b[0;34m:\u001b[0m\u001b[0;34m\u001b[0m\u001b[0;34m\u001b[0m\u001b[0m\n\u001b[0;32m--> 970\u001b[0;31m         return _from_pandas_df(data, enable_categorical, missing, threads,\n\u001b[0m\u001b[1;32m    971\u001b[0m                                feature_names, feature_types)\n\u001b[1;32m    972\u001b[0m     \u001b[0;32mif\u001b[0m \u001b[0m_is_pandas_series\u001b[0m\u001b[0;34m(\u001b[0m\u001b[0mdata\u001b[0m\u001b[0;34m)\u001b[0m\u001b[0;34m:\u001b[0m\u001b[0;34m\u001b[0m\u001b[0;34m\u001b[0m\u001b[0m\n",
            "\u001b[0;32m/usr/local/lib/python3.10/dist-packages/xgboost/data.py\u001b[0m in \u001b[0;36m_from_pandas_df\u001b[0;34m(data, enable_categorical, missing, nthread, feature_names, feature_types)\u001b[0m\n\u001b[1;32m    415\u001b[0m     \u001b[0mfeature_types\u001b[0m\u001b[0;34m:\u001b[0m \u001b[0mOptional\u001b[0m\u001b[0;34m[\u001b[0m\u001b[0mFeatureTypes\u001b[0m\u001b[0;34m]\u001b[0m\u001b[0;34m,\u001b[0m\u001b[0;34m\u001b[0m\u001b[0;34m\u001b[0m\u001b[0m\n\u001b[1;32m    416\u001b[0m ) -> DispatchedDataBackendReturnType:\n\u001b[0;32m--> 417\u001b[0;31m     data, feature_names, feature_types = _transform_pandas_df(\n\u001b[0m\u001b[1;32m    418\u001b[0m         \u001b[0mdata\u001b[0m\u001b[0;34m,\u001b[0m \u001b[0menable_categorical\u001b[0m\u001b[0;34m,\u001b[0m \u001b[0mfeature_names\u001b[0m\u001b[0;34m,\u001b[0m \u001b[0mfeature_types\u001b[0m\u001b[0;34m\u001b[0m\u001b[0;34m\u001b[0m\u001b[0m\n\u001b[1;32m    419\u001b[0m     )\n",
            "\u001b[0;32m/usr/local/lib/python3.10/dist-packages/xgboost/data.py\u001b[0m in \u001b[0;36m_transform_pandas_df\u001b[0;34m(data, enable_categorical, feature_names, feature_types, meta, meta_type)\u001b[0m\n\u001b[1;32m    389\u001b[0m         \u001b[0;32mfor\u001b[0m \u001b[0mdtype\u001b[0m \u001b[0;32min\u001b[0m \u001b[0mdata\u001b[0m\u001b[0;34m.\u001b[0m\u001b[0mdtypes\u001b[0m\u001b[0;34m\u001b[0m\u001b[0;34m\u001b[0m\u001b[0m\n\u001b[1;32m    390\u001b[0m     ):\n\u001b[0;32m--> 391\u001b[0;31m         \u001b[0m_invalid_dataframe_dtype\u001b[0m\u001b[0;34m(\u001b[0m\u001b[0mdata\u001b[0m\u001b[0;34m)\u001b[0m\u001b[0;34m\u001b[0m\u001b[0;34m\u001b[0m\u001b[0m\n\u001b[0m\u001b[1;32m    392\u001b[0m \u001b[0;34m\u001b[0m\u001b[0m\n\u001b[1;32m    393\u001b[0m     feature_names, feature_types = _pandas_feature_info(\n",
            "\u001b[0;32m/usr/local/lib/python3.10/dist-packages/xgboost/data.py\u001b[0m in \u001b[0;36m_invalid_dataframe_dtype\u001b[0;34m(data)\u001b[0m\n\u001b[1;32m    281\u001b[0m     \u001b[0mtype_err\u001b[0m \u001b[0;34m=\u001b[0m \u001b[0;34m\"DataFrame.dtypes for data must be int, float, bool or category.\"\u001b[0m\u001b[0;34m\u001b[0m\u001b[0;34m\u001b[0m\u001b[0m\n\u001b[1;32m    282\u001b[0m     \u001b[0mmsg\u001b[0m \u001b[0;34m=\u001b[0m \u001b[0;34mf\"\"\"{type_err} {_ENABLE_CAT_ERR} {err}\"\"\"\u001b[0m\u001b[0;34m\u001b[0m\u001b[0;34m\u001b[0m\u001b[0m\n\u001b[0;32m--> 283\u001b[0;31m     \u001b[0;32mraise\u001b[0m \u001b[0mValueError\u001b[0m\u001b[0;34m(\u001b[0m\u001b[0mmsg\u001b[0m\u001b[0;34m)\u001b[0m\u001b[0;34m\u001b[0m\u001b[0;34m\u001b[0m\u001b[0m\n\u001b[0m\u001b[1;32m    284\u001b[0m \u001b[0;34m\u001b[0m\u001b[0m\n\u001b[1;32m    285\u001b[0m \u001b[0;34m\u001b[0m\u001b[0m\n",
            "\u001b[0;31mValueError\u001b[0m: DataFrame.dtypes for data must be int, float, bool or category. When categorical type is supplied, The experimental DMatrix parameter`enable_categorical` must be set to `True`.  Invalid columns:GameID: object, playID: category, quarter: category, clock: timedelta64[ns], type_text: category, team_play: category, start_down: category, end_down: category, season: category, week: category, Home_teamname: category, Away_teamname: category"
          ]
        }
      ],
      "source": [
        "\n",
        "model.fit(X_train, y_train, \n",
        "            eval_set=[(X_train, y_train), (X_valid, y_valid)], \n",
        "            early_stopping_rounds=20)"
      ]
    }
  ],
  "metadata": {
    "colab": {
      "authorship_tag": "ABX9TyOQY8G7rd4UdBQCWDJjQaXf",
      "include_colab_link": true,
      "provenance": []
    },
    "kernelspec": {
      "display_name": "Python 3",
      "name": "python3"
    },
    "language_info": {
      "codemirror_mode": {
        "name": "ipython",
        "version": 3
      },
      "file_extension": ".py",
      "mimetype": "text/x-python",
      "name": "python",
      "nbconvert_exporter": "python",
      "pygments_lexer": "ipython3",
      "version": "3.8.16"
    }
  },
  "nbformat": 4,
  "nbformat_minor": 0
}
