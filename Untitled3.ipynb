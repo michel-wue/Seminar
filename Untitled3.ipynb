{
  "cells": [
    {
      "cell_type": "markdown",
      "metadata": {
        "id": "view-in-github",
        "colab_type": "text"
      },
      "source": [
        "<a href=\"https://colab.research.google.com/github/michel-wue/Seminar/blob/Tries_API_Data_extraction/Untitled3.ipynb\" target=\"_parent\"><img src=\"https://colab.research.google.com/assets/colab-badge.svg\" alt=\"Open In Colab\"/></a>"
      ]
    },
    {
      "cell_type": "code",
      "source": [
        "pip install --upgrade shap xgboost"
      ],
      "metadata": {
        "colab": {
          "base_uri": "https://localhost:8080/"
        },
        "id": "Tj-bJFJ8QW9X",
        "outputId": "ea5dd7ff-bc8f-4216-e847-57588d8038ec"
      },
      "execution_count": 37,
      "outputs": [
        {
          "output_type": "stream",
          "name": "stdout",
          "text": [
            "Looking in indexes: https://pypi.org/simple, https://us-python.pkg.dev/colab-wheels/public/simple/\n",
            "Requirement already satisfied: shap in /usr/local/lib/python3.10/dist-packages (0.41.0)\n",
            "Requirement already satisfied: xgboost in /usr/local/lib/python3.10/dist-packages (1.7.5)\n",
            "Requirement already satisfied: numpy in /usr/local/lib/python3.10/dist-packages (from shap) (1.22.4)\n",
            "Requirement already satisfied: scipy in /usr/local/lib/python3.10/dist-packages (from shap) (1.10.1)\n",
            "Requirement already satisfied: scikit-learn in /usr/local/lib/python3.10/dist-packages (from shap) (1.2.2)\n",
            "Requirement already satisfied: pandas in /usr/local/lib/python3.10/dist-packages (from shap) (1.5.3)\n",
            "Requirement already satisfied: tqdm>4.25.0 in /usr/local/lib/python3.10/dist-packages (from shap) (4.65.0)\n",
            "Requirement already satisfied: packaging>20.9 in /usr/local/lib/python3.10/dist-packages (from shap) (23.1)\n",
            "Requirement already satisfied: slicer==0.0.7 in /usr/local/lib/python3.10/dist-packages (from shap) (0.0.7)\n",
            "Requirement already satisfied: numba in /usr/local/lib/python3.10/dist-packages (from shap) (0.56.4)\n",
            "Requirement already satisfied: cloudpickle in /usr/local/lib/python3.10/dist-packages (from shap) (2.2.1)\n",
            "Requirement already satisfied: llvmlite<0.40,>=0.39.0dev0 in /usr/local/lib/python3.10/dist-packages (from numba->shap) (0.39.1)\n",
            "Requirement already satisfied: setuptools in /usr/local/lib/python3.10/dist-packages (from numba->shap) (67.7.2)\n",
            "Requirement already satisfied: python-dateutil>=2.8.1 in /usr/local/lib/python3.10/dist-packages (from pandas->shap) (2.8.2)\n",
            "Requirement already satisfied: pytz>=2020.1 in /usr/local/lib/python3.10/dist-packages (from pandas->shap) (2022.7.1)\n",
            "Requirement already satisfied: joblib>=1.1.1 in /usr/local/lib/python3.10/dist-packages (from scikit-learn->shap) (1.2.0)\n",
            "Requirement already satisfied: threadpoolctl>=2.0.0 in /usr/local/lib/python3.10/dist-packages (from scikit-learn->shap) (3.1.0)\n",
            "Requirement already satisfied: six>=1.5 in /usr/local/lib/python3.10/dist-packages (from python-dateutil>=2.8.1->pandas->shap) (1.16.0)\n"
          ]
        }
      ]
    },
    {
      "cell_type": "code",
      "source": [
        "!pip install shap"
      ],
      "metadata": {
        "colab": {
          "base_uri": "https://localhost:8080/"
        },
        "id": "yT-u3TLMPhcz",
        "outputId": "2a0c10b6-0aaf-43b1-9b4f-77dec1745455"
      },
      "execution_count": 38,
      "outputs": [
        {
          "output_type": "stream",
          "name": "stdout",
          "text": [
            "Looking in indexes: https://pypi.org/simple, https://us-python.pkg.dev/colab-wheels/public/simple/\n",
            "Requirement already satisfied: shap in /usr/local/lib/python3.10/dist-packages (0.41.0)\n",
            "Requirement already satisfied: numpy in /usr/local/lib/python3.10/dist-packages (from shap) (1.22.4)\n",
            "Requirement already satisfied: scipy in /usr/local/lib/python3.10/dist-packages (from shap) (1.10.1)\n",
            "Requirement already satisfied: scikit-learn in /usr/local/lib/python3.10/dist-packages (from shap) (1.2.2)\n",
            "Requirement already satisfied: pandas in /usr/local/lib/python3.10/dist-packages (from shap) (1.5.3)\n",
            "Requirement already satisfied: tqdm>4.25.0 in /usr/local/lib/python3.10/dist-packages (from shap) (4.65.0)\n",
            "Requirement already satisfied: packaging>20.9 in /usr/local/lib/python3.10/dist-packages (from shap) (23.1)\n",
            "Requirement already satisfied: slicer==0.0.7 in /usr/local/lib/python3.10/dist-packages (from shap) (0.0.7)\n",
            "Requirement already satisfied: numba in /usr/local/lib/python3.10/dist-packages (from shap) (0.56.4)\n",
            "Requirement already satisfied: cloudpickle in /usr/local/lib/python3.10/dist-packages (from shap) (2.2.1)\n",
            "Requirement already satisfied: llvmlite<0.40,>=0.39.0dev0 in /usr/local/lib/python3.10/dist-packages (from numba->shap) (0.39.1)\n",
            "Requirement already satisfied: setuptools in /usr/local/lib/python3.10/dist-packages (from numba->shap) (67.7.2)\n",
            "Requirement already satisfied: python-dateutil>=2.8.1 in /usr/local/lib/python3.10/dist-packages (from pandas->shap) (2.8.2)\n",
            "Requirement already satisfied: pytz>=2020.1 in /usr/local/lib/python3.10/dist-packages (from pandas->shap) (2022.7.1)\n",
            "Requirement already satisfied: joblib>=1.1.1 in /usr/local/lib/python3.10/dist-packages (from scikit-learn->shap) (1.2.0)\n",
            "Requirement already satisfied: threadpoolctl>=2.0.0 in /usr/local/lib/python3.10/dist-packages (from scikit-learn->shap) (3.1.0)\n",
            "Requirement already satisfied: six>=1.5 in /usr/local/lib/python3.10/dist-packages (from python-dateutil>=2.8.1->pandas->shap) (1.16.0)\n"
          ]
        }
      ]
    },
    {
      "cell_type": "code",
      "source": [
        "!pip install pandas-profiling"
      ],
      "metadata": {
        "colab": {
          "base_uri": "https://localhost:8080/"
        },
        "id": "cRAJCYnTABzf",
        "outputId": "ba1112d2-3540-4c79-f258-c9a1e5845634"
      },
      "execution_count": 39,
      "outputs": [
        {
          "output_type": "stream",
          "name": "stdout",
          "text": [
            "Looking in indexes: https://pypi.org/simple, https://us-python.pkg.dev/colab-wheels/public/simple/\n",
            "Requirement already satisfied: pandas-profiling in /usr/local/lib/python3.10/dist-packages (3.6.6)\n",
            "Requirement already satisfied: ydata-profiling in /usr/local/lib/python3.10/dist-packages (from pandas-profiling) (4.2.0)\n",
            "Requirement already satisfied: scipy<1.11,>=1.4.1 in /usr/local/lib/python3.10/dist-packages (from ydata-profiling->pandas-profiling) (1.10.1)\n",
            "Requirement already satisfied: pandas!=1.4.0,<2,>1.1 in /usr/local/lib/python3.10/dist-packages (from ydata-profiling->pandas-profiling) (1.5.3)\n",
            "Requirement already satisfied: matplotlib<4,>=3.2 in /usr/local/lib/python3.10/dist-packages (from ydata-profiling->pandas-profiling) (3.7.1)\n",
            "Requirement already satisfied: pydantic<2,>=1.8.1 in /usr/local/lib/python3.10/dist-packages (from ydata-profiling->pandas-profiling) (1.10.7)\n",
            "Requirement already satisfied: PyYAML<6.1,>=5.0.0 in /usr/local/lib/python3.10/dist-packages (from ydata-profiling->pandas-profiling) (6.0)\n",
            "Requirement already satisfied: jinja2<3.2,>=2.11.1 in /usr/local/lib/python3.10/dist-packages (from ydata-profiling->pandas-profiling) (3.1.2)\n",
            "Requirement already satisfied: visions[type_image_path]==0.7.5 in /usr/local/lib/python3.10/dist-packages (from ydata-profiling->pandas-profiling) (0.7.5)\n",
            "Requirement already satisfied: numpy<1.24,>=1.16.0 in /usr/local/lib/python3.10/dist-packages (from ydata-profiling->pandas-profiling) (1.22.4)\n",
            "Requirement already satisfied: htmlmin==0.1.12 in /usr/local/lib/python3.10/dist-packages (from ydata-profiling->pandas-profiling) (0.1.12)\n",
            "Requirement already satisfied: phik<0.13,>=0.11.1 in /usr/local/lib/python3.10/dist-packages (from ydata-profiling->pandas-profiling) (0.12.3)\n",
            "Requirement already satisfied: requests<3,>=2.24.0 in /usr/local/lib/python3.10/dist-packages (from ydata-profiling->pandas-profiling) (2.27.1)\n",
            "Requirement already satisfied: tqdm<5,>=4.48.2 in /usr/local/lib/python3.10/dist-packages (from ydata-profiling->pandas-profiling) (4.65.0)\n",
            "Requirement already satisfied: seaborn<0.13,>=0.10.1 in /usr/local/lib/python3.10/dist-packages (from ydata-profiling->pandas-profiling) (0.12.2)\n",
            "Requirement already satisfied: multimethod<2,>=1.4 in /usr/local/lib/python3.10/dist-packages (from ydata-profiling->pandas-profiling) (1.9.1)\n",
            "Requirement already satisfied: statsmodels<1,>=0.13.2 in /usr/local/lib/python3.10/dist-packages (from ydata-profiling->pandas-profiling) (0.13.5)\n",
            "Requirement already satisfied: typeguard<3,>=2.13.2 in /usr/local/lib/python3.10/dist-packages (from ydata-profiling->pandas-profiling) (2.13.3)\n",
            "Requirement already satisfied: imagehash==4.3.1 in /usr/local/lib/python3.10/dist-packages (from ydata-profiling->pandas-profiling) (4.3.1)\n",
            "Requirement already satisfied: wordcloud>=1.9.1 in /usr/local/lib/python3.10/dist-packages (from ydata-profiling->pandas-profiling) (1.9.2)\n",
            "Requirement already satisfied: dacite>=1.8 in /usr/local/lib/python3.10/dist-packages (from ydata-profiling->pandas-profiling) (1.8.1)\n",
            "Requirement already satisfied: PyWavelets in /usr/local/lib/python3.10/dist-packages (from imagehash==4.3.1->ydata-profiling->pandas-profiling) (1.4.1)\n",
            "Requirement already satisfied: pillow in /usr/local/lib/python3.10/dist-packages (from imagehash==4.3.1->ydata-profiling->pandas-profiling) (8.4.0)\n",
            "Requirement already satisfied: attrs>=19.3.0 in /usr/local/lib/python3.10/dist-packages (from visions[type_image_path]==0.7.5->ydata-profiling->pandas-profiling) (23.1.0)\n",
            "Requirement already satisfied: networkx>=2.4 in /usr/local/lib/python3.10/dist-packages (from visions[type_image_path]==0.7.5->ydata-profiling->pandas-profiling) (3.1)\n",
            "Requirement already satisfied: tangled-up-in-unicode>=0.0.4 in /usr/local/lib/python3.10/dist-packages (from visions[type_image_path]==0.7.5->ydata-profiling->pandas-profiling) (0.2.0)\n",
            "Requirement already satisfied: MarkupSafe>=2.0 in /usr/local/lib/python3.10/dist-packages (from jinja2<3.2,>=2.11.1->ydata-profiling->pandas-profiling) (2.1.2)\n",
            "Requirement already satisfied: contourpy>=1.0.1 in /usr/local/lib/python3.10/dist-packages (from matplotlib<4,>=3.2->ydata-profiling->pandas-profiling) (1.0.7)\n",
            "Requirement already satisfied: cycler>=0.10 in /usr/local/lib/python3.10/dist-packages (from matplotlib<4,>=3.2->ydata-profiling->pandas-profiling) (0.11.0)\n",
            "Requirement already satisfied: fonttools>=4.22.0 in /usr/local/lib/python3.10/dist-packages (from matplotlib<4,>=3.2->ydata-profiling->pandas-profiling) (4.39.3)\n",
            "Requirement already satisfied: kiwisolver>=1.0.1 in /usr/local/lib/python3.10/dist-packages (from matplotlib<4,>=3.2->ydata-profiling->pandas-profiling) (1.4.4)\n",
            "Requirement already satisfied: packaging>=20.0 in /usr/local/lib/python3.10/dist-packages (from matplotlib<4,>=3.2->ydata-profiling->pandas-profiling) (23.1)\n",
            "Requirement already satisfied: pyparsing>=2.3.1 in /usr/local/lib/python3.10/dist-packages (from matplotlib<4,>=3.2->ydata-profiling->pandas-profiling) (3.0.9)\n",
            "Requirement already satisfied: python-dateutil>=2.7 in /usr/local/lib/python3.10/dist-packages (from matplotlib<4,>=3.2->ydata-profiling->pandas-profiling) (2.8.2)\n",
            "Requirement already satisfied: pytz>=2020.1 in /usr/local/lib/python3.10/dist-packages (from pandas!=1.4.0,<2,>1.1->ydata-profiling->pandas-profiling) (2022.7.1)\n",
            "Requirement already satisfied: joblib>=0.14.1 in /usr/local/lib/python3.10/dist-packages (from phik<0.13,>=0.11.1->ydata-profiling->pandas-profiling) (1.2.0)\n",
            "Requirement already satisfied: typing-extensions>=4.2.0 in /usr/local/lib/python3.10/dist-packages (from pydantic<2,>=1.8.1->ydata-profiling->pandas-profiling) (4.5.0)\n",
            "Requirement already satisfied: urllib3<1.27,>=1.21.1 in /usr/local/lib/python3.10/dist-packages (from requests<3,>=2.24.0->ydata-profiling->pandas-profiling) (1.26.15)\n",
            "Requirement already satisfied: certifi>=2017.4.17 in /usr/local/lib/python3.10/dist-packages (from requests<3,>=2.24.0->ydata-profiling->pandas-profiling) (2022.12.7)\n",
            "Requirement already satisfied: charset-normalizer~=2.0.0 in /usr/local/lib/python3.10/dist-packages (from requests<3,>=2.24.0->ydata-profiling->pandas-profiling) (2.0.12)\n",
            "Requirement already satisfied: idna<4,>=2.5 in /usr/local/lib/python3.10/dist-packages (from requests<3,>=2.24.0->ydata-profiling->pandas-profiling) (3.4)\n",
            "Requirement already satisfied: patsy>=0.5.2 in /usr/local/lib/python3.10/dist-packages (from statsmodels<1,>=0.13.2->ydata-profiling->pandas-profiling) (0.5.3)\n",
            "Requirement already satisfied: six in /usr/local/lib/python3.10/dist-packages (from patsy>=0.5.2->statsmodels<1,>=0.13.2->ydata-profiling->pandas-profiling) (1.16.0)\n"
          ]
        }
      ]
    },
    {
      "cell_type": "code",
      "execution_count": 40,
      "metadata": {
        "id": "bf7mXYH2I4k-"
      },
      "outputs": [],
      "source": [
        "import requests as r\n",
        "import pandas as pd\n",
        "from pandas import json_normalize\n",
        "import re\n",
        "from google.colab import drive\n",
        "import datetime\n",
        "from os import times\n",
        "import xgboost as xgb\n",
        "from sklearn.preprocessing import StandardScaler\n",
        "from sklearn.datasets import make_classification\n",
        "from sklearn.model_selection import train_test_split\n",
        "from matplotlib import pyplot as plt\n",
        "from sklearn.preprocessing import OneHotEncoder\n",
        "from sklearn.compose import ColumnTransformer\n",
        "from sklearn.pipeline import Pipeline\n",
        "from datetime import datetime, timedelta\n",
        "from sklearn.metrics import accuracy_score\n",
        "from sklearn.metrics import confusion_matrix, classification_report\n",
        "import numpy as np\n",
        "from sklearn.metrics import mean_absolute_error\n",
        "from sklearn.metrics import accuracy_score, precision_score, recall_score, f1_score, roc_auc_score, confusion_matrix\n",
        "import dask.dataframe as dd\n",
        "import pandas_profiling\n",
        "import shap\n"
      ]
    },
    {
      "cell_type": "code",
      "execution_count": 41,
      "metadata": {
        "colab": {
          "base_uri": "https://localhost:8080/"
        },
        "id": "cssogtW2I6Xj",
        "outputId": "7ca673f4-3960-455e-b7b0-73cdf1c62abb"
      },
      "outputs": [
        {
          "output_type": "stream",
          "name": "stdout",
          "text": [
            "Drive already mounted at /content/drive; to attempt to forcibly remount, call drive.mount(\"/content/drive\", force_remount=True).\n"
          ]
        }
      ],
      "source": [
        "drive.mount('/content/drive')"
      ]
    },
    {
      "cell_type": "code",
      "execution_count": 42,
      "metadata": {
        "id": "JzdxCH7OI8dv"
      },
      "outputs": [],
      "source": [
        "play_data = pd.read_csv(\n",
        "    '/content/drive/MyDrive/seminar/full_data3.csv'\n",
        ")"
      ]
    },
    {
      "cell_type": "code",
      "source": [
        "import pandas as pd\n",
        "from datetime import timedelta\n",
        "\n",
        "# Assuming your DataFrame is called \"play_data\"\n",
        "play_data['clock'] = play_data['clock'].apply(lambda x: timedelta(days=int(x.split()[0]), hours=int(x.split()[2].split(':')[0]), minutes=int(x.split()[2].split(':')[1]), seconds=int(x.split()[2].split(':')[2])).total_seconds() / 60.0)\n",
        "\n",
        "# Print the updated DataFrame\n",
        "print(play_data)\n"
      ],
      "metadata": {
        "colab": {
          "base_uri": "https://localhost:8080/"
        },
        "id": "78KM8tBPzQnD",
        "outputId": "ced4ae5a-9f70-46b1-933a-fe31bb901b8c"
      },
      "execution_count": 43,
      "outputs": [
        {
          "output_type": "stream",
          "name": "stdout",
          "text": [
            "           GameID         playID  awayScore  homeScore  scoreValue  \\\n",
            "0       400951620    40095162037          0          0           0   \n",
            "1       400951620    40095162052          0          0           0   \n",
            "2       400951620    40095162073          0          0           0   \n",
            "3       400951620   400951620102          0          0           0   \n",
            "4       400951620   400951620124          0          0           0   \n",
            "...           ...            ...        ...        ...         ...   \n",
            "356583  401437952  4014379523753         20         16           0   \n",
            "356584  401437952  4014379523764         20         16           0   \n",
            "356585  401437952  4014379523774         20         16           0   \n",
            "356586  401437952  4014379523812         20         16           0   \n",
            "356587  401437952  4014379523833         20         16           0   \n",
            "\n",
            "        statYardage  quarter      clock          type_text team_play  ...  \\\n",
            "0                 0        1  15.000000            Kickoff       cin  ...   \n",
            "1                 4        1  15.000000               Rush       hou  ...   \n",
            "2                 0        1  14.416667  Pass Incompletion       hou  ...   \n",
            "3                 0        1  14.316667  Pass Incompletion       hou  ...   \n",
            "4                33        1  14.233333               Punt       hou  ...   \n",
            "...             ...      ...        ...                ...       ...  ...   \n",
            "356583            2        4   2.000000               Rush       det  ...   \n",
            "356584            0        4   1.250000            Timeout       det  ...   \n",
            "356585            9        4   1.233333     Pass Reception       det  ...   \n",
            "356586           -1        4   0.550000               Rush       det  ...   \n",
            "356587            0        4   0.000000        End of Game    NoTeam  ...   \n",
            "\n",
            "        end_yardlinie  end_yardsToEndzone  season  week  Winner  \\\n",
            "0                  75                  75    2017     2    Away   \n",
            "1                  71                  71    2017     2    Away   \n",
            "2                  71                  71    2017     2    Away   \n",
            "3                  71                  71    2017     2    Away   \n",
            "4                  46                  54    2017     2    Away   \n",
            "...               ...                 ...     ...   ...     ...   \n",
            "356583             15                  15    2022    18    Away   \n",
            "356584             15                  15    2022    18    Away   \n",
            "356585              6                   6    2022    18    Away   \n",
            "356586              7                   7    2022    18    Away   \n",
            "356587              7                   7    2022    18    Away   \n",
            "\n",
            "        Home_teamname  Away_teamname  elo_score_away  elo_score_home  \\\n",
            "0                 cin            hou         1451.21         1476.20   \n",
            "1                 cin            hou         1451.21         1476.20   \n",
            "2                 cin            hou         1451.21         1476.20   \n",
            "3                 cin            hou         1451.21         1476.20   \n",
            "4                 cin            hou         1451.21         1476.20   \n",
            "...               ...            ...             ...             ...   \n",
            "356583             gb            det         1485.30         1557.21   \n",
            "356584             gb            det         1485.30         1557.21   \n",
            "356585             gb            det         1485.30         1557.21   \n",
            "356586             gb            det         1485.30         1557.21   \n",
            "356587             gb            det         1485.30         1557.21   \n",
            "\n",
            "        attendence  \n",
            "0         0.808090  \n",
            "1         0.808090  \n",
            "2         0.808090  \n",
            "3         0.808090  \n",
            "4         0.808090  \n",
            "...            ...  \n",
            "356583    0.964833  \n",
            "356584    0.964833  \n",
            "356585    0.964833  \n",
            "356586    0.964833  \n",
            "356587    0.964833  \n",
            "\n",
            "[356588 rows x 26 columns]\n"
          ]
        }
      ]
    },
    {
      "cell_type": "code",
      "source": [
        "print(play_data)"
      ],
      "metadata": {
        "colab": {
          "base_uri": "https://localhost:8080/"
        },
        "id": "C0EdPg2HSWJZ",
        "outputId": "aaa3e6a2-2294-4a04-c071-a65767c0a9ea"
      },
      "execution_count": 44,
      "outputs": [
        {
          "output_type": "stream",
          "name": "stdout",
          "text": [
            "           GameID         playID  awayScore  homeScore  scoreValue  \\\n",
            "0       400951620    40095162037          0          0           0   \n",
            "1       400951620    40095162052          0          0           0   \n",
            "2       400951620    40095162073          0          0           0   \n",
            "3       400951620   400951620102          0          0           0   \n",
            "4       400951620   400951620124          0          0           0   \n",
            "...           ...            ...        ...        ...         ...   \n",
            "356583  401437952  4014379523753         20         16           0   \n",
            "356584  401437952  4014379523764         20         16           0   \n",
            "356585  401437952  4014379523774         20         16           0   \n",
            "356586  401437952  4014379523812         20         16           0   \n",
            "356587  401437952  4014379523833         20         16           0   \n",
            "\n",
            "        statYardage  quarter      clock          type_text team_play  ...  \\\n",
            "0                 0        1  15.000000            Kickoff       cin  ...   \n",
            "1                 4        1  15.000000               Rush       hou  ...   \n",
            "2                 0        1  14.416667  Pass Incompletion       hou  ...   \n",
            "3                 0        1  14.316667  Pass Incompletion       hou  ...   \n",
            "4                33        1  14.233333               Punt       hou  ...   \n",
            "...             ...      ...        ...                ...       ...  ...   \n",
            "356583            2        4   2.000000               Rush       det  ...   \n",
            "356584            0        4   1.250000            Timeout       det  ...   \n",
            "356585            9        4   1.233333     Pass Reception       det  ...   \n",
            "356586           -1        4   0.550000               Rush       det  ...   \n",
            "356587            0        4   0.000000        End of Game    NoTeam  ...   \n",
            "\n",
            "        end_yardlinie  end_yardsToEndzone  season  week  Winner  \\\n",
            "0                  75                  75    2017     2    Away   \n",
            "1                  71                  71    2017     2    Away   \n",
            "2                  71                  71    2017     2    Away   \n",
            "3                  71                  71    2017     2    Away   \n",
            "4                  46                  54    2017     2    Away   \n",
            "...               ...                 ...     ...   ...     ...   \n",
            "356583             15                  15    2022    18    Away   \n",
            "356584             15                  15    2022    18    Away   \n",
            "356585              6                   6    2022    18    Away   \n",
            "356586              7                   7    2022    18    Away   \n",
            "356587              7                   7    2022    18    Away   \n",
            "\n",
            "        Home_teamname  Away_teamname  elo_score_away  elo_score_home  \\\n",
            "0                 cin            hou         1451.21         1476.20   \n",
            "1                 cin            hou         1451.21         1476.20   \n",
            "2                 cin            hou         1451.21         1476.20   \n",
            "3                 cin            hou         1451.21         1476.20   \n",
            "4                 cin            hou         1451.21         1476.20   \n",
            "...               ...            ...             ...             ...   \n",
            "356583             gb            det         1485.30         1557.21   \n",
            "356584             gb            det         1485.30         1557.21   \n",
            "356585             gb            det         1485.30         1557.21   \n",
            "356586             gb            det         1485.30         1557.21   \n",
            "356587             gb            det         1485.30         1557.21   \n",
            "\n",
            "        attendence  \n",
            "0         0.808090  \n",
            "1         0.808090  \n",
            "2         0.808090  \n",
            "3         0.808090  \n",
            "4         0.808090  \n",
            "...            ...  \n",
            "356583    0.964833  \n",
            "356584    0.964833  \n",
            "356585    0.964833  \n",
            "356586    0.964833  \n",
            "356587    0.964833  \n",
            "\n",
            "[356588 rows x 26 columns]\n"
          ]
        }
      ]
    },
    {
      "cell_type": "code",
      "source": [
        "import numpy as np\n",
        "\n",
        "play_data['time_remaining'] = np.where(play_data['quarter'] == 1, play_data['clock'] + 45, play_data['clock'])\n",
        "play_data['time_remaining'] = np.where(play_data['quarter'] == 2, play_data['clock'] + 30, play_data['time_remaining'])\n",
        "play_data['time_remaining'] = np.where(play_data['quarter'] == 3, play_data['clock'] + 15, play_data['time_remaining'])\n",
        "play_data['time_remaining'] = np.where(play_data['quarter'] == 4, play_data['clock'], play_data['time_remaining'])\n",
        "play_data['time_remaining'] = np.where(play_data['quarter'] == 5, play_data['clock'], play_data['time_remaining'])\n"
      ],
      "metadata": {
        "id": "EjQJKhWJPsR-"
      },
      "execution_count": 45,
      "outputs": []
    },
    {
      "cell_type": "code",
      "source": [
        "print(play_data[play_data['quarter'] == 2])"
      ],
      "metadata": {
        "colab": {
          "base_uri": "https://localhost:8080/"
        },
        "id": "icULPFLlRJIc",
        "outputId": "523758f2-993e-45e3-b082-e94569d8ca0e"
      },
      "execution_count": 46,
      "outputs": [
        {
          "output_type": "stream",
          "name": "stdout",
          "text": [
            "           GameID         playID  awayScore  homeScore  scoreValue  \\\n",
            "40      400951620  4009516201016          3          0           0   \n",
            "41      400951620  4009516201037          3          0           0   \n",
            "42      400951620  4009516201056          3          3           3   \n",
            "43      400951620  4009516201075          3          3           0   \n",
            "44      400951620  4009516201090          3          3           0   \n",
            "...           ...            ...        ...        ...         ...   \n",
            "356506  401437952  4014379521919          3          9           0   \n",
            "356507  401437952  4014379521935          3          9           0   \n",
            "356508  401437952  4014379521950          3          9           0   \n",
            "356509  401437952  4014379521986          6          9           3   \n",
            "356510  401437952  4014379522005          6          9           0   \n",
            "\n",
            "        statYardage  quarter      clock        type_text team_play  ...  \\\n",
            "40               -5        2  15.000000             Rush       cin  ...   \n",
            "41               -4        2  14.450000             Sack       cin  ...   \n",
            "42               39        2  13.733333  Field Goal Good       cin  ...   \n",
            "43                0        2  13.733333          Kickoff       cin  ...   \n",
            "44                2        2  13.733333   Pass Reception       hou  ...   \n",
            "...             ...      ...        ...              ...       ...  ...   \n",
            "356506            7        2   0.083333   Pass Reception       det  ...   \n",
            "356507            0        2   0.033333          Timeout       det  ...   \n",
            "356508           15        2   0.033333          Penalty       det  ...   \n",
            "356509           33        2   0.000000  Field Goal Good       det  ...   \n",
            "356510            0        2   0.000000      End of Half    NoTeam  ...   \n",
            "\n",
            "        end_yardsToEndzone  season  week  Winner  Home_teamname  \\\n",
            "40                      17    2017     2    Away            cin   \n",
            "41                      21    2017     2    Away            cin   \n",
            "42                      65    2017     2    Away            cin   \n",
            "43                      75    2017     2    Away            cin   \n",
            "44                      75    2017     2    Away            cin   \n",
            "...                    ...     ...   ...     ...            ...   \n",
            "356506                  29    2022    18    Away             gb   \n",
            "356507                  29    2022    18    Away             gb   \n",
            "356508                  15    2022    18    Away             gb   \n",
            "356509                  65    2022    18    Away             gb   \n",
            "356510                  65    2022    18    Away             gb   \n",
            "\n",
            "        Away_teamname  elo_score_away  elo_score_home  attendence  \\\n",
            "40                hou         1451.21         1476.20    0.808090   \n",
            "41                hou         1451.21         1476.20    0.808090   \n",
            "42                hou         1451.21         1476.20    0.808090   \n",
            "43                hou         1451.21         1476.20    0.808090   \n",
            "44                hou         1451.21         1476.20    0.808090   \n",
            "...               ...             ...             ...         ...   \n",
            "356506            det         1485.30         1557.21    0.964833   \n",
            "356507            det         1485.30         1557.21    0.964833   \n",
            "356508            det         1485.30         1557.21    0.964833   \n",
            "356509            det         1485.30         1557.21    0.964833   \n",
            "356510            det         1485.30         1557.21    0.964833   \n",
            "\n",
            "        time_remaining  \n",
            "40           45.000000  \n",
            "41           44.450000  \n",
            "42           43.733333  \n",
            "43           43.733333  \n",
            "44           43.733333  \n",
            "...                ...  \n",
            "356506       30.083333  \n",
            "356507       30.033333  \n",
            "356508       30.033333  \n",
            "356509       30.000000  \n",
            "356510       30.000000  \n",
            "\n",
            "[101189 rows x 27 columns]\n"
          ]
        }
      ]
    },
    {
      "cell_type": "code",
      "execution_count": 47,
      "metadata": {
        "id": "plsDn5FCDCVd"
      },
      "outputs": [],
      "source": [
        "play_data.loc[play_data['Winner'] == 'Home', 'Winner'] = 0\n",
        "play_data.loc[play_data['Winner'] == 'Away', 'Winner'] = 1"
      ]
    },
    {
      "cell_type": "code",
      "source": [
        "play_data = play_data.drop_duplicates()\n",
        "\n",
        "# Print the updated DataFrame\n",
        "print(play_data)"
      ],
      "metadata": {
        "colab": {
          "base_uri": "https://localhost:8080/"
        },
        "id": "fVHIZawHMZYl",
        "outputId": "2aa6ce35-aace-4c5d-9976-c4fb6f38fb3a"
      },
      "execution_count": 48,
      "outputs": [
        {
          "output_type": "stream",
          "name": "stdout",
          "text": [
            "           GameID         playID  awayScore  homeScore  scoreValue  \\\n",
            "0       400951620    40095162037          0          0           0   \n",
            "1       400951620    40095162052          0          0           0   \n",
            "2       400951620    40095162073          0          0           0   \n",
            "3       400951620   400951620102          0          0           0   \n",
            "4       400951620   400951620124          0          0           0   \n",
            "...           ...            ...        ...        ...         ...   \n",
            "356583  401437952  4014379523753         20         16           0   \n",
            "356584  401437952  4014379523764         20         16           0   \n",
            "356585  401437952  4014379523774         20         16           0   \n",
            "356586  401437952  4014379523812         20         16           0   \n",
            "356587  401437952  4014379523833         20         16           0   \n",
            "\n",
            "        statYardage  quarter      clock          type_text team_play  ...  \\\n",
            "0                 0        1  15.000000            Kickoff       cin  ...   \n",
            "1                 4        1  15.000000               Rush       hou  ...   \n",
            "2                 0        1  14.416667  Pass Incompletion       hou  ...   \n",
            "3                 0        1  14.316667  Pass Incompletion       hou  ...   \n",
            "4                33        1  14.233333               Punt       hou  ...   \n",
            "...             ...      ...        ...                ...       ...  ...   \n",
            "356583            2        4   2.000000               Rush       det  ...   \n",
            "356584            0        4   1.250000            Timeout       det  ...   \n",
            "356585            9        4   1.233333     Pass Reception       det  ...   \n",
            "356586           -1        4   0.550000               Rush       det  ...   \n",
            "356587            0        4   0.000000        End of Game    NoTeam  ...   \n",
            "\n",
            "        end_yardsToEndzone  season  week  Winner  Home_teamname  \\\n",
            "0                       75    2017     2       1            cin   \n",
            "1                       71    2017     2       1            cin   \n",
            "2                       71    2017     2       1            cin   \n",
            "3                       71    2017     2       1            cin   \n",
            "4                       54    2017     2       1            cin   \n",
            "...                    ...     ...   ...     ...            ...   \n",
            "356583                  15    2022    18       1             gb   \n",
            "356584                  15    2022    18       1             gb   \n",
            "356585                   6    2022    18       1             gb   \n",
            "356586                   7    2022    18       1             gb   \n",
            "356587                   7    2022    18       1             gb   \n",
            "\n",
            "        Away_teamname  elo_score_away  elo_score_home  attendence  \\\n",
            "0                 hou         1451.21         1476.20    0.808090   \n",
            "1                 hou         1451.21         1476.20    0.808090   \n",
            "2                 hou         1451.21         1476.20    0.808090   \n",
            "3                 hou         1451.21         1476.20    0.808090   \n",
            "4                 hou         1451.21         1476.20    0.808090   \n",
            "...               ...             ...             ...         ...   \n",
            "356583            det         1485.30         1557.21    0.964833   \n",
            "356584            det         1485.30         1557.21    0.964833   \n",
            "356585            det         1485.30         1557.21    0.964833   \n",
            "356586            det         1485.30         1557.21    0.964833   \n",
            "356587            det         1485.30         1557.21    0.964833   \n",
            "\n",
            "        time_remaining  \n",
            "0            60.000000  \n",
            "1            60.000000  \n",
            "2            59.416667  \n",
            "3            59.316667  \n",
            "4            59.233333  \n",
            "...                ...  \n",
            "356583        2.000000  \n",
            "356584        1.250000  \n",
            "356585        1.233333  \n",
            "356586        0.550000  \n",
            "356587        0.000000  \n",
            "\n",
            "[353841 rows x 27 columns]\n"
          ]
        }
      ]
    },
    {
      "cell_type": "code",
      "source": [
        "\n"
      ],
      "metadata": {
        "id": "5eCXEzAebFAF"
      },
      "execution_count": 48,
      "outputs": []
    },
    {
      "cell_type": "code",
      "source": [
        "\n"
      ],
      "metadata": {
        "id": "7BvOWFg9cVZ3"
      },
      "execution_count": 48,
      "outputs": []
    },
    {
      "cell_type": "code",
      "execution_count": 49,
      "metadata": {
        "id": "VyNNytpGfKcL"
      },
      "outputs": [],
      "source": [
        "# Load dataset\n",
        "data = play_data\n",
        "\n",
        "# Separate target from predictors\n",
        "y = data['Winner']\n",
        "X = data.drop('Winner', axis=1)\n",
        "\n",
        "# Train-test split\n",
        "X_train, X_valid, y_train, y_valid = train_test_split(X, y, train_size=0.8, test_size=0.2,random_state=0)\n"
      ]
    },
    {
      "cell_type": "code",
      "execution_count": 50,
      "metadata": {
        "colab": {
          "base_uri": "https://localhost:8080/"
        },
        "id": "5BwhUdD7G-U1",
        "outputId": "3f788c53-d320-4f17-83e3-644330e96dea"
      },
      "outputs": [
        {
          "output_type": "stream",
          "name": "stdout",
          "text": [
            "           GameID         playID  awayScore  homeScore  scoreValue  \\\n",
            "117284  400951815  4009518154048         33          8           0   \n",
            "79250   400874728   400874728978          0         10           0   \n",
            "260759  401220152  4012201522350          3         20           0   \n",
            "342700  401437878   401437878349          0          0           0   \n",
            "41221   400791508  4007915082578         16         10           0   \n",
            "...           ...            ...        ...        ...         ...   \n",
            "86098   400874540  4008745403913         30         16           0   \n",
            "4098    400791555   400791555358          0          7           0   \n",
            "84841   400874716  4008747163561         23         12           0   \n",
            "44222   400791617  4007916172881          9         14           0   \n",
            "41687   400791531  4007915312174         17         17           0   \n",
            "\n",
            "        statYardage  quarter      clock                   type_text team_play  \\\n",
            "117284            0        4   0.000000                 End of Game    NoTeam   \n",
            "79250             5        2  14.250000              Pass Reception       sea   \n",
            "260759            0        3   9.666667           Pass Incompletion       nyg   \n",
            "342700           15        1  12.083333  Fumble Recovery (Opponent)       cle   \n",
            "41221            15        3  14.383333              Pass Reception       wsh   \n",
            "...             ...      ...        ...                         ...       ...   \n",
            "86098            -7        4   3.783333                        Sack       car   \n",
            "4098              1        1   9.750000                        Rush        no   \n",
            "84841            12        4  10.000000                        Punt       wsh   \n",
            "44222            15        3   9.050000                        Rush       cin   \n",
            "41687             5        2   0.433333                     Penalty       det   \n",
            "\n",
            "        ...  end_yardlinie  end_yardsToEndzone  season  week  Home_teamname  \\\n",
            "117284  ...             24                  76    2017    11            oak   \n",
            "79250   ...             64                  36    2016    13            sea   \n",
            "260759  ...             78                  78    2020    16            bal   \n",
            "342700  ...             62                  62    2022    13            hou   \n",
            "41221   ...             64                  64    2015    16            phi   \n",
            "...     ...            ...                 ...     ...   ...            ...   \n",
            "86098   ...             35                  35    2016    16            car   \n",
            "4098    ...             79                  79    2015     1            ari   \n",
            "84841   ...             55                  54    2016    15            wsh   \n",
            "44222   ...             53                  47    2015    17            cin   \n",
            "41687   ...             41                  59    2015    16            det   \n",
            "\n",
            "        Away_teamname  elo_score_away  elo_score_home  attendence  \\\n",
            "117284             ne         1713.25        1484.890    0.889161   \n",
            "79250             car         1551.62        1641.020    1.005295   \n",
            "260759            nyg         1375.48        1631.260    0.000000   \n",
            "342700            cle         1480.67        1315.920    0.923995   \n",
            "41221             wsh         1455.97        1492.810    0.995950   \n",
            "...               ...             ...             ...         ...   \n",
            "86098             atl         1601.67        1577.150    0.996896   \n",
            "4098               no         1486.37        1540.563    0.967738   \n",
            "84841             car         1547.51        1539.270    1.134167   \n",
            "44222             bal         1469.77        1619.190    0.873907   \n",
            "41687              sf         1405.31        1468.170    0.950589   \n",
            "\n",
            "        time_remaining  \n",
            "117284        0.000000  \n",
            "79250        44.250000  \n",
            "260759       24.666667  \n",
            "342700       57.083333  \n",
            "41221        29.383333  \n",
            "...                ...  \n",
            "86098         3.783333  \n",
            "4098         54.750000  \n",
            "84841        10.000000  \n",
            "44222        24.050000  \n",
            "41687        30.433333  \n",
            "\n",
            "[70769 rows x 26 columns]\n",
            "117284    1\n",
            "79250     0\n",
            "260759    0\n",
            "342700    1\n",
            "41221     1\n",
            "         ..\n",
            "86098     1\n",
            "4098      0\n",
            "84841     1\n",
            "44222     0\n",
            "41687     0\n",
            "Name: Winner, Length: 70769, dtype: object\n"
          ]
        }
      ],
      "source": [
        "print(X_valid)\n",
        "print(y_valid)"
      ]
    },
    {
      "cell_type": "code",
      "source": [
        "cardinality_cols = ['GameID', 'playID','type_text', 'team_play', 'start_down', 'end_down', 'season', 'week', 'Home_teamname', 'Away_teamname']\n",
        "numerical_cols = ['awayScore', 'homeScore', 'scoreValue', 'statYardage', 'quarter', 'clock', 'start_distance', 'start_yardlinie', 'start_yardsToEndzone', 'end_distance', 'end_yardlinie', 'end_yardsToEndzone', 'elo_score_away', 'elo_score_home', 'attendence', 'time_remaining']"
      ],
      "metadata": {
        "id": "mrKx4IGz2MCx"
      },
      "execution_count": 51,
      "outputs": []
    },
    {
      "cell_type": "code",
      "source": [
        "\n",
        "print(numerical_cols)\n",
        "print(cardinality_cols)"
      ],
      "metadata": {
        "colab": {
          "base_uri": "https://localhost:8080/"
        },
        "id": "gMgBeuF72Q_r",
        "outputId": "d6cf6977-c2e5-4a7f-d18b-42cfaa7cf7d5"
      },
      "execution_count": 52,
      "outputs": [
        {
          "output_type": "stream",
          "name": "stdout",
          "text": [
            "['awayScore', 'homeScore', 'scoreValue', 'statYardage', 'quarter', 'clock', 'start_distance', 'start_yardlinie', 'start_yardsToEndzone', 'end_distance', 'end_yardlinie', 'end_yardsToEndzone', 'elo_score_away', 'elo_score_home', 'attendence', 'time_remaining']\n",
            "['GameID', 'playID', 'type_text', 'team_play', 'start_down', 'end_down', 'season', 'week', 'Home_teamname', 'Away_teamname']\n"
          ]
        }
      ]
    },
    {
      "cell_type": "code",
      "execution_count": 53,
      "metadata": {
        "id": "DylJJNihWA4p"
      },
      "outputs": [],
      "source": [
        "# Preprocessing numerical columns\n",
        "numerical_transformer = StandardScaler() \n",
        "\n",
        "# Preprocessing categorical columns\n",
        "categorical_transformer = Pipeline(steps=[\n",
        "    ('onehot', OneHotEncoder(handle_unknown='ignore')) \n",
        "])\n",
        "\n",
        "# Bundle both preprocessors\n",
        "preprocessor = ColumnTransformer(transformers=[\n",
        "    ('num', numerical_transformer, numerical_cols),  # Include numerical transformer\n",
        "    ('cat', categorical_transformer, cardinality_cols)\n",
        "])"
      ]
    },
    {
      "cell_type": "code",
      "execution_count": 54,
      "metadata": {
        "colab": {
          "base_uri": "https://localhost:8080/"
        },
        "id": "hqMlQP9yM5si",
        "outputId": "c8110277-aa34-4e7a-e1f1-84a303d1bf96"
      },
      "outputs": [
        {
          "output_type": "stream",
          "name": "stdout",
          "text": [
            "['awayScore', 'homeScore', 'scoreValue', 'statYardage', 'quarter', 'clock', 'start_distance', 'start_yardlinie', 'start_yardsToEndzone', 'end_distance', 'end_yardlinie', 'end_yardsToEndzone', 'elo_score_away', 'elo_score_home', 'attendence', 'time_remaining']\n",
            "['GameID', 'playID', 'type_text', 'team_play', 'start_down', 'end_down', 'season', 'week', 'Home_teamname', 'Away_teamname']\n"
          ]
        }
      ],
      "source": [
        "print(numerical_cols)\n",
        "print(cardinality_cols)"
      ]
    },
    {
      "cell_type": "code",
      "execution_count": 55,
      "metadata": {
        "colab": {
          "base_uri": "https://localhost:8080/"
        },
        "id": "e0Roxt6MXEJS",
        "outputId": "fbb5c479-b454-46ba-a0d6-d22d7fe23ce4"
      },
      "outputs": [
        {
          "output_type": "stream",
          "name": "stdout",
          "text": [
            "[0 1]\n"
          ]
        }
      ],
      "source": [
        "import numpy as np\n",
        "\n",
        "unique_values = np.unique(y_valid)\n",
        "print(unique_values)\n",
        "y_valid = y_valid.astype(int)"
      ]
    },
    {
      "cell_type": "code",
      "source": [
        "X_train.to_csv('/content/drive/MyDrive/seminar/Train_data', index=False)"
      ],
      "metadata": {
        "id": "1Nc-cpiz_GDd"
      },
      "execution_count": 56,
      "outputs": []
    },
    {
      "cell_type": "code",
      "source": [],
      "metadata": {
        "id": "cvjXbmLcX-c2"
      },
      "execution_count": 56,
      "outputs": []
    },
    {
      "cell_type": "code",
      "source": [
        "#dask_df = play_data\n",
        "\n",
        "# Erstelle den Pandas Profiling-Bericht\n",
        "#report = pandas_profiling.ProfileReport(dask_df)\n",
        "\n",
        "# Save the report as an HTML file\n",
        "#report.to_file('/content/drive/MyDrive/seminar/profil_report_data_train.html')"
      ],
      "metadata": {
        "id": "Ugf4UUFIwrpE"
      },
      "execution_count": 57,
      "outputs": []
    },
    {
      "cell_type": "code",
      "source": [
        "#play_data[(play_data['GameID']==400951620) & (play_data['playID']==400951620268)]#400951620\t400951620268"
      ],
      "metadata": {
        "id": "jHFrtaoWWWya"
      },
      "execution_count": 58,
      "outputs": []
    },
    {
      "cell_type": "code",
      "source": [],
      "metadata": {
        "id": "xvkD-H3ewvEU"
      },
      "execution_count": 58,
      "outputs": []
    },
    {
      "cell_type": "code",
      "source": [
        "value_counts = y_valid.value_counts()\n",
        "\n",
        "# Print the counts\n",
        "print(value_counts)"
      ],
      "metadata": {
        "colab": {
          "base_uri": "https://localhost:8080/"
        },
        "id": "m5Ev4Co7zBF6",
        "outputId": "c1f16f02-d01f-4e56-fbd9-a33a7ff5c82d"
      },
      "execution_count": 59,
      "outputs": [
        {
          "output_type": "stream",
          "name": "stdout",
          "text": [
            "0    38500\n",
            "1    32269\n",
            "Name: Winner, dtype: int64\n"
          ]
        }
      ]
    },
    {
      "cell_type": "code",
      "source": [
        "122931/(103526+122931)"
      ],
      "metadata": {
        "colab": {
          "base_uri": "https://localhost:8080/"
        },
        "id": "PBcYwYBTyVgS",
        "outputId": "798d6d2c-290c-46b2-abe4-33128be9c6a0"
      },
      "execution_count": 60,
      "outputs": [
        {
          "output_type": "execute_result",
          "data": {
            "text/plain": [
              "0.5428447784789165"
            ]
          },
          "metadata": {},
          "execution_count": 60
        }
      ]
    },
    {
      "cell_type": "code",
      "source": [
        "X_train"
      ],
      "metadata": {
        "colab": {
          "base_uri": "https://localhost:8080/",
          "height": 539
        },
        "id": "UWmwgk_r0EnI",
        "outputId": "9d9945d2-94b0-49b1-9aa0-24968c877505"
      },
      "execution_count": 61,
      "outputs": [
        {
          "output_type": "execute_result",
          "data": {
            "text/plain": [
              "           GameID         playID  awayScore  homeScore  scoreValue  \\\n",
              "12340   400791701  4007917014003         37         17           0   \n",
              "123579  400951647  4009516471969          7         14           0   \n",
              "258136  401220270   401220270708          3          0           0   \n",
              "292770  401326493  4013264931466         10         10           0   \n",
              "140824  401030794  4010307942232          3          3           0   \n",
              "...           ...            ...        ...        ...         ...   \n",
              "125326  400951652  4009516522554         10         10           0   \n",
              "306884  401326581  4013265813667         20         19           0   \n",
              "155062  401030816  4010308161955          3          6           0   \n",
              "120699  400951684  4009516841478          6          0           0   \n",
              "308458  401326588   401326588819          0          0           0   \n",
              "\n",
              "        statYardage  quarter      clock          type_text team_play  ...  \\\n",
              "12340             5        4   1.566667            Penalty        tb  ...   \n",
              "123579            3        3  15.000000               Rush       cle  ...   \n",
              "258136            9        1   3.166667     Pass Reception       wsh  ...   \n",
              "292770            4        2   6.516667               Rush        tb  ...   \n",
              "140824            5        3  12.316667               Rush       ten  ...   \n",
              "...             ...      ...        ...                ...       ...  ...   \n",
              "125326            0        3   7.533333            Kickoff       sea  ...   \n",
              "306884            0        4   0.416667  Pass Incompletion       bal  ...   \n",
              "155062            7        3  15.000000               Rush       nyj  ...   \n",
              "120699            0        2   6.433333            Kickoff        ne  ...   \n",
              "308458           22        1   4.233333     Pass Reception       cle  ...   \n",
              "\n",
              "        end_yardlinie  end_yardsToEndzone  season  week  Home_teamname  \\\n",
              "12340              86                  14    2015     4             tb   \n",
              "123579             28                  72    2017    14            cle   \n",
              "258136             13                  87    2020    15            wsh   \n",
              "292770             82                  18    2021    11             tb   \n",
              "140824             12                  12    2018     3            jax   \n",
              "...               ...                 ...     ...   ...            ...   \n",
              "125326             25                  75    2017    14            jax   \n",
              "306884             34                  66    2021    17            bal   \n",
              "155062             68                  68    2018     9            mia   \n",
              "120699             25                  75    2017    13            buf   \n",
              "308458             43                  57    2021    18            cle   \n",
              "\n",
              "        Away_teamname  elo_score_away  elo_score_home  attendence  \\\n",
              "12340             car         1572.20         1354.03    0.873002   \n",
              "123579             gb         1502.86         1227.49    1.000000   \n",
              "258136            sea         1582.35         1481.80    0.000000   \n",
              "292770            nyg         1431.18         1623.83    0.997190   \n",
              "140824            ten         1484.10         1577.74    0.943367   \n",
              "...               ...             ...             ...         ...   \n",
              "125326            sea         1623.06         1536.24    0.949497   \n",
              "306884            stl         1630.31         1535.22    0.994106   \n",
              "155062            nyj         1417.33         1434.31    1.011827   \n",
              "120699             ne         1730.80         1495.55    0.956409   \n",
              "308458            cin         1554.15         1482.23    1.000000   \n",
              "\n",
              "        time_remaining  \n",
              "12340         1.566667  \n",
              "123579       30.000000  \n",
              "258136       48.166667  \n",
              "292770       36.516667  \n",
              "140824       27.316667  \n",
              "...                ...  \n",
              "125326       22.533333  \n",
              "306884        0.416667  \n",
              "155062       30.000000  \n",
              "120699       36.433333  \n",
              "308458       49.233333  \n",
              "\n",
              "[283072 rows x 26 columns]"
            ],
            "text/html": [
              "\n",
              "  <div id=\"df-2c79e7e1-c641-4aac-8d99-f6399bab11d6\">\n",
              "    <div class=\"colab-df-container\">\n",
              "      <div>\n",
              "<style scoped>\n",
              "    .dataframe tbody tr th:only-of-type {\n",
              "        vertical-align: middle;\n",
              "    }\n",
              "\n",
              "    .dataframe tbody tr th {\n",
              "        vertical-align: top;\n",
              "    }\n",
              "\n",
              "    .dataframe thead th {\n",
              "        text-align: right;\n",
              "    }\n",
              "</style>\n",
              "<table border=\"1\" class=\"dataframe\">\n",
              "  <thead>\n",
              "    <tr style=\"text-align: right;\">\n",
              "      <th></th>\n",
              "      <th>GameID</th>\n",
              "      <th>playID</th>\n",
              "      <th>awayScore</th>\n",
              "      <th>homeScore</th>\n",
              "      <th>scoreValue</th>\n",
              "      <th>statYardage</th>\n",
              "      <th>quarter</th>\n",
              "      <th>clock</th>\n",
              "      <th>type_text</th>\n",
              "      <th>team_play</th>\n",
              "      <th>...</th>\n",
              "      <th>end_yardlinie</th>\n",
              "      <th>end_yardsToEndzone</th>\n",
              "      <th>season</th>\n",
              "      <th>week</th>\n",
              "      <th>Home_teamname</th>\n",
              "      <th>Away_teamname</th>\n",
              "      <th>elo_score_away</th>\n",
              "      <th>elo_score_home</th>\n",
              "      <th>attendence</th>\n",
              "      <th>time_remaining</th>\n",
              "    </tr>\n",
              "  </thead>\n",
              "  <tbody>\n",
              "    <tr>\n",
              "      <th>12340</th>\n",
              "      <td>400791701</td>\n",
              "      <td>4007917014003</td>\n",
              "      <td>37</td>\n",
              "      <td>17</td>\n",
              "      <td>0</td>\n",
              "      <td>5</td>\n",
              "      <td>4</td>\n",
              "      <td>1.566667</td>\n",
              "      <td>Penalty</td>\n",
              "      <td>tb</td>\n",
              "      <td>...</td>\n",
              "      <td>86</td>\n",
              "      <td>14</td>\n",
              "      <td>2015</td>\n",
              "      <td>4</td>\n",
              "      <td>tb</td>\n",
              "      <td>car</td>\n",
              "      <td>1572.20</td>\n",
              "      <td>1354.03</td>\n",
              "      <td>0.873002</td>\n",
              "      <td>1.566667</td>\n",
              "    </tr>\n",
              "    <tr>\n",
              "      <th>123579</th>\n",
              "      <td>400951647</td>\n",
              "      <td>4009516471969</td>\n",
              "      <td>7</td>\n",
              "      <td>14</td>\n",
              "      <td>0</td>\n",
              "      <td>3</td>\n",
              "      <td>3</td>\n",
              "      <td>15.000000</td>\n",
              "      <td>Rush</td>\n",
              "      <td>cle</td>\n",
              "      <td>...</td>\n",
              "      <td>28</td>\n",
              "      <td>72</td>\n",
              "      <td>2017</td>\n",
              "      <td>14</td>\n",
              "      <td>cle</td>\n",
              "      <td>gb</td>\n",
              "      <td>1502.86</td>\n",
              "      <td>1227.49</td>\n",
              "      <td>1.000000</td>\n",
              "      <td>30.000000</td>\n",
              "    </tr>\n",
              "    <tr>\n",
              "      <th>258136</th>\n",
              "      <td>401220270</td>\n",
              "      <td>401220270708</td>\n",
              "      <td>3</td>\n",
              "      <td>0</td>\n",
              "      <td>0</td>\n",
              "      <td>9</td>\n",
              "      <td>1</td>\n",
              "      <td>3.166667</td>\n",
              "      <td>Pass Reception</td>\n",
              "      <td>wsh</td>\n",
              "      <td>...</td>\n",
              "      <td>13</td>\n",
              "      <td>87</td>\n",
              "      <td>2020</td>\n",
              "      <td>15</td>\n",
              "      <td>wsh</td>\n",
              "      <td>sea</td>\n",
              "      <td>1582.35</td>\n",
              "      <td>1481.80</td>\n",
              "      <td>0.000000</td>\n",
              "      <td>48.166667</td>\n",
              "    </tr>\n",
              "    <tr>\n",
              "      <th>292770</th>\n",
              "      <td>401326493</td>\n",
              "      <td>4013264931466</td>\n",
              "      <td>10</td>\n",
              "      <td>10</td>\n",
              "      <td>0</td>\n",
              "      <td>4</td>\n",
              "      <td>2</td>\n",
              "      <td>6.516667</td>\n",
              "      <td>Rush</td>\n",
              "      <td>tb</td>\n",
              "      <td>...</td>\n",
              "      <td>82</td>\n",
              "      <td>18</td>\n",
              "      <td>2021</td>\n",
              "      <td>11</td>\n",
              "      <td>tb</td>\n",
              "      <td>nyg</td>\n",
              "      <td>1431.18</td>\n",
              "      <td>1623.83</td>\n",
              "      <td>0.997190</td>\n",
              "      <td>36.516667</td>\n",
              "    </tr>\n",
              "    <tr>\n",
              "      <th>140824</th>\n",
              "      <td>401030794</td>\n",
              "      <td>4010307942232</td>\n",
              "      <td>3</td>\n",
              "      <td>3</td>\n",
              "      <td>0</td>\n",
              "      <td>5</td>\n",
              "      <td>3</td>\n",
              "      <td>12.316667</td>\n",
              "      <td>Rush</td>\n",
              "      <td>ten</td>\n",
              "      <td>...</td>\n",
              "      <td>12</td>\n",
              "      <td>12</td>\n",
              "      <td>2018</td>\n",
              "      <td>3</td>\n",
              "      <td>jax</td>\n",
              "      <td>ten</td>\n",
              "      <td>1484.10</td>\n",
              "      <td>1577.74</td>\n",
              "      <td>0.943367</td>\n",
              "      <td>27.316667</td>\n",
              "    </tr>\n",
              "    <tr>\n",
              "      <th>...</th>\n",
              "      <td>...</td>\n",
              "      <td>...</td>\n",
              "      <td>...</td>\n",
              "      <td>...</td>\n",
              "      <td>...</td>\n",
              "      <td>...</td>\n",
              "      <td>...</td>\n",
              "      <td>...</td>\n",
              "      <td>...</td>\n",
              "      <td>...</td>\n",
              "      <td>...</td>\n",
              "      <td>...</td>\n",
              "      <td>...</td>\n",
              "      <td>...</td>\n",
              "      <td>...</td>\n",
              "      <td>...</td>\n",
              "      <td>...</td>\n",
              "      <td>...</td>\n",
              "      <td>...</td>\n",
              "      <td>...</td>\n",
              "      <td>...</td>\n",
              "    </tr>\n",
              "    <tr>\n",
              "      <th>125326</th>\n",
              "      <td>400951652</td>\n",
              "      <td>4009516522554</td>\n",
              "      <td>10</td>\n",
              "      <td>10</td>\n",
              "      <td>0</td>\n",
              "      <td>0</td>\n",
              "      <td>3</td>\n",
              "      <td>7.533333</td>\n",
              "      <td>Kickoff</td>\n",
              "      <td>sea</td>\n",
              "      <td>...</td>\n",
              "      <td>25</td>\n",
              "      <td>75</td>\n",
              "      <td>2017</td>\n",
              "      <td>14</td>\n",
              "      <td>jax</td>\n",
              "      <td>sea</td>\n",
              "      <td>1623.06</td>\n",
              "      <td>1536.24</td>\n",
              "      <td>0.949497</td>\n",
              "      <td>22.533333</td>\n",
              "    </tr>\n",
              "    <tr>\n",
              "      <th>306884</th>\n",
              "      <td>401326581</td>\n",
              "      <td>4013265813667</td>\n",
              "      <td>20</td>\n",
              "      <td>19</td>\n",
              "      <td>0</td>\n",
              "      <td>0</td>\n",
              "      <td>4</td>\n",
              "      <td>0.416667</td>\n",
              "      <td>Pass Incompletion</td>\n",
              "      <td>bal</td>\n",
              "      <td>...</td>\n",
              "      <td>34</td>\n",
              "      <td>66</td>\n",
              "      <td>2021</td>\n",
              "      <td>17</td>\n",
              "      <td>bal</td>\n",
              "      <td>stl</td>\n",
              "      <td>1630.31</td>\n",
              "      <td>1535.22</td>\n",
              "      <td>0.994106</td>\n",
              "      <td>0.416667</td>\n",
              "    </tr>\n",
              "    <tr>\n",
              "      <th>155062</th>\n",
              "      <td>401030816</td>\n",
              "      <td>4010308161955</td>\n",
              "      <td>3</td>\n",
              "      <td>6</td>\n",
              "      <td>0</td>\n",
              "      <td>7</td>\n",
              "      <td>3</td>\n",
              "      <td>15.000000</td>\n",
              "      <td>Rush</td>\n",
              "      <td>nyj</td>\n",
              "      <td>...</td>\n",
              "      <td>68</td>\n",
              "      <td>68</td>\n",
              "      <td>2018</td>\n",
              "      <td>9</td>\n",
              "      <td>mia</td>\n",
              "      <td>nyj</td>\n",
              "      <td>1417.33</td>\n",
              "      <td>1434.31</td>\n",
              "      <td>1.011827</td>\n",
              "      <td>30.000000</td>\n",
              "    </tr>\n",
              "    <tr>\n",
              "      <th>120699</th>\n",
              "      <td>400951684</td>\n",
              "      <td>4009516841478</td>\n",
              "      <td>6</td>\n",
              "      <td>0</td>\n",
              "      <td>0</td>\n",
              "      <td>0</td>\n",
              "      <td>2</td>\n",
              "      <td>6.433333</td>\n",
              "      <td>Kickoff</td>\n",
              "      <td>ne</td>\n",
              "      <td>...</td>\n",
              "      <td>25</td>\n",
              "      <td>75</td>\n",
              "      <td>2017</td>\n",
              "      <td>13</td>\n",
              "      <td>buf</td>\n",
              "      <td>ne</td>\n",
              "      <td>1730.80</td>\n",
              "      <td>1495.55</td>\n",
              "      <td>0.956409</td>\n",
              "      <td>36.433333</td>\n",
              "    </tr>\n",
              "    <tr>\n",
              "      <th>308458</th>\n",
              "      <td>401326588</td>\n",
              "      <td>401326588819</td>\n",
              "      <td>0</td>\n",
              "      <td>0</td>\n",
              "      <td>0</td>\n",
              "      <td>22</td>\n",
              "      <td>1</td>\n",
              "      <td>4.233333</td>\n",
              "      <td>Pass Reception</td>\n",
              "      <td>cle</td>\n",
              "      <td>...</td>\n",
              "      <td>43</td>\n",
              "      <td>57</td>\n",
              "      <td>2021</td>\n",
              "      <td>18</td>\n",
              "      <td>cle</td>\n",
              "      <td>cin</td>\n",
              "      <td>1554.15</td>\n",
              "      <td>1482.23</td>\n",
              "      <td>1.000000</td>\n",
              "      <td>49.233333</td>\n",
              "    </tr>\n",
              "  </tbody>\n",
              "</table>\n",
              "<p>283072 rows × 26 columns</p>\n",
              "</div>\n",
              "      <button class=\"colab-df-convert\" onclick=\"convertToInteractive('df-2c79e7e1-c641-4aac-8d99-f6399bab11d6')\"\n",
              "              title=\"Convert this dataframe to an interactive table.\"\n",
              "              style=\"display:none;\">\n",
              "        \n",
              "  <svg xmlns=\"http://www.w3.org/2000/svg\" height=\"24px\"viewBox=\"0 0 24 24\"\n",
              "       width=\"24px\">\n",
              "    <path d=\"M0 0h24v24H0V0z\" fill=\"none\"/>\n",
              "    <path d=\"M18.56 5.44l.94 2.06.94-2.06 2.06-.94-2.06-.94-.94-2.06-.94 2.06-2.06.94zm-11 1L8.5 8.5l.94-2.06 2.06-.94-2.06-.94L8.5 2.5l-.94 2.06-2.06.94zm10 10l.94 2.06.94-2.06 2.06-.94-2.06-.94-.94-2.06-.94 2.06-2.06.94z\"/><path d=\"M17.41 7.96l-1.37-1.37c-.4-.4-.92-.59-1.43-.59-.52 0-1.04.2-1.43.59L10.3 9.45l-7.72 7.72c-.78.78-.78 2.05 0 2.83L4 21.41c.39.39.9.59 1.41.59.51 0 1.02-.2 1.41-.59l7.78-7.78 2.81-2.81c.8-.78.8-2.07 0-2.86zM5.41 20L4 18.59l7.72-7.72 1.47 1.35L5.41 20z\"/>\n",
              "  </svg>\n",
              "      </button>\n",
              "      \n",
              "  <style>\n",
              "    .colab-df-container {\n",
              "      display:flex;\n",
              "      flex-wrap:wrap;\n",
              "      gap: 12px;\n",
              "    }\n",
              "\n",
              "    .colab-df-convert {\n",
              "      background-color: #E8F0FE;\n",
              "      border: none;\n",
              "      border-radius: 50%;\n",
              "      cursor: pointer;\n",
              "      display: none;\n",
              "      fill: #1967D2;\n",
              "      height: 32px;\n",
              "      padding: 0 0 0 0;\n",
              "      width: 32px;\n",
              "    }\n",
              "\n",
              "    .colab-df-convert:hover {\n",
              "      background-color: #E2EBFA;\n",
              "      box-shadow: 0px 1px 2px rgba(60, 64, 67, 0.3), 0px 1px 3px 1px rgba(60, 64, 67, 0.15);\n",
              "      fill: #174EA6;\n",
              "    }\n",
              "\n",
              "    [theme=dark] .colab-df-convert {\n",
              "      background-color: #3B4455;\n",
              "      fill: #D2E3FC;\n",
              "    }\n",
              "\n",
              "    [theme=dark] .colab-df-convert:hover {\n",
              "      background-color: #434B5C;\n",
              "      box-shadow: 0px 1px 3px 1px rgba(0, 0, 0, 0.15);\n",
              "      filter: drop-shadow(0px 1px 2px rgba(0, 0, 0, 0.3));\n",
              "      fill: #FFFFFF;\n",
              "    }\n",
              "  </style>\n",
              "\n",
              "      <script>\n",
              "        const buttonEl =\n",
              "          document.querySelector('#df-2c79e7e1-c641-4aac-8d99-f6399bab11d6 button.colab-df-convert');\n",
              "        buttonEl.style.display =\n",
              "          google.colab.kernel.accessAllowed ? 'block' : 'none';\n",
              "\n",
              "        async function convertToInteractive(key) {\n",
              "          const element = document.querySelector('#df-2c79e7e1-c641-4aac-8d99-f6399bab11d6');\n",
              "          const dataTable =\n",
              "            await google.colab.kernel.invokeFunction('convertToInteractive',\n",
              "                                                     [key], {});\n",
              "          if (!dataTable) return;\n",
              "\n",
              "          const docLinkHtml = 'Like what you see? Visit the ' +\n",
              "            '<a target=\"_blank\" href=https://colab.research.google.com/notebooks/data_table.ipynb>data table notebook</a>'\n",
              "            + ' to learn more about interactive tables.';\n",
              "          element.innerHTML = '';\n",
              "          dataTable['output_type'] = 'display_data';\n",
              "          await google.colab.output.renderOutput(dataTable, element);\n",
              "          const docLink = document.createElement('div');\n",
              "          docLink.innerHTML = docLinkHtml;\n",
              "          element.appendChild(docLink);\n",
              "        }\n",
              "      </script>\n",
              "    </div>\n",
              "  </div>\n",
              "  "
            ]
          },
          "metadata": {},
          "execution_count": 61
        }
      ]
    },
    {
      "cell_type": "code",
      "execution_count": 72,
      "metadata": {
        "colab": {
          "base_uri": "https://localhost:8080/"
        },
        "id": "Q3mtzKZPZZEC",
        "outputId": "a0623784-0808-45fe-e46a-0fe661a319f5"
      },
      "outputs": [
        {
          "output_type": "stream",
          "name": "stdout",
          "text": [
            "Accuracy: 0.87\n",
            "Precision: 0.87\n",
            "Recall: 0.84\n",
            "F1 Score: 0.85\n",
            "Confusion matrix:  [[34411  4089]\n",
            " [ 5174 27095]]\n"
          ]
        }
      ],
      "source": [
        "from sklearn.metrics import confusion_matrix\n",
        "xg = xgb.XGBClassifier(n_estimators=100, max_depth=6, learning_rate=0.1)\n",
        "y_valid = y_valid.astype(int)\n",
        "y_train = y_train.astype(int)\n",
        "# Bundle preprocessing and modeling code in a pipeline\n",
        "complete_pipeline_xg = Pipeline(steps=[\n",
        "    ('preprocessor', preprocessor),\n",
        "    ('model', xg)\n",
        "])\n",
        "\n",
        "# Bundle preprocessing and modeling code in a pipeline\n",
        "\n",
        "# Preprocess the raw training data and fit the model\n",
        "complete_pipeline_xg.fit(X_train, y_train)\n",
        "# complete_pipeline.fit(X_train, y_train, model__early_stopping_rounds=10,\n",
        "                      #model__eval_metric='logloss', model__eval_set=[(X_valid, y_valid)], model__verbose=False)\n",
        "\n",
        "\n",
        "\n",
        "# Preprocess the raw validation data and make predictions\n",
        "preds_xg = complete_pipeline_xg.predict(X_valid)\n",
        "\n",
        "accuracy = accuracy_score(y_valid, preds_xg)\n",
        "precision = precision_score(y_valid, preds_xg)\n",
        "recall = recall_score(y_valid, preds_xg)\n",
        "f1 = f1_score(y_valid, preds_xg)\n",
        "auc = roc_auc_score(y_valid, preds_xg)\n",
        "cm = confusion_matrix(y_valid, preds_xg)\n",
        "cm_str = np.array2string(cm, separator=', ')\n",
        "\n",
        "print(\"Accuracy: {:.2f}\".format(accuracy))\n",
        "print(\"Precision: {:.2f}\".format(precision))\n",
        "print(\"Recall: {:.2f}\".format(recall))\n",
        "print(\"F1 Score: {:.2f}\".format(f1))\n",
        "print('Confusion matrix: ', cm)\n",
        "\n",
        "\n",
        "\n"
      ]
    },
    {
      "cell_type": "code",
      "source": [],
      "metadata": {
        "colab": {
          "base_uri": "https://localhost:8080/",
          "height": 227
        },
        "id": "Aoo0mKx9g13G",
        "outputId": "6bc44d33-e896-4157-ace1-251d46c2ae2a"
      },
      "execution_count": 63,
      "outputs": [
        {
          "output_type": "error",
          "ename": "NameError",
          "evalue": "ignored",
          "traceback": [
            "\u001b[0;31m---------------------------------------------------------------------------\u001b[0m",
            "\u001b[0;31mNameError\u001b[0m                                 Traceback (most recent call last)",
            "\u001b[0;32m<ipython-input-63-1cc1bec63a7e>\u001b[0m in \u001b[0;36m<cell line: 3>\u001b[0;34m()\u001b[0m\n\u001b[1;32m      1\u001b[0m \u001b[0;32mimport\u001b[0m \u001b[0mnumpy\u001b[0m \u001b[0;32mas\u001b[0m \u001b[0mnp\u001b[0m\u001b[0;34m\u001b[0m\u001b[0;34m\u001b[0m\u001b[0m\n\u001b[1;32m      2\u001b[0m \u001b[0;34m\u001b[0m\u001b[0m\n\u001b[0;32m----> 3\u001b[0;31m \u001b[0munique_values\u001b[0m \u001b[0;34m=\u001b[0m \u001b[0mnp\u001b[0m\u001b[0;34m.\u001b[0m\u001b[0munique\u001b[0m\u001b[0;34m(\u001b[0m\u001b[0mpreds\u001b[0m\u001b[0;34m)\u001b[0m\u001b[0;34m\u001b[0m\u001b[0;34m\u001b[0m\u001b[0m\n\u001b[0m\u001b[1;32m      4\u001b[0m \u001b[0mprint\u001b[0m\u001b[0;34m(\u001b[0m\u001b[0munique_values\u001b[0m\u001b[0;34m)\u001b[0m\u001b[0;34m\u001b[0m\u001b[0;34m\u001b[0m\u001b[0m\n",
            "\u001b[0;31mNameError\u001b[0m: name 'preds' is not defined"
          ]
        }
      ]
    },
    {
      "cell_type": "code",
      "source": [],
      "metadata": {
        "id": "vuYOt854JzvQ"
      },
      "execution_count": null,
      "outputs": []
    },
    {
      "cell_type": "code",
      "source": [
        "!pip uninstall torch torchvision\n",
        "\n"
      ],
      "metadata": {
        "colab": {
          "base_uri": "https://localhost:8080/"
        },
        "id": "Hg0svRshHN8_",
        "outputId": "2ed28b4d-dcb0-45f6-e501-0b34aac8650e"
      },
      "execution_count": 76,
      "outputs": [
        {
          "output_type": "stream",
          "name": "stdout",
          "text": [
            "Found existing installation: torch 1.13.1\n",
            "Uninstalling torch-1.13.1:\n",
            "  Would remove:\n",
            "    /usr/local/bin/convert-caffe2-to-onnx\n",
            "    /usr/local/bin/convert-onnx-to-caffe2\n",
            "    /usr/local/bin/torchrun\n",
            "    /usr/local/lib/python3.10/dist-packages/functorch/*\n",
            "    /usr/local/lib/python3.10/dist-packages/torch-1.13.1.dist-info/*\n",
            "    /usr/local/lib/python3.10/dist-packages/torch/*\n",
            "    /usr/local/lib/python3.10/dist-packages/torchgen/*\n",
            "Proceed (Y/n)? y\n",
            "  Successfully uninstalled torch-1.13.1\n",
            "Found existing installation: torchvision 0.15.2+cu118\n",
            "Uninstalling torchvision-0.15.2+cu118:\n",
            "  Would remove:\n",
            "    /usr/local/lib/python3.10/dist-packages/torchvision-0.15.2+cu118.dist-info/*\n",
            "    /usr/local/lib/python3.10/dist-packages/torchvision.libs/libcudart.60cfec8e.so.11.0\n",
            "    /usr/local/lib/python3.10/dist-packages/torchvision.libs/libjpeg.ceea7512.so.62\n",
            "    /usr/local/lib/python3.10/dist-packages/torchvision.libs/libnvjpeg.70530407.so.11\n",
            "    /usr/local/lib/python3.10/dist-packages/torchvision.libs/libpng16.7f72a3c5.so.16\n",
            "    /usr/local/lib/python3.10/dist-packages/torchvision.libs/libz.e3d3156c.so.1\n",
            "    /usr/local/lib/python3.10/dist-packages/torchvision/*\n",
            "Proceed (Y/n)? y\n",
            "  Successfully uninstalled torchvision-0.15.2+cu118\n"
          ]
        }
      ]
    },
    {
      "cell_type": "code",
      "source": [
        "!pip install --upgrade torchvision"
      ],
      "metadata": {
        "colab": {
          "base_uri": "https://localhost:8080/",
          "height": 919
        },
        "id": "vrOFIki5Uzy6",
        "outputId": "c3e167fc-db8b-43e8-d186-b4038a7dfbe5"
      },
      "execution_count": 81,
      "outputs": [
        {
          "output_type": "stream",
          "name": "stdout",
          "text": [
            "Looking in indexes: https://pypi.org/simple, https://us-python.pkg.dev/colab-wheels/public/simple/\n",
            "Collecting torchvision\n",
            "  Downloading torchvision-0.15.2-cp310-cp310-manylinux1_x86_64.whl (6.0 MB)\n",
            "\u001b[2K     \u001b[90m━━━━━━━━━━━━━━━━━━━━━━━━━━━━━━━━━━━━━━━━\u001b[0m \u001b[32m6.0/6.0 MB\u001b[0m \u001b[31m70.5 MB/s\u001b[0m eta \u001b[36m0:00:00\u001b[0m\n",
            "\u001b[?25hRequirement already satisfied: numpy in /usr/local/lib/python3.10/dist-packages (from torchvision) (1.22.4)\n",
            "Requirement already satisfied: requests in /usr/local/lib/python3.10/dist-packages (from torchvision) (2.27.1)\n",
            "Collecting torch==2.0.1 (from torchvision)\n",
            "  Using cached torch-2.0.1-cp310-cp310-manylinux1_x86_64.whl (619.9 MB)\n",
            "Requirement already satisfied: pillow!=8.3.*,>=5.3.0 in /usr/local/lib/python3.10/dist-packages (from torchvision) (8.4.0)\n",
            "Requirement already satisfied: filelock in /usr/local/lib/python3.10/dist-packages (from torch==2.0.1->torchvision) (3.12.0)\n",
            "Requirement already satisfied: typing-extensions in /usr/local/lib/python3.10/dist-packages (from torch==2.0.1->torchvision) (4.5.0)\n",
            "Requirement already satisfied: sympy in /usr/local/lib/python3.10/dist-packages (from torch==2.0.1->torchvision) (1.11.1)\n",
            "Requirement already satisfied: networkx in /usr/local/lib/python3.10/dist-packages (from torch==2.0.1->torchvision) (3.1)\n",
            "Requirement already satisfied: jinja2 in /usr/local/lib/python3.10/dist-packages (from torch==2.0.1->torchvision) (3.1.2)\n",
            "Requirement already satisfied: nvidia-cuda-nvrtc-cu11==11.7.99 in /usr/local/lib/python3.10/dist-packages (from torch==2.0.1->torchvision) (11.7.99)\n",
            "Requirement already satisfied: nvidia-cuda-runtime-cu11==11.7.99 in /usr/local/lib/python3.10/dist-packages (from torch==2.0.1->torchvision) (11.7.99)\n",
            "Requirement already satisfied: nvidia-cuda-cupti-cu11==11.7.101 in /usr/local/lib/python3.10/dist-packages (from torch==2.0.1->torchvision) (11.7.101)\n",
            "Requirement already satisfied: nvidia-cudnn-cu11==8.5.0.96 in /usr/local/lib/python3.10/dist-packages (from torch==2.0.1->torchvision) (8.5.0.96)\n",
            "Requirement already satisfied: nvidia-cublas-cu11==11.10.3.66 in /usr/local/lib/python3.10/dist-packages (from torch==2.0.1->torchvision) (11.10.3.66)\n",
            "Requirement already satisfied: nvidia-cufft-cu11==10.9.0.58 in /usr/local/lib/python3.10/dist-packages (from torch==2.0.1->torchvision) (10.9.0.58)\n",
            "Requirement already satisfied: nvidia-curand-cu11==10.2.10.91 in /usr/local/lib/python3.10/dist-packages (from torch==2.0.1->torchvision) (10.2.10.91)\n",
            "Requirement already satisfied: nvidia-cusolver-cu11==11.4.0.1 in /usr/local/lib/python3.10/dist-packages (from torch==2.0.1->torchvision) (11.4.0.1)\n",
            "Requirement already satisfied: nvidia-cusparse-cu11==11.7.4.91 in /usr/local/lib/python3.10/dist-packages (from torch==2.0.1->torchvision) (11.7.4.91)\n",
            "Requirement already satisfied: nvidia-nccl-cu11==2.14.3 in /usr/local/lib/python3.10/dist-packages (from torch==2.0.1->torchvision) (2.14.3)\n",
            "Requirement already satisfied: nvidia-nvtx-cu11==11.7.91 in /usr/local/lib/python3.10/dist-packages (from torch==2.0.1->torchvision) (11.7.91)\n",
            "Requirement already satisfied: triton==2.0.0 in /usr/local/lib/python3.10/dist-packages (from torch==2.0.1->torchvision) (2.0.0)\n",
            "Requirement already satisfied: setuptools in /usr/local/lib/python3.10/dist-packages (from nvidia-cublas-cu11==11.10.3.66->torch==2.0.1->torchvision) (67.7.2)\n",
            "Requirement already satisfied: wheel in /usr/local/lib/python3.10/dist-packages (from nvidia-cublas-cu11==11.10.3.66->torch==2.0.1->torchvision) (0.40.0)\n",
            "Requirement already satisfied: cmake in /usr/local/lib/python3.10/dist-packages (from triton==2.0.0->torch==2.0.1->torchvision) (3.25.2)\n",
            "Requirement already satisfied: lit in /usr/local/lib/python3.10/dist-packages (from triton==2.0.0->torch==2.0.1->torchvision) (16.0.5)\n",
            "Requirement already satisfied: urllib3<1.27,>=1.21.1 in /usr/local/lib/python3.10/dist-packages (from requests->torchvision) (1.26.15)\n",
            "Requirement already satisfied: certifi>=2017.4.17 in /usr/local/lib/python3.10/dist-packages (from requests->torchvision) (2022.12.7)\n",
            "Requirement already satisfied: charset-normalizer~=2.0.0 in /usr/local/lib/python3.10/dist-packages (from requests->torchvision) (2.0.12)\n",
            "Requirement already satisfied: idna<4,>=2.5 in /usr/local/lib/python3.10/dist-packages (from requests->torchvision) (3.4)\n",
            "Requirement already satisfied: MarkupSafe>=2.0 in /usr/local/lib/python3.10/dist-packages (from jinja2->torch==2.0.1->torchvision) (2.1.2)\n",
            "Requirement already satisfied: mpmath>=0.19 in /usr/local/lib/python3.10/dist-packages (from sympy->torch==2.0.1->torchvision) (1.3.0)\n",
            "Installing collected packages: torch, torchvision\n",
            "  Attempting uninstall: torch\n",
            "    Found existing installation: torch 1.13.1\n",
            "    Uninstalling torch-1.13.1:\n",
            "      Successfully uninstalled torch-1.13.1\n",
            "\u001b[31mERROR: pip's dependency resolver does not currently take into account all the packages that are installed. This behaviour is the source of the following dependency conflicts.\n",
            "pytorch-tabnet 4.0 requires torch<2.0,>=1.2, but you have torch 2.0.1 which is incompatible.\u001b[0m\u001b[31m\n",
            "\u001b[0mSuccessfully installed torch-2.0.1 torchvision-0.15.2\n"
          ]
        },
        {
          "output_type": "display_data",
          "data": {
            "application/vnd.colab-display-data+json": {
              "pip_warning": {
                "packages": [
                  "nvfuser",
                  "torch"
                ]
              }
            }
          },
          "metadata": {}
        }
      ]
    },
    {
      "cell_type": "code",
      "source": [
        "!pip install --upgrade torch"
      ],
      "metadata": {
        "colab": {
          "base_uri": "https://localhost:8080/"
        },
        "id": "svco21ElaHqC",
        "outputId": "67760c22-6344-4237-cdfb-2674242d6f9e"
      },
      "execution_count": 82,
      "outputs": [
        {
          "output_type": "stream",
          "name": "stdout",
          "text": [
            "Looking in indexes: https://pypi.org/simple, https://us-python.pkg.dev/colab-wheels/public/simple/\n",
            "Requirement already satisfied: torch in /usr/local/lib/python3.10/dist-packages (2.0.1)\n",
            "Requirement already satisfied: filelock in /usr/local/lib/python3.10/dist-packages (from torch) (3.12.0)\n",
            "Requirement already satisfied: typing-extensions in /usr/local/lib/python3.10/dist-packages (from torch) (4.5.0)\n",
            "Requirement already satisfied: sympy in /usr/local/lib/python3.10/dist-packages (from torch) (1.11.1)\n",
            "Requirement already satisfied: networkx in /usr/local/lib/python3.10/dist-packages (from torch) (3.1)\n",
            "Requirement already satisfied: jinja2 in /usr/local/lib/python3.10/dist-packages (from torch) (3.1.2)\n",
            "Requirement already satisfied: nvidia-cuda-nvrtc-cu11==11.7.99 in /usr/local/lib/python3.10/dist-packages (from torch) (11.7.99)\n",
            "Requirement already satisfied: nvidia-cuda-runtime-cu11==11.7.99 in /usr/local/lib/python3.10/dist-packages (from torch) (11.7.99)\n",
            "Requirement already satisfied: nvidia-cuda-cupti-cu11==11.7.101 in /usr/local/lib/python3.10/dist-packages (from torch) (11.7.101)\n",
            "Requirement already satisfied: nvidia-cudnn-cu11==8.5.0.96 in /usr/local/lib/python3.10/dist-packages (from torch) (8.5.0.96)\n",
            "Requirement already satisfied: nvidia-cublas-cu11==11.10.3.66 in /usr/local/lib/python3.10/dist-packages (from torch) (11.10.3.66)\n",
            "Requirement already satisfied: nvidia-cufft-cu11==10.9.0.58 in /usr/local/lib/python3.10/dist-packages (from torch) (10.9.0.58)\n",
            "Requirement already satisfied: nvidia-curand-cu11==10.2.10.91 in /usr/local/lib/python3.10/dist-packages (from torch) (10.2.10.91)\n",
            "Requirement already satisfied: nvidia-cusolver-cu11==11.4.0.1 in /usr/local/lib/python3.10/dist-packages (from torch) (11.4.0.1)\n",
            "Requirement already satisfied: nvidia-cusparse-cu11==11.7.4.91 in /usr/local/lib/python3.10/dist-packages (from torch) (11.7.4.91)\n",
            "Requirement already satisfied: nvidia-nccl-cu11==2.14.3 in /usr/local/lib/python3.10/dist-packages (from torch) (2.14.3)\n",
            "Requirement already satisfied: nvidia-nvtx-cu11==11.7.91 in /usr/local/lib/python3.10/dist-packages (from torch) (11.7.91)\n",
            "Requirement already satisfied: triton==2.0.0 in /usr/local/lib/python3.10/dist-packages (from torch) (2.0.0)\n",
            "Requirement already satisfied: setuptools in /usr/local/lib/python3.10/dist-packages (from nvidia-cublas-cu11==11.10.3.66->torch) (67.7.2)\n",
            "Requirement already satisfied: wheel in /usr/local/lib/python3.10/dist-packages (from nvidia-cublas-cu11==11.10.3.66->torch) (0.40.0)\n",
            "Requirement already satisfied: cmake in /usr/local/lib/python3.10/dist-packages (from triton==2.0.0->torch) (3.25.2)\n",
            "Requirement already satisfied: lit in /usr/local/lib/python3.10/dist-packages (from triton==2.0.0->torch) (16.0.5)\n",
            "Requirement already satisfied: MarkupSafe>=2.0 in /usr/local/lib/python3.10/dist-packages (from jinja2->torch) (2.1.2)\n",
            "Requirement already satisfied: mpmath>=0.19 in /usr/local/lib/python3.10/dist-packages (from sympy->torch) (1.3.0)\n"
          ]
        }
      ]
    },
    {
      "cell_type": "code",
      "source": [
        "!pip install pytorch-tabnet wget"
      ],
      "metadata": {
        "colab": {
          "base_uri": "https://localhost:8080/",
          "height": 642
        },
        "id": "dQabvtrlZekl",
        "outputId": "e3056646-2303-4e17-8471-be69b365d38e"
      },
      "execution_count": 83,
      "outputs": [
        {
          "output_type": "stream",
          "name": "stdout",
          "text": [
            "Looking in indexes: https://pypi.org/simple, https://us-python.pkg.dev/colab-wheels/public/simple/\n",
            "Requirement already satisfied: pytorch-tabnet in /usr/local/lib/python3.10/dist-packages (4.0)\n",
            "Requirement already satisfied: wget in /usr/local/lib/python3.10/dist-packages (3.2)\n",
            "Requirement already satisfied: numpy<2.0,>=1.17 in /usr/local/lib/python3.10/dist-packages (from pytorch-tabnet) (1.22.4)\n",
            "Requirement already satisfied: scikit_learn>0.21 in /usr/local/lib/python3.10/dist-packages (from pytorch-tabnet) (1.2.2)\n",
            "Requirement already satisfied: scipy>1.4 in /usr/local/lib/python3.10/dist-packages (from pytorch-tabnet) (1.10.1)\n",
            "Collecting torch<2.0,>=1.2 (from pytorch-tabnet)\n",
            "  Using cached torch-1.13.1-cp310-cp310-manylinux1_x86_64.whl (887.5 MB)\n",
            "Requirement already satisfied: tqdm<5.0,>=4.36 in /usr/local/lib/python3.10/dist-packages (from pytorch-tabnet) (4.65.0)\n",
            "Requirement already satisfied: joblib>=1.1.1 in /usr/local/lib/python3.10/dist-packages (from scikit_learn>0.21->pytorch-tabnet) (1.2.0)\n",
            "Requirement already satisfied: threadpoolctl>=2.0.0 in /usr/local/lib/python3.10/dist-packages (from scikit_learn>0.21->pytorch-tabnet) (3.1.0)\n",
            "Requirement already satisfied: typing-extensions in /usr/local/lib/python3.10/dist-packages (from torch<2.0,>=1.2->pytorch-tabnet) (4.5.0)\n",
            "Requirement already satisfied: nvidia-cuda-runtime-cu11==11.7.99 in /usr/local/lib/python3.10/dist-packages (from torch<2.0,>=1.2->pytorch-tabnet) (11.7.99)\n",
            "Requirement already satisfied: nvidia-cudnn-cu11==8.5.0.96 in /usr/local/lib/python3.10/dist-packages (from torch<2.0,>=1.2->pytorch-tabnet) (8.5.0.96)\n",
            "Requirement already satisfied: nvidia-cublas-cu11==11.10.3.66 in /usr/local/lib/python3.10/dist-packages (from torch<2.0,>=1.2->pytorch-tabnet) (11.10.3.66)\n",
            "Requirement already satisfied: nvidia-cuda-nvrtc-cu11==11.7.99 in /usr/local/lib/python3.10/dist-packages (from torch<2.0,>=1.2->pytorch-tabnet) (11.7.99)\n",
            "Requirement already satisfied: setuptools in /usr/local/lib/python3.10/dist-packages (from nvidia-cublas-cu11==11.10.3.66->torch<2.0,>=1.2->pytorch-tabnet) (67.7.2)\n",
            "Requirement already satisfied: wheel in /usr/local/lib/python3.10/dist-packages (from nvidia-cublas-cu11==11.10.3.66->torch<2.0,>=1.2->pytorch-tabnet) (0.40.0)\n",
            "Installing collected packages: torch\n",
            "  Attempting uninstall: torch\n",
            "    Found existing installation: torch 2.0.1\n",
            "    Uninstalling torch-2.0.1:\n",
            "      Successfully uninstalled torch-2.0.1\n",
            "\u001b[31mERROR: pip's dependency resolver does not currently take into account all the packages that are installed. This behaviour is the source of the following dependency conflicts.\n",
            "torchaudio 2.0.2+cu118 requires torch==2.0.1, but you have torch 1.13.1 which is incompatible.\n",
            "torchdata 0.6.1 requires torch==2.0.1, but you have torch 1.13.1 which is incompatible.\n",
            "torchtext 0.15.2 requires torch==2.0.1, but you have torch 1.13.1 which is incompatible.\n",
            "torchvision 0.15.2 requires torch==2.0.1, but you have torch 1.13.1 which is incompatible.\u001b[0m\u001b[31m\n",
            "\u001b[0mSuccessfully installed torch-1.13.1\n"
          ]
        },
        {
          "output_type": "display_data",
          "data": {
            "application/vnd.colab-display-data+json": {
              "pip_warning": {
                "packages": [
                  "torch"
                ]
              }
            }
          },
          "metadata": {}
        }
      ]
    },
    {
      "cell_type": "code",
      "source": [
        "from sklearn.metrics import confusion_matrix\n",
        "from sklearn.model_selection import train_test_split\n",
        "from pytorch_tabnet.tab_model import TabNetClassifier\n",
        "\n",
        "tn = TabNetClassifier(verbose=1, seed=42)\n",
        "\n",
        "# Load dataset\n",
        "data = play_data\n",
        "\n",
        "# Separate target from predictors\n",
        "y = data['Winner']\n",
        "X = data.drop('Winner', axis=1)\n",
        "\n",
        "# Train-test split\n",
        "X_train, X_valid, y_train, y_valid = train_test_split(X, y, train_size=0.8, test_size=0.2, random_state=0)\n",
        "y_valid = y_valid.astype(int)\n",
        "y_train = y_train.astype(int)\n",
        "y_valid = y_valid.to_numpy().squeeze()\n",
        "\n",
        "cardinality_cols = ['GameID', 'playID', 'type_text', 'team_play', 'start_down', 'end_down', 'season', 'week', 'Home_teamname', 'Away_teamname']\n",
        "numerical_cols = ['awayScore', 'homeScore', 'scoreValue', 'statYardage', 'quarter', 'clock', 'start_distance', 'start_yardlinie', 'start_yardsToEndzone', 'end_distance', 'end_yardlinie', 'end_yardsToEndzone', 'elo_score_away', 'elo_score_home', 'attendence', 'time_remaining']\n",
        "\n",
        "# Bundle preprocessing and modeling code in a pipeline\n",
        "complete_pipeline_tn = Pipeline(steps=[\n",
        "    ('preprocessor', preprocessor),\n",
        "    ('model', tn)\n",
        "])\n",
        "\n",
        "# Preprocess the raw training data and fit the model\n",
        "complete_pipeline_tn.fit(\n",
        "    X_train,\n",
        "    y_train,\n",
        "    patience=15,\n",
        "    max_epochs=60,\n",
        "    eval_set=[(X_valid, y_valid)],\n",
        "    eval_metric=['accuracy', 'auc'],\n",
        "    batch_size=32\n",
        ")\n",
        "\n",
        "# Preprocess the raw validation data and make predictions\n",
        "preds_tn = complete_pipeline_tn.predict(X_valid)\n",
        "\n",
        "accuracy = accuracy_score(y_valid, preds_tn)\n",
        "precision = precision_score(y_valid, preds_tn)\n",
        "recall = recall_score(y_valid, preds_tn)\n",
        "f1 = f1_score(y_valid, preds_tn)\n",
        "auc = roc_auc_score(y_valid, preds_tn)\n",
        "cm = confusion_matrix(y_valid, preds_tn)\n",
        "cm_str = np.array2string(cm, separator=', ')\n",
        "\n",
        "print(\"Accuracy: {:.2f}\".format(accuracy))\n",
        "print(\"Precision: {:.2f}\".format(precision))\n",
        "print(\"Recall: {:.2f}\".format(recall))\n",
        "print(\"F1 Score: {:.2f}\".format(f1))\n",
        "print('Confusion matrix: ', cm)\n"
      ],
      "metadata": {
        "colab": {
          "base_uri": "https://localhost:8080/",
          "height": 547
        },
        "id": "3cqlf1z6OQGF",
        "outputId": "b6f36442-fb63-4b55-9f50-947565c88ec3"
      },
      "execution_count": 85,
      "outputs": [
        {
          "output_type": "error",
          "ename": "ModuleNotFoundError",
          "evalue": "ignored",
          "traceback": [
            "\u001b[0;31m---------------------------------------------------------------------------\u001b[0m",
            "\u001b[0;31mModuleNotFoundError\u001b[0m                       Traceback (most recent call last)",
            "\u001b[0;32m<ipython-input-85-ef6830eea1a2>\u001b[0m in \u001b[0;36m<cell line: 5>\u001b[0;34m()\u001b[0m\n\u001b[1;32m      3\u001b[0m \u001b[0;32mfrom\u001b[0m \u001b[0mpytorch_tabnet\u001b[0m\u001b[0;34m.\u001b[0m\u001b[0mtab_model\u001b[0m \u001b[0;32mimport\u001b[0m \u001b[0mTabNetClassifier\u001b[0m\u001b[0;34m\u001b[0m\u001b[0;34m\u001b[0m\u001b[0m\n\u001b[1;32m      4\u001b[0m \u001b[0;34m\u001b[0m\u001b[0m\n\u001b[0;32m----> 5\u001b[0;31m \u001b[0mtn\u001b[0m \u001b[0;34m=\u001b[0m \u001b[0mTabNetClassifier\u001b[0m\u001b[0;34m(\u001b[0m\u001b[0mverbose\u001b[0m\u001b[0;34m=\u001b[0m\u001b[0;36m1\u001b[0m\u001b[0;34m,\u001b[0m \u001b[0mseed\u001b[0m\u001b[0;34m=\u001b[0m\u001b[0;36m42\u001b[0m\u001b[0;34m)\u001b[0m\u001b[0;34m\u001b[0m\u001b[0;34m\u001b[0m\u001b[0m\n\u001b[0m\u001b[1;32m      6\u001b[0m \u001b[0;34m\u001b[0m\u001b[0m\n\u001b[1;32m      7\u001b[0m \u001b[0;31m# Load dataset\u001b[0m\u001b[0;34m\u001b[0m\u001b[0;34m\u001b[0m\u001b[0m\n",
            "\u001b[0;32m/usr/local/lib/python3.10/dist-packages/pytorch_tabnet/abstract_model.py\u001b[0m in \u001b[0;36m__init__\u001b[0;34m(self, n_d, n_a, n_steps, gamma, cat_idxs, cat_dims, cat_emb_dim, n_independent, n_shared, epsilon, momentum, lambda_sparse, seed, clip_value, verbose, optimizer_fn, optimizer_params, scheduler_fn, scheduler_params, mask_type, input_dim, output_dim, device_name, n_shared_decoder, n_indep_decoder)\u001b[0m\n",
            "\u001b[0;32m/usr/local/lib/python3.10/dist-packages/pytorch_tabnet/tab_model.py\u001b[0m in \u001b[0;36m__post_init__\u001b[0;34m(self)\u001b[0m\n\u001b[1;32m     10\u001b[0m \u001b[0;32mclass\u001b[0m \u001b[0mTabNetClassifier\u001b[0m\u001b[0;34m(\u001b[0m\u001b[0mTabModel\u001b[0m\u001b[0;34m)\u001b[0m\u001b[0;34m:\u001b[0m\u001b[0;34m\u001b[0m\u001b[0;34m\u001b[0m\u001b[0m\n\u001b[1;32m     11\u001b[0m     \u001b[0;32mdef\u001b[0m \u001b[0m__post_init__\u001b[0m\u001b[0;34m(\u001b[0m\u001b[0mself\u001b[0m\u001b[0;34m)\u001b[0m\u001b[0;34m:\u001b[0m\u001b[0;34m\u001b[0m\u001b[0;34m\u001b[0m\u001b[0m\n\u001b[0;32m---> 12\u001b[0;31m         \u001b[0msuper\u001b[0m\u001b[0;34m(\u001b[0m\u001b[0mTabNetClassifier\u001b[0m\u001b[0;34m,\u001b[0m \u001b[0mself\u001b[0m\u001b[0;34m)\u001b[0m\u001b[0;34m.\u001b[0m\u001b[0m__post_init__\u001b[0m\u001b[0;34m(\u001b[0m\u001b[0;34m)\u001b[0m\u001b[0;34m\u001b[0m\u001b[0;34m\u001b[0m\u001b[0m\n\u001b[0m\u001b[1;32m     13\u001b[0m         \u001b[0mself\u001b[0m\u001b[0;34m.\u001b[0m\u001b[0m_task\u001b[0m \u001b[0;34m=\u001b[0m \u001b[0;34m'classification'\u001b[0m\u001b[0;34m\u001b[0m\u001b[0;34m\u001b[0m\u001b[0m\n\u001b[1;32m     14\u001b[0m         \u001b[0mself\u001b[0m\u001b[0;34m.\u001b[0m\u001b[0m_default_loss\u001b[0m \u001b[0;34m=\u001b[0m \u001b[0mtorch\u001b[0m\u001b[0;34m.\u001b[0m\u001b[0mnn\u001b[0m\u001b[0;34m.\u001b[0m\u001b[0mfunctional\u001b[0m\u001b[0;34m.\u001b[0m\u001b[0mcross_entropy\u001b[0m\u001b[0;34m\u001b[0m\u001b[0;34m\u001b[0m\u001b[0m\n",
            "\u001b[0;32m/usr/local/lib/python3.10/dist-packages/pytorch_tabnet/abstract_model.py\u001b[0m in \u001b[0;36m__post_init__\u001b[0;34m(self)\u001b[0m\n\u001b[1;32m     69\u001b[0m         \u001b[0mself\u001b[0m\u001b[0;34m.\u001b[0m\u001b[0mbatch_size\u001b[0m \u001b[0;34m=\u001b[0m \u001b[0;36m1024\u001b[0m\u001b[0;34m\u001b[0m\u001b[0;34m\u001b[0m\u001b[0m\n\u001b[1;32m     70\u001b[0m         \u001b[0mself\u001b[0m\u001b[0;34m.\u001b[0m\u001b[0mvirtual_batch_size\u001b[0m \u001b[0;34m=\u001b[0m \u001b[0;36m128\u001b[0m\u001b[0;34m\u001b[0m\u001b[0;34m\u001b[0m\u001b[0m\n\u001b[0;32m---> 71\u001b[0;31m         \u001b[0mtorch\u001b[0m\u001b[0;34m.\u001b[0m\u001b[0mmanual_seed\u001b[0m\u001b[0;34m(\u001b[0m\u001b[0mself\u001b[0m\u001b[0;34m.\u001b[0m\u001b[0mseed\u001b[0m\u001b[0;34m)\u001b[0m\u001b[0;34m\u001b[0m\u001b[0;34m\u001b[0m\u001b[0m\n\u001b[0m\u001b[1;32m     72\u001b[0m         \u001b[0;31m# Defining device\u001b[0m\u001b[0;34m\u001b[0m\u001b[0;34m\u001b[0m\u001b[0m\n\u001b[1;32m     73\u001b[0m         \u001b[0mself\u001b[0m\u001b[0;34m.\u001b[0m\u001b[0mdevice\u001b[0m \u001b[0;34m=\u001b[0m \u001b[0mtorch\u001b[0m\u001b[0;34m.\u001b[0m\u001b[0mdevice\u001b[0m\u001b[0;34m(\u001b[0m\u001b[0mdefine_device\u001b[0m\u001b[0;34m(\u001b[0m\u001b[0mself\u001b[0m\u001b[0;34m.\u001b[0m\u001b[0mdevice_name\u001b[0m\u001b[0;34m)\u001b[0m\u001b[0;34m)\u001b[0m\u001b[0;34m\u001b[0m\u001b[0;34m\u001b[0m\u001b[0m\n",
            "\u001b[0;32m/usr/local/lib/python3.10/dist-packages/torch/random.py\u001b[0m in \u001b[0;36mmanual_seed\u001b[0;34m(seed)\u001b[0m\n\u001b[1;32m     40\u001b[0m         \u001b[0mtorch\u001b[0m\u001b[0;34m.\u001b[0m\u001b[0mcuda\u001b[0m\u001b[0;34m.\u001b[0m\u001b[0mmanual_seed_all\u001b[0m\u001b[0;34m(\u001b[0m\u001b[0mseed\u001b[0m\u001b[0;34m)\u001b[0m\u001b[0;34m\u001b[0m\u001b[0;34m\u001b[0m\u001b[0m\n\u001b[1;32m     41\u001b[0m \u001b[0;34m\u001b[0m\u001b[0m\n\u001b[0;32m---> 42\u001b[0;31m     \u001b[0;32mreturn\u001b[0m \u001b[0mdefault_generator\u001b[0m\u001b[0;34m.\u001b[0m\u001b[0mmanual_seed\u001b[0m\u001b[0;34m(\u001b[0m\u001b[0mseed\u001b[0m\u001b[0;34m)\u001b[0m\u001b[0;34m\u001b[0m\u001b[0;34m\u001b[0m\u001b[0m\n\u001b[0m\u001b[1;32m     43\u001b[0m \u001b[0;34m\u001b[0m\u001b[0m\n\u001b[1;32m     44\u001b[0m \u001b[0;34m\u001b[0m\u001b[0m\n",
            "\u001b[0;31mModuleNotFoundError\u001b[0m: No module named 'torch.mps'",
            "",
            "\u001b[0;31m---------------------------------------------------------------------------\u001b[0;32m\nNOTE: If your import is failing due to a missing package, you can\nmanually install dependencies using either !pip or !apt.\n\nTo view examples of installing some common dependencies, click the\n\"Open Examples\" button below.\n\u001b[0;31m---------------------------------------------------------------------------\u001b[0m\n"
          ],
          "errorDetails": {
            "actions": [
              {
                "action": "open_url",
                "actionText": "Open Examples",
                "url": "/notebooks/snippets/importing_libraries.ipynb"
              }
            ]
          }
        }
      ]
    },
    {
      "cell_type": "code",
      "source": [
        "from sklearn.metrics import confusion_matrix\n",
        "from sklearn.ensemble import RandomForestClassifier\n",
        "rf = RandomForestClassifier(n_estimators=1000, random_state=3)\n",
        "# Load dataset\n",
        "data = play_data\n",
        "\n",
        "# Separate target from predictors\n",
        "y = data['Winner']\n",
        "X = data.drop('Winner', axis=1)\n",
        "\n",
        "# Train-test split\n",
        "X_train, X_valid, y_train, y_valid = train_test_split(X, y, train_size=0.8, test_size=0.2,random_state=0)\n",
        "y_valid = y_valid.astype(int)\n",
        "y_train = y_train.astype(int)\n",
        "cardinality_cols = ['GameID', 'playID','type_text', 'team_play', 'start_down', 'end_down', 'season', 'week', 'Home_teamname', 'Away_teamname']\n",
        "numerical_cols = ['awayScore', 'homeScore', 'scoreValue', 'statYardage', 'quarter', 'clock', 'start_distance', 'start_yardlinie', 'start_yardsToEndzone', 'end_distance', 'end_yardlinie', 'end_yardsToEndzone', 'elo_score_away', 'elo_score_home', 'attendence', 'time_remaining']\n",
        "# Bundle preprocessing and modeling code in a pipeline\n",
        "complete_pipeline_rf = Pipeline(steps=[\n",
        "    ('preprocessor', preprocessor),\n",
        "    ('model', rf)\n",
        "])\n",
        "\n",
        "# Bundle preprocessing and modeling code in a pipeline\n",
        "\n",
        "# Preprocess the raw training data and fit the model\n",
        "complete_pipeline_rf.fit(X_train, y_train)\n",
        "\n",
        "\n",
        "# Preprocess the raw validation data and make predictions\n",
        "preds_rf = complete_pipeline_rf.predict(X_valid)\n",
        "\n",
        "accuracy = accuracy_score(y_valid, preds_rf)\n",
        "precision = precision_score(y_valid, preds_rf)\n",
        "recall = recall_score(y_valid, preds_rf)\n",
        "f1 = f1_score(y_valid, preds_rf)\n",
        "auc = roc_auc_score(y_valid, preds_rf)\n",
        "cm = confusion_matrix(y_valid, preds_rf)\n",
        "cm_str = np.array2string(cm, separator=', ')\n",
        "\n",
        "print(\"Accuracy: {:.2f}\".format(accuracy))\n",
        "print(\"Precision: {:.2f}\".format(precision))\n",
        "print(\"Recall: {:.2f}\".format(recall))\n",
        "print(\"F1 Score: {:.2f}\".format(f1))\n",
        "print('Confusion matrix: ', cm)\n"
      ],
      "metadata": {
        "id": "QLevuzuZU-RZ"
      },
      "execution_count": null,
      "outputs": []
    },
    {
      "cell_type": "code",
      "source": [
        "def plot_dat_xg(time, quarter):\n",
        "  preds_time = preds_xg[((X_valid['clock'] <= time) & (X_valid['quarter'] == quarter) & (X_valid['clock'] >= time-1))]\n",
        "  y_time = y_valid[((X_valid['clock'] <= time) & (X_valid['quarter'] == quarter) & (X_valid['clock'] >= time-1))]\n",
        "  accuracy = accuracy_score(y_time, preds_time)\n",
        "  return accuracy"
      ],
      "metadata": {
        "id": "iVi5hyJOn0D0"
      },
      "execution_count": null,
      "outputs": []
    },
    {
      "cell_type": "code",
      "source": [
        "preds_time = preds[((X_valid['clock'] <= 1) & (X_valid['quarter'] == 3) & (X_valid['clock'] >= 0))]\n",
        "y_time = y_valid[((X_valid['clock'] <= 1) & (X_valid['quarter'] == 3) & (X_valid['clock'] >= 0))]"
      ],
      "metadata": {
        "id": "85x088WgDnmn"
      },
      "execution_count": null,
      "outputs": []
    },
    {
      "cell_type": "code",
      "source": [
        "# preds_time = preds[((X_valid['clock'] >= 15) & (X_valid['quarter'] == 1))]\n",
        "# y_time = y_valid[((X_valid['clock'] >= 15) & (X_valid['quarter'] == 1))]"
      ],
      "metadata": {
        "id": "VjXitKP5Dkfl"
      },
      "execution_count": null,
      "outputs": []
    },
    {
      "cell_type": "code",
      "source": [
        "accuracy = accuracy_score(y_time, preds_time)\n",
        "precision = precision_score(y_time, preds_time)\n",
        "recall = recall_score(y_time, preds_time)\n",
        "f1 = f1_score(y_time, preds_time)"
      ],
      "metadata": {
        "id": "ch2Vai8cEoxT"
      },
      "execution_count": null,
      "outputs": []
    },
    {
      "cell_type": "code",
      "source": [
        "print(accuracy)\n",
        "print(precision)\n",
        "print(recall)"
      ],
      "metadata": {
        "id": "qAUvUixWEqYp"
      },
      "execution_count": null,
      "outputs": []
    },
    {
      "cell_type": "code",
      "source": [
        "time_values = list(np.arange(15, -3, -3))\n",
        "quarter_values = list(np.arange(1, 5, 1))\n",
        "auc_values=[]\n",
        "time_plot=[]\n",
        "for quarter in quarter_values:\n",
        "  for time in time_values:\n",
        "    auc_values.append(plot_data(time,quarter))\n",
        "    if quarter == 1:\n",
        "      time_plot.append(time+45)\n",
        "    elif quarter ==2:\n",
        "      time_plot.append(time+30)\n",
        "    elif quarter == 3:\n",
        "      time_plot.append(time+15)\n",
        "    elif quarter == 4:\n",
        "      time_plot.append(time)\n",
        "\n",
        "\n",
        "  \n"
      ],
      "metadata": {
        "id": "RZ8BUzBSQlty"
      },
      "execution_count": null,
      "outputs": []
    },
    {
      "cell_type": "code",
      "source": [
        "time_plot = time_plot[::-1]\n",
        "auc_values = auc_values"
      ],
      "metadata": {
        "id": "T5i-TWav9K5C"
      },
      "execution_count": null,
      "outputs": []
    },
    {
      "cell_type": "code",
      "source": [
        "print(time_plot)"
      ],
      "metadata": {
        "id": "0Vrj78hU6P6c"
      },
      "execution_count": null,
      "outputs": []
    },
    {
      "cell_type": "code",
      "source": [
        "print(auc_values)"
      ],
      "metadata": {
        "id": "Qbj56lTF2l5I"
      },
      "execution_count": null,
      "outputs": []
    },
    {
      "cell_type": "code",
      "source": [],
      "metadata": {
        "id": "_YJJWr2R2qZE"
      },
      "execution_count": null,
      "outputs": []
    },
    {
      "cell_type": "code",
      "source": [],
      "metadata": {
        "id": "0dL9vp_221BD"
      },
      "execution_count": null,
      "outputs": []
    },
    {
      "cell_type": "code",
      "source": [
        "\n",
        "import matplotlib.pyplot as plt\n",
        "\n",
        "# Beispielwerte\n",
        "x = time_plot\n",
        "y = auc_values\n",
        "\n",
        "# Erstellen der Liniengrafik\n",
        "plt.plot(x, y)\n",
        "\n",
        "# Achsentitel und Diagrammtitel hinzufügen\n",
        "plt.xlabel('play time [min]')\n",
        "plt.ylabel('Auccuracy')\n",
        "plt.title('Auccarcy values over time')\n",
        "\n",
        "# Anzeigen der Grafik\n",
        "plt.show()"
      ],
      "metadata": {
        "id": "GGKq8klD2-8W"
      },
      "execution_count": null,
      "outputs": []
    }
  ],
  "metadata": {
    "colab": {
      "provenance": [],
      "gpuType": "T4",
      "include_colab_link": true
    },
    "kernelspec": {
      "display_name": "Python 3",
      "name": "python3"
    },
    "language_info": {
      "codemirror_mode": {
        "name": "ipython",
        "version": 3
      },
      "file_extension": ".py",
      "mimetype": "text/x-python",
      "name": "python",
      "nbconvert_exporter": "python",
      "pygments_lexer": "ipython3",
      "version": "3.8.16"
    },
    "accelerator": "TPU"
  },
  "nbformat": 4,
  "nbformat_minor": 0
}