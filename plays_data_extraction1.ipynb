{
  "nbformat": 4,
  "nbformat_minor": 0,
  "metadata": {
    "colab": {
      "provenance": [],
      "authorship_tag": "ABX9TyM0VGz85ZZEDxiXVSBVslxD",
      "include_colab_link": true
    },
    "kernelspec": {
      "name": "python3",
      "display_name": "Python 3"
    },
    "language_info": {
      "name": "python"
    }
  },
  "cells": [
    {
      "cell_type": "markdown",
      "metadata": {
        "id": "view-in-github",
        "colab_type": "text"
      },
      "source": [
        "<a href=\"https://colab.research.google.com/github/michel-wue/Seminar/blob/main/plays_data_extraction1.ipynb\" target=\"_parent\"><img src=\"https://colab.research.google.com/assets/colab-badge.svg\" alt=\"Open In Colab\"/></a>"
      ]
    },
    {
      "cell_type": "code",
      "execution_count": 1,
      "metadata": {
        "id": "NKX2XvAVl77n"
      },
      "outputs": [],
      "source": [
        "import requests as r\n",
        "import pandas as pd\n",
        "from pandas import json_normalize\n",
        "import re\n",
        "from google.colab import drive\n",
        "import datetime\n",
        "from os import times"
      ]
    },
    {
      "cell_type": "code",
      "source": [
        "drive.mount('/content/drive')"
      ],
      "metadata": {
        "colab": {
          "base_uri": "https://localhost:8080/"
        },
        "id": "ucFK2R-YmcDB",
        "outputId": "3880eeaa-1927-4f48-bf9d-38872eb5c5da"
      },
      "execution_count": 2,
      "outputs": [
        {
          "output_type": "stream",
          "name": "stdout",
          "text": [
            "Mounted at /content/drive\n"
          ]
        }
      ]
    },
    {
      "cell_type": "code",
      "source": [
        "Data_basic = pd.DataFrame()\n",
        "Data_basic = pd.DataFrame(columns=[\n",
        "    'gameID','season','types',\n",
        "    'week','HomeTeam_ID','AwayTeam_ID',\n",
        "    'Winner'\n",
        "    ])\n",
        "week = list(range(1, 19))\n",
        "seasons=list(range(2015,2023))"
      ],
      "metadata": {
        "id": "AYvUivh8meN4"
      },
      "execution_count": 36,
      "outputs": []
    },
    {
      "cell_type": "code",
      "source": [
        "\n",
        "\n",
        "def infos(season,types,weeks):\n",
        "  url = f\"https://sports.core.api.espn.com/v2/sports/football/leagues/nfl/seasons/{season}/types/{types}/weeks/{weeks}/events\"\n",
        "  response = r.get(url)\n",
        "  json_data = response.json()\n",
        "  df = json_normalize(json_data['items'])\n",
        "  for game in range(len(df)):\n",
        "    rows=[]\n",
        "    response = r.get(df['$ref'][game])\n",
        "    data=response.json()\n",
        "    try:\n",
        "      df2=json_normalize(data['competitions'])\n",
        "      rows.append(df2['id'][0])\n",
        "      rows.append(season)\n",
        "      rows.append(types)\n",
        "      rows.append(weeks)\n",
        "      rows.append(df2['competitors'][0][0]['id'])\n",
        "      rows.append(df2['competitors'][0][1]['id'])\n",
        "      try:\n",
        "        if df2['competitors'][0][0]['winner'] == True:\n",
        "          rows.append('Home')\n",
        "        else:\n",
        "          rows.append('Away')\n",
        "      except KeyError:\n",
        "        rows.append('NaN')\n",
        "    except KeyError:\n",
        "      print('it doesnt worked')\n",
        "    Data_basic.loc[len(Data_basic)] = rows\n",
        "\n",
        "\n"
      ],
      "metadata": {
        "id": "_jSHzbj0mrpU"
      },
      "execution_count": 37,
      "outputs": []
    },
    {
      "cell_type": "code",
      "source": [
        "for x in seasons:\n",
        "  for i in week:\n",
        "    infos(x,2,i)"
      ],
      "metadata": {
        "id": "-LpzYhcKrdXs"
      },
      "execution_count": 38,
      "outputs": []
    },
    {
      "cell_type": "code",
      "source": [
        "Data_basic"
      ],
      "metadata": {
        "colab": {
          "base_uri": "https://localhost:8080/",
          "height": 424
        },
        "id": "cjkR0d_UIcQx",
        "outputId": "0a023c83-fe79-4f95-f4e7-f95563dcacb7"
      },
      "execution_count": 49,
      "outputs": [
        {
          "output_type": "execute_result",
          "data": {
            "text/plain": [
              "         GameID  season  types  week HomeTeam_ID AwayTeam_ID Winner\n",
              "0     400791485    2015      2     1          17          23   Home\n",
              "1     400791541    2015      2     1           2          11   Home\n",
              "2     400791489    2015      2     1           3           9   Away\n",
              "3     400791550    2015      2     1          14          26   Home\n",
              "4     400791497    2015      2     1          20           5   Home\n",
              "...         ...     ...    ...   ...         ...         ...    ...\n",
              "2076  401437957    2022      2    18          21          19   Home\n",
              "2077  401437962    2022      2    18          25          22   Home\n",
              "2078  401437963    2022      2    18          26          14   Home\n",
              "2079  401437959    2022      2    18          28           6   Home\n",
              "2080  401437952    2022      2    18           9           8   Away\n",
              "\n",
              "[2081 rows x 7 columns]"
            ],
            "text/html": [
              "\n",
              "  <div id=\"df-affdfd37-1f16-4773-947e-b80686ffe30a\">\n",
              "    <div class=\"colab-df-container\">\n",
              "      <div>\n",
              "<style scoped>\n",
              "    .dataframe tbody tr th:only-of-type {\n",
              "        vertical-align: middle;\n",
              "    }\n",
              "\n",
              "    .dataframe tbody tr th {\n",
              "        vertical-align: top;\n",
              "    }\n",
              "\n",
              "    .dataframe thead th {\n",
              "        text-align: right;\n",
              "    }\n",
              "</style>\n",
              "<table border=\"1\" class=\"dataframe\">\n",
              "  <thead>\n",
              "    <tr style=\"text-align: right;\">\n",
              "      <th></th>\n",
              "      <th>GameID</th>\n",
              "      <th>season</th>\n",
              "      <th>types</th>\n",
              "      <th>week</th>\n",
              "      <th>HomeTeam_ID</th>\n",
              "      <th>AwayTeam_ID</th>\n",
              "      <th>Winner</th>\n",
              "    </tr>\n",
              "  </thead>\n",
              "  <tbody>\n",
              "    <tr>\n",
              "      <th>0</th>\n",
              "      <td>400791485</td>\n",
              "      <td>2015</td>\n",
              "      <td>2</td>\n",
              "      <td>1</td>\n",
              "      <td>17</td>\n",
              "      <td>23</td>\n",
              "      <td>Home</td>\n",
              "    </tr>\n",
              "    <tr>\n",
              "      <th>1</th>\n",
              "      <td>400791541</td>\n",
              "      <td>2015</td>\n",
              "      <td>2</td>\n",
              "      <td>1</td>\n",
              "      <td>2</td>\n",
              "      <td>11</td>\n",
              "      <td>Home</td>\n",
              "    </tr>\n",
              "    <tr>\n",
              "      <th>2</th>\n",
              "      <td>400791489</td>\n",
              "      <td>2015</td>\n",
              "      <td>2</td>\n",
              "      <td>1</td>\n",
              "      <td>3</td>\n",
              "      <td>9</td>\n",
              "      <td>Away</td>\n",
              "    </tr>\n",
              "    <tr>\n",
              "      <th>3</th>\n",
              "      <td>400791550</td>\n",
              "      <td>2015</td>\n",
              "      <td>2</td>\n",
              "      <td>1</td>\n",
              "      <td>14</td>\n",
              "      <td>26</td>\n",
              "      <td>Home</td>\n",
              "    </tr>\n",
              "    <tr>\n",
              "      <th>4</th>\n",
              "      <td>400791497</td>\n",
              "      <td>2015</td>\n",
              "      <td>2</td>\n",
              "      <td>1</td>\n",
              "      <td>20</td>\n",
              "      <td>5</td>\n",
              "      <td>Home</td>\n",
              "    </tr>\n",
              "    <tr>\n",
              "      <th>...</th>\n",
              "      <td>...</td>\n",
              "      <td>...</td>\n",
              "      <td>...</td>\n",
              "      <td>...</td>\n",
              "      <td>...</td>\n",
              "      <td>...</td>\n",
              "      <td>...</td>\n",
              "    </tr>\n",
              "    <tr>\n",
              "      <th>2076</th>\n",
              "      <td>401437957</td>\n",
              "      <td>2022</td>\n",
              "      <td>2</td>\n",
              "      <td>18</td>\n",
              "      <td>21</td>\n",
              "      <td>19</td>\n",
              "      <td>Home</td>\n",
              "    </tr>\n",
              "    <tr>\n",
              "      <th>2077</th>\n",
              "      <td>401437962</td>\n",
              "      <td>2022</td>\n",
              "      <td>2</td>\n",
              "      <td>18</td>\n",
              "      <td>25</td>\n",
              "      <td>22</td>\n",
              "      <td>Home</td>\n",
              "    </tr>\n",
              "    <tr>\n",
              "      <th>2078</th>\n",
              "      <td>401437963</td>\n",
              "      <td>2022</td>\n",
              "      <td>2</td>\n",
              "      <td>18</td>\n",
              "      <td>26</td>\n",
              "      <td>14</td>\n",
              "      <td>Home</td>\n",
              "    </tr>\n",
              "    <tr>\n",
              "      <th>2079</th>\n",
              "      <td>401437959</td>\n",
              "      <td>2022</td>\n",
              "      <td>2</td>\n",
              "      <td>18</td>\n",
              "      <td>28</td>\n",
              "      <td>6</td>\n",
              "      <td>Home</td>\n",
              "    </tr>\n",
              "    <tr>\n",
              "      <th>2080</th>\n",
              "      <td>401437952</td>\n",
              "      <td>2022</td>\n",
              "      <td>2</td>\n",
              "      <td>18</td>\n",
              "      <td>9</td>\n",
              "      <td>8</td>\n",
              "      <td>Away</td>\n",
              "    </tr>\n",
              "  </tbody>\n",
              "</table>\n",
              "<p>2081 rows × 7 columns</p>\n",
              "</div>\n",
              "      <button class=\"colab-df-convert\" onclick=\"convertToInteractive('df-affdfd37-1f16-4773-947e-b80686ffe30a')\"\n",
              "              title=\"Convert this dataframe to an interactive table.\"\n",
              "              style=\"display:none;\">\n",
              "        \n",
              "  <svg xmlns=\"http://www.w3.org/2000/svg\" height=\"24px\"viewBox=\"0 0 24 24\"\n",
              "       width=\"24px\">\n",
              "    <path d=\"M0 0h24v24H0V0z\" fill=\"none\"/>\n",
              "    <path d=\"M18.56 5.44l.94 2.06.94-2.06 2.06-.94-2.06-.94-.94-2.06-.94 2.06-2.06.94zm-11 1L8.5 8.5l.94-2.06 2.06-.94-2.06-.94L8.5 2.5l-.94 2.06-2.06.94zm10 10l.94 2.06.94-2.06 2.06-.94-2.06-.94-.94-2.06-.94 2.06-2.06.94z\"/><path d=\"M17.41 7.96l-1.37-1.37c-.4-.4-.92-.59-1.43-.59-.52 0-1.04.2-1.43.59L10.3 9.45l-7.72 7.72c-.78.78-.78 2.05 0 2.83L4 21.41c.39.39.9.59 1.41.59.51 0 1.02-.2 1.41-.59l7.78-7.78 2.81-2.81c.8-.78.8-2.07 0-2.86zM5.41 20L4 18.59l7.72-7.72 1.47 1.35L5.41 20z\"/>\n",
              "  </svg>\n",
              "      </button>\n",
              "      \n",
              "  <style>\n",
              "    .colab-df-container {\n",
              "      display:flex;\n",
              "      flex-wrap:wrap;\n",
              "      gap: 12px;\n",
              "    }\n",
              "\n",
              "    .colab-df-convert {\n",
              "      background-color: #E8F0FE;\n",
              "      border: none;\n",
              "      border-radius: 50%;\n",
              "      cursor: pointer;\n",
              "      display: none;\n",
              "      fill: #1967D2;\n",
              "      height: 32px;\n",
              "      padding: 0 0 0 0;\n",
              "      width: 32px;\n",
              "    }\n",
              "\n",
              "    .colab-df-convert:hover {\n",
              "      background-color: #E2EBFA;\n",
              "      box-shadow: 0px 1px 2px rgba(60, 64, 67, 0.3), 0px 1px 3px 1px rgba(60, 64, 67, 0.15);\n",
              "      fill: #174EA6;\n",
              "    }\n",
              "\n",
              "    [theme=dark] .colab-df-convert {\n",
              "      background-color: #3B4455;\n",
              "      fill: #D2E3FC;\n",
              "    }\n",
              "\n",
              "    [theme=dark] .colab-df-convert:hover {\n",
              "      background-color: #434B5C;\n",
              "      box-shadow: 0px 1px 3px 1px rgba(0, 0, 0, 0.15);\n",
              "      filter: drop-shadow(0px 1px 2px rgba(0, 0, 0, 0.3));\n",
              "      fill: #FFFFFF;\n",
              "    }\n",
              "  </style>\n",
              "\n",
              "      <script>\n",
              "        const buttonEl =\n",
              "          document.querySelector('#df-affdfd37-1f16-4773-947e-b80686ffe30a button.colab-df-convert');\n",
              "        buttonEl.style.display =\n",
              "          google.colab.kernel.accessAllowed ? 'block' : 'none';\n",
              "\n",
              "        async function convertToInteractive(key) {\n",
              "          const element = document.querySelector('#df-affdfd37-1f16-4773-947e-b80686ffe30a');\n",
              "          const dataTable =\n",
              "            await google.colab.kernel.invokeFunction('convertToInteractive',\n",
              "                                                     [key], {});\n",
              "          if (!dataTable) return;\n",
              "\n",
              "          const docLinkHtml = 'Like what you see? Visit the ' +\n",
              "            '<a target=\"_blank\" href=https://colab.research.google.com/notebooks/data_table.ipynb>data table notebook</a>'\n",
              "            + ' to learn more about interactive tables.';\n",
              "          element.innerHTML = '';\n",
              "          dataTable['output_type'] = 'display_data';\n",
              "          await google.colab.output.renderOutput(dataTable, element);\n",
              "          const docLink = document.createElement('div');\n",
              "          docLink.innerHTML = docLinkHtml;\n",
              "          element.appendChild(docLink);\n",
              "        }\n",
              "      </script>\n",
              "    </div>\n",
              "  </div>\n",
              "  "
            ]
          },
          "metadata": {},
          "execution_count": 49
        }
      ]
    },
    {
      "cell_type": "code",
      "source": [
        "playid_df = pd.DataFrame()\n",
        "playid_df = pd.DataFrame(columns=['gameID', 'playID', 'awayScore', 'homeScore', 'scoreValue',\n",
        "                         'statYardage', 'quarter', 'clock', 'typeid','type_text', 'team_play'\n",
        "                         , 'start_down', 'start_distance', 'start_yardlinie'\n",
        "                         ,'start_yardsToEndzone', 'end_down', 'end_distance', 'end_yardlinie'\n",
        "                         ,'end_yardsToEndzone'])\n"
      ],
      "metadata": {
        "id": "Sr-qhQZ97Xkr"
      },
      "execution_count": 45,
      "outputs": []
    },
    {
      "cell_type": "code",
      "source": [
        "def playid(GameID):\n",
        "    url = f'http://sports.core.api.espn.com/v2/sports/football/leagues/nfl/events/{GameID}/competitions/{GameID}/drives?lang=en&region=us'\n",
        "    response_drive = r.get(url)\n",
        "    drive_data = response_drive.json()\n",
        "    drive_df = json_normalize(drive_data['items'])\n",
        "    for index, row in drive_df.iterrows():\n",
        "      for detail in range(len(row['plays.items'])):\n",
        "        gameID = GameID\n",
        "        playID = row['plays.items'][detail]['id']\n",
        "        awayScore = row['plays.items'][detail]['awayScore']\n",
        "        homeScore = row['plays.items'][detail]['homeScore']\n",
        "        scoreValue = row['plays.items'][detail]['scoreValue']\n",
        "        statYardage = row['plays.items'][detail]['statYardage']\n",
        "        clock = datetime.timedelta(seconds=row['plays.items'][detail]['clock']['value'])\n",
        "        quarter = row['plays.items'][detail]['period']['number']\n",
        "        type_id = row['plays.items'][detail]['type']['id']\n",
        "        type_text = row['plays.items'][detail]['type']['text']\n",
        "        try:\n",
        "          team_play = re.search(r\"teams/(\\d+)\", row['plays.items'][detail]['start']['team']['$ref']).group(1)\n",
        "        except KeyError:\n",
        "          team_play = 'NoTeam'\n",
        "        start_down = row['plays.items'][detail]['start']['down']\n",
        "        start_distance = row['plays.items'][detail]['start']['distance']\n",
        "        start_yardlinie = row['plays.items'][detail]['start']['yardLine']\n",
        "        start_yardsToEndzone = row['plays.items'][detail]['start']['yardsToEndzone']\n",
        "        end_down = row['plays.items'][detail]['end']['down']\n",
        "        end_distance = row['plays.items'][detail]['end']['distance']\n",
        "        end_yardlinie = row['plays.items'][detail]['end']['yardLine']\n",
        "        end_yardsToEndzone = row['plays.items'][detail]['end']['yardsToEndzone']\n",
        "        data = [gameID,playID,awayScore,homeScore,scoreValue,statYardage, quarter, clock, type_id, type_text,\n",
        "                team_play,start_down, start_distance, start_yardlinie, start_yardsToEndzone,\n",
        "                end_down, end_distance,end_yardlinie,end_yardsToEndzone]\n",
        "        playid_df.loc[len(playid_df)] = data\n",
        "\n",
        "      #print(row)"
      ],
      "metadata": {
        "id": "PVyXzI6AwIsr"
      },
      "execution_count": 46,
      "outputs": []
    },
    {
      "cell_type": "code",
      "source": [
        "for game in Data_basic['GameID']:\n",
        "  playid(game)"
      ],
      "metadata": {
        "id": "6waz7OPQDdFG"
      },
      "execution_count": 47,
      "outputs": []
    },
    {
      "cell_type": "code",
      "source": [
        "playid_df.to_csv('gameid_playid_data_2015_2022')"
      ],
      "metadata": {
        "id": "BYpYkUhhYMzo"
      },
      "execution_count": null,
      "outputs": []
    }
  ]
}