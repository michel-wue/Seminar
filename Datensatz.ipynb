{
  "nbformat": 4,
  "nbformat_minor": 0,
  "metadata": {
    "colab": {
      "provenance": [],
      "authorship_tag": "ABX9TyNsGUqtkuJOKfyWWAj4L36r",
      "include_colab_link": true
    },
    "kernelspec": {
      "name": "python3",
      "display_name": "Python 3"
    },
    "language_info": {
      "name": "python"
    }
  },
  "cells": [
    {
      "cell_type": "markdown",
      "metadata": {
        "id": "view-in-github",
        "colab_type": "text"
      },
      "source": [
        "<a href=\"https://colab.research.google.com/github/michel-wue/Seminar/blob/main/Datensatz.ipynb\" target=\"_parent\"><img src=\"https://colab.research.google.com/assets/colab-badge.svg\" alt=\"Open In Colab\"/></a>"
      ]
    },
    {
      "cell_type": "code",
      "execution_count": null,
      "metadata": {
        "id": "NKX2XvAVl77n"
      },
      "outputs": [],
      "source": [
        "import requests as r\n",
        "import pandas as pd\n",
        "from pandas import json_normalize\n",
        "import re\n",
        "from google.colab import drive\n",
        "import datetime\n",
        "from os import times\n",
        "import json\n",
        "from datetime import datetime\n",
        "import numpy as np"
      ]
    },
    {
      "cell_type": "markdown",
      "source": [
        "Hier werden die Daten aus der ESPN-Api extrahiert"
      ],
      "metadata": {
        "id": "L35cjJsAu1et"
      }
    },
    {
      "cell_type": "code",
      "source": [
        "Data_basic = pd.DataFrame()\n",
        "Data_basic = pd.DataFrame(columns=[\n",
        "    'date','gameID','season','types',\n",
        "    'week','HomeTeam_ID','AwayTeam_ID',\n",
        "    'Winner'\n",
        "    ])\n",
        "week = list(range(1, 19))\n",
        "seasons=list(range(2015,2023))"
      ],
      "metadata": {
        "id": "AYvUivh8meN4"
      },
      "execution_count": null,
      "outputs": []
    },
    {
      "cell_type": "code",
      "source": [
        "def infos(season,types,weeks):\n",
        "  url = f\"https://sports.core.api.espn.com/v2/sports/football/leagues/nfl/seasons/{season}/types/{types}/weeks/{weeks}/events\"\n",
        "  response = r.get(url)\n",
        "  json_data = response.json()\n",
        "  df = json_normalize(json_data['items'])\n",
        "  for game in range(len(df)):\n",
        "    rows=[]\n",
        "    response = r.get(df['$ref'][game])\n",
        "    data=response.json()\n",
        "    try:\n",
        "      df2=json_normalize(data['competitions'])\n",
        "      rows.append(datetime.strptime(df2['date'][0], \"%Y-%m-%dT%H:%MZ\").date())\n",
        "      rows.append(df2['id'][0])\n",
        "      rows.append(season)\n",
        "      rows.append(types)\n",
        "      rows.append(weeks)\n",
        "      rows.append(df2['competitors'][0][0]['id'])\n",
        "      rows.append(df2['competitors'][0][1]['id'])\n",
        "      try:\n",
        "        if df2['competitors'][0][0]['winner'] == True:\n",
        "          rows.append('Home')\n",
        "        else:\n",
        "          rows.append('Away')\n",
        "      except KeyError:\n",
        "        rows.append('NaN')\n",
        "    except KeyError:\n",
        "      print('it doesnt worked')\n",
        "    Data_basic.loc[len(Data_basic)] = rows"
      ],
      "metadata": {
        "id": "_jSHzbj0mrpU"
      },
      "execution_count": null,
      "outputs": []
    },
    {
      "cell_type": "code",
      "source": [
        "for x in seasons:\n",
        "  for i in week:\n",
        "    infos(x,2,i)"
      ],
      "metadata": {
        "id": "-LpzYhcKrdXs"
      },
      "execution_count": null,
      "outputs": []
    },
    {
      "cell_type": "code",
      "source": [
        "play_data = pd.DataFrame()\n",
        "play_data = pd.DataFrame(columns=['gameID', 'playID', 'awayScore', 'homeScore', 'scoreValue',\n",
        "                         'statYardage', 'quarter', 'clock', 'typeid','type_text', 'team_play'\n",
        "                         , 'start_down', 'start_distance', 'start_yardlinie'\n",
        "                         ,'start_yardsToEndzone', 'end_down', 'end_distance', 'end_yardlinie'\n",
        "                         ,'end_yardsToEndzone'])\n"
      ],
      "metadata": {
        "id": "Sr-qhQZ97Xkr"
      },
      "execution_count": null,
      "outputs": []
    },
    {
      "cell_type": "code",
      "source": [
        "def playid(GameID):\n",
        "    url = f'http://sports.core.api.espn.com/v2/sports/football/leagues/nfl/events/{GameID}/competitions/{GameID}/drives?lang=en&region=us'\n",
        "    response_drive = r.get(url)\n",
        "    drive_data = response_drive.json()\n",
        "    drive_df = json_normalize(drive_data['items'])\n",
        "    for index, row in drive_df.iterrows():\n",
        "      for detail in range(len(row['plays.items'])):\n",
        "        gameID = GameID\n",
        "        playID = row['plays.items'][detail]['id']\n",
        "        awayScore = row['plays.items'][detail]['awayScore']\n",
        "        homeScore = row['plays.items'][detail]['homeScore']\n",
        "        scoreValue = row['plays.items'][detail]['scoreValue']\n",
        "        statYardage = row['plays.items'][detail]['statYardage']\n",
        "        clock = datetime.timedelta(seconds=row['plays.items'][detail]['clock']['value'])\n",
        "        quarter = row['plays.items'][detail]['period']['number']\n",
        "        type_id = row['plays.items'][detail]['type']['id']\n",
        "        type_text = row['plays.items'][detail]['type']['text']\n",
        "        try:\n",
        "          team_play = re.search(r\"teams/(\\d+)\", row['plays.items'][detail]['start']['team']['$ref']).group(1)\n",
        "        except KeyError:\n",
        "          team_play = 'NoTeam'\n",
        "        start_down = row['plays.items'][detail]['start']['down']\n",
        "        start_distance = row['plays.items'][detail]['start']['distance']\n",
        "        start_yardlinie = row['plays.items'][detail]['start']['yardLine']\n",
        "        start_yardsToEndzone = row['plays.items'][detail]['start']['yardsToEndzone']\n",
        "        end_down = row['plays.items'][detail]['end']['down']\n",
        "        end_distance = row['plays.items'][detail]['end']['distance']\n",
        "        end_yardlinie = row['plays.items'][detail]['end']['yardLine']\n",
        "        end_yardsToEndzone = row['plays.items'][detail]['end']['yardsToEndzone']\n",
        "        data = [gameID,playID,awayScore,homeScore,scoreValue,statYardage, quarter, clock, type_id, type_text,\n",
        "                team_play,start_down, start_distance, start_yardlinie, start_yardsToEndzone,\n",
        "                end_down, end_distance,end_yardlinie,end_yardsToEndzone]\n",
        "        play_data.loc[len(play_data)] = data\n",
        "\n",
        "      #print(row)"
      ],
      "metadata": {
        "id": "PVyXzI6AwIsr"
      },
      "execution_count": null,
      "outputs": []
    },
    {
      "cell_type": "code",
      "source": [
        "for game in Data_basic['GameID']:\n",
        "  playid(game)"
      ],
      "metadata": {
        "id": "6waz7OPQDdFG"
      },
      "execution_count": null,
      "outputs": []
    },
    {
      "cell_type": "markdown",
      "source": [
        "Hier werden die aktuellen Elo-Zahlen extrahiert"
      ],
      "metadata": {
        "id": "hdCjkDsxv7UI"
      }
    },
    {
      "cell_type": "code",
      "source": [
        "teams_name_elo = pd.DataFrame(columns=['team_id', 'team_fullname', 'team_name'])\n",
        "year = '2015'\n",
        "url = f'http://sports.core.api.espn.com/v2/sports/football/leagues/nfl/seasons/{year}/teams'\n",
        "response_teams = r.get(url)\n",
        "teams_data = response_teams.json()\n",
        "teams_df = json_normalize(teams_data['items'])\n",
        "for index, row in teams_df.iterrows():\n",
        "    api = row['$ref']\n",
        "    team_name = r.get(api)\n",
        "    teamname_json = team_name.json()\n",
        "    team = teamname_json['abbreviation'].lower()\n",
        "    full_name = teamname_json['displayName']\n",
        "    data = [teamname_json['id'], full_name, team]\n",
        "    teams_name_elo.loc[len(teams_name_elo)] = data"
      ],
      "metadata": {
        "id": "gq2cBGgYvd8L"
      },
      "execution_count": null,
      "outputs": []
    },
    {
      "cell_type": "code",
      "source": [
        "elonumbers = []\n",
        "for teams in teams_name_elo['team_name']:\n",
        "    elo_api = f'https://projects.fivethirtyeight.com/complete-history-of-the-nfl/data/{teams}.json'\n",
        "    elo = r.get(elo_api)\n",
        "    elo_json = elo.json()\n",
        "    elonumbers.append(elo_json)\n",
        "teams_name_elo['elo_score_historie'] = elonumbers\n",
        "print(teams_name_elo)"
      ],
      "metadata": {
        "id": "YFL0MHOqvkXY"
      },
      "execution_count": null,
      "outputs": []
    },
    {
      "cell_type": "code",
      "source": [
        "data = teams_name_elo\n",
        "data.rename(columns={'team_id': 'HomeTeam_ID'}, inplace=True)\n",
        "data.rename(columns={'team_fullname': 'Home_fullname'}, inplace=True)\n",
        "data.rename(columns={'team_name': 'Home_teamname'}, inplace=True)\n",
        "data.rename(columns={'elo_score_historie': 'Home_elo_score_historie'}, inplace=True)\n",
        "game_data_1 = pd.merge(Data_basic, data, how='left', on='HomeTeam_ID')"
      ],
      "metadata": {
        "id": "aWMBxWW6eTuf"
      },
      "execution_count": null,
      "outputs": []
    },
    {
      "cell_type": "code",
      "source": [
        "data.rename(columns={'HomeTeam_ID': 'AwayTeam_ID'}, inplace=True)\n",
        "data.rename(columns={'Home_fullname': 'Away_fullname'}, inplace=True)\n",
        "data.rename(columns={'team_name': 'Away_teamname'}, inplace=True)\n",
        "data.rename(columns={'Home_elo_score_historie': 'Away_elo_score_historie'}, inplace=True)\n",
        "game_data = pd.merge(game_data_1, data, how='left', on='AwayTeam_ID')"
      ],
      "metadata": {
        "id": "7EAdCJpIeTkH"
      },
      "execution_count": null,
      "outputs": []
    },
    {
      "cell_type": "markdown",
      "source": [
        "Hier wird die richtige Elozahl für die jeweilige Woche und Saison herausgesucht und abgespeichert"
      ],
      "metadata": {
        "id": "zPEA0fClBpz_"
      }
    },
    {
      "cell_type": "code",
      "source": [
        "for index, row in game_data.iterrows():\n",
        "    json_string = row['Home_elo_score_historie'].replace(\"'\", \"\\\"\")\n",
        "    json_elo = json.loads(json_string)\n",
        "    for element in json_elo['value']:\n",
        "        try:\n",
        "            week_string = element['w']\n",
        "            date_string = element['d'][-4:]\n",
        "        except KeyError:\n",
        "            week_string = 'Week 1000'\n",
        "            date_string = '2035'\n",
        "        week = 'Week ' + str(row['week'])\n",
        "        date = row['date'][:4]\n",
        "        if date_string == date and week_string == week:\n",
        "            target_element = element['y']\n",
        "    previous_element = None\n",
        "    for element in json_elo['value']:\n",
        "        if element['y'] == target_element:\n",
        "            if previous_element is not None:\n",
        "                game_data.at[index, 'elo_score_home'] = previous_element['y']\n",
        "            break\n",
        "        previous_element = element"
      ],
      "metadata": {
        "id": "UYb423zTvppn"
      },
      "execution_count": null,
      "outputs": []
    },
    {
      "cell_type": "code",
      "source": [
        "for index, row in game_data.iterrows():\n",
        "    json_string = row['Away_elo_score_historie'].replace(\"'\", \"\\\"\")\n",
        "    json_elo = json.loads(json_string)\n",
        "    for element in json_elo['value']:\n",
        "        try:\n",
        "            week_string = element['w']\n",
        "            date_string = element['d'][-4:]\n",
        "        except KeyError:\n",
        "            week_string = 'Week 1000'\n",
        "            date_string = '2035'\n",
        "        week = 'Week ' + str(row['week'])\n",
        "        date = row['date'][:4]\n",
        "        if date_string == date and week_string == week:\n",
        "            target_element = element['y']\n",
        "    previous_element = None\n",
        "    for element in json_elo['value']:\n",
        "        if element['y'] == target_element:\n",
        "            if previous_element is not None:\n",
        "                game_data.at[index, 'elo_score_away'] = previous_element['y']\n",
        "            break\n",
        "        previous_element = element"
      ],
      "metadata": {
        "id": "icgq-az9tE7F"
      },
      "execution_count": null,
      "outputs": []
    },
    {
      "cell_type": "markdown",
      "source": [
        "Hier wird die Zuscherquote extrahiert"
      ],
      "metadata": {
        "id": "XqQgckPqwFEY"
      }
    },
    {
      "cell_type": "code",
      "source": [
        "def stadium(GameID):\n",
        "    url = f'http://sports.core.api.espn.com/v2/sports/football/leagues/nfl/events/{GameID}'\n",
        "    response = r.get(url)\n",
        "    json_data = response.json()\n",
        "    data = json_normalize(json_data)\n",
        "    try:\n",
        "        attendence = data['competitions'][0][0]['attendance']\n",
        "        capacity = data['competitions'][0][0]['venue']['capacity']\n",
        "        statdium_attendence = attendence/capacity\n",
        "        return statdium_attendence\n",
        "    except KeyError:\n",
        "        return 'NaN'"
      ],
      "metadata": {
        "id": "oa3uGUSdvEWO"
      },
      "execution_count": null,
      "outputs": []
    },
    {
      "cell_type": "code",
      "source": [
        "game_data.drop('elo_score', axis=1, inplace=True)\n",
        "for index, row in game_data.iterrows():\n",
        "    game_data.at[index, 'attendence'] = stadium(row['GameID'])"
      ],
      "metadata": {
        "id": "gK8fGmZ4vIhu"
      },
      "execution_count": null,
      "outputs": []
    },
    {
      "cell_type": "markdown",
      "source": [
        "Hier wird der finale Datensatz gebildet"
      ],
      "metadata": {
        "id": "_eKucaCywP_D"
      }
    },
    {
      "cell_type": "code",
      "source": [
        "play_data.rename(columns={'gameID': 'GameID'},inplace=True)\n",
        "full_data = pd.merge(play_data, game_data, how='left', on='GameID' )"
      ],
      "metadata": {
        "id": "ooh_kuOItMkq"
      },
      "execution_count": null,
      "outputs": []
    },
    {
      "cell_type": "code",
      "source": [
        "for index, row in full_data.iterrows():\n",
        "  if row['team_play']==str(row['HomeTeam_ID']):\n",
        "    full_data.at[index, 'team_play']=str(row['Home_teamname'])\n",
        "  elif row['team_play']==str(row['AwayTeam_ID']):\n",
        "    full_data.at[index, 'team_play']=str(row['Away_teamname'])\n"
      ],
      "metadata": {
        "id": "I8vtUhEJtldG"
      },
      "execution_count": null,
      "outputs": []
    },
    {
      "cell_type": "code",
      "source": [
        "full_data.drop('Away_fullname',axis=1,inplace=True)\n",
        "full_data.drop('Away_fullname',axis=1,inplace=True)\n",
        "full_data['clock'] = pd.to_timedelta(full_data['clock'])\n",
        "full_data.drop('date',axis=1, inplace=True)"
      ],
      "metadata": {
        "id": "j8whbuUgtxtc"
      },
      "execution_count": null,
      "outputs": []
    },
    {
      "cell_type": "code",
      "source": [
        "play_data = full_data"
      ],
      "metadata": {
        "id": "zubzA9_fug4N"
      },
      "execution_count": null,
      "outputs": []
    },
    {
      "cell_type": "markdown",
      "source": [
        "Hier wird die verbleibende Zeit im Spiel berechnet"
      ],
      "metadata": {
        "id": "r45SJmFAwXTt"
      }
    },
    {
      "cell_type": "code",
      "source": [
        "play_data['clock'] = play_data['clock'].apply(lambda x: timedelta(days=int(x.split()[0]), hours=int(x.split()[2].split(':')[0]), minutes=int(x.split()[2].split(':')[1]), seconds=int(x.split()[2].split(':')[2])).total_seconds() / 60.0)\n",
        "play_data['time_remaining'] = np.where(play_data['quarter'] == 1, play_data['clock'] + 45, play_data['clock'])\n",
        "play_data['time_remaining'] = np.where(play_data['quarter'] == 2, play_data['clock'] + 30, play_data['time_remaining'])\n",
        "play_data['time_remaining'] = np.where(play_data['quarter'] == 3, play_data['clock'] + 15, play_data['time_remaining'])\n",
        "play_data['time_remaining'] = np.where(play_data['quarter'] == 4, play_data['clock'], play_data['time_remaining'])\n",
        "play_data['time_remaining'] = np.where(play_data['quarter'] == 5, play_data['clock'], play_data['time_remaining'])\n",
        "play_data.loc[play_data['Winner'] == 'Home', 'Winner'] = 1\n",
        "play_data.loc[play_data['Winner'] == 'Away', 'Winner'] = 0\n",
        "play_data['Winner'] = play_data['Winner'].astype(int)"
      ],
      "metadata": {
        "id": "Vs2vSJMJuPf2"
      },
      "execution_count": null,
      "outputs": []
    },
    {
      "cell_type": "markdown",
      "source": [
        "Hier werden die restlichen Features gebildet"
      ],
      "metadata": {
        "id": "QLK1Et1AwoiH"
      }
    },
    {
      "cell_type": "code",
      "source": [
        "def calculate_scoring_game(point_diff):\n",
        "    if point_diff <= 7:\n",
        "        return 1\n",
        "    elif 7 < point_diff < 15:\n",
        "        return 2\n",
        "    elif 15 <= point_diff < 22:\n",
        "        return 3\n",
        "    else:\n",
        "        return 4"
      ],
      "metadata": {
        "id": "f20cOHIRuooB"
      },
      "execution_count": null,
      "outputs": []
    },
    {
      "cell_type": "code",
      "source": [
        "for index,row in play_data.iterrows():\n",
        "  if row['homeScore'] > row['awayScore']:\n",
        "    play_data.at[index, 'leading_Team'] = row['Home_teamname']\n",
        "  elif row['homeScore'] < row['awayScore']:\n",
        "    play_data.at[index, 'leading_Team'] = row['Away_teamname']\n",
        "  else:\n",
        "    play_data.at[index, 'leading_Team'] = 'tie'\n",
        "  point_diff = abs(row['homeScore'] - row['awayScore'])\n",
        "  play_data.at[index, 'point_difference'] = point_diff\n",
        "\n",
        "play_data['scoring_game'] = play_data['point_difference'].apply(calculate_scoring_game)"
      ],
      "metadata": {
        "id": "4C55Jmvvutrr"
      },
      "execution_count": null,
      "outputs": []
    },
    {
      "cell_type": "markdown",
      "source": [
        "Der Finale Datensatz befindet sich im Release 1!"
      ],
      "metadata": {
        "id": "QcPpinTKw1Xh"
      }
    }
  ]
}