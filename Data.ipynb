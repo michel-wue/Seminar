{
  "nbformat": 4,
  "nbformat_minor": 0,
  "metadata": {
    "colab": {
      "provenance": [],
      "authorship_tag": "ABX9TyPhVe0ipV7YcPSXE2O591Zw",
      "include_colab_link": true
    },
    "kernelspec": {
      "name": "python3",
      "display_name": "Python 3"
    },
    "language_info": {
      "name": "python"
    }
  },
  "cells": [
    {
      "cell_type": "markdown",
      "metadata": {
        "id": "view-in-github",
        "colab_type": "text"
      },
      "source": [
        "<a href=\"https://colab.research.google.com/github/michel-wue/Seminar/blob/Tries_API_Data_extraction/Data.ipynb\" target=\"_parent\"><img src=\"https://colab.research.google.com/assets/colab-badge.svg\" alt=\"Open In Colab\"/></a>"
      ]
    },
    {
      "cell_type": "code",
      "execution_count": 127,
      "metadata": {
        "id": "UuGKN_LNy2bi"
      },
      "outputs": [],
      "source": [
        "import requests as r\n",
        "import pandas as pd\n",
        "from pandas import json_normalize\n",
        "import re"
      ]
    },
    {
      "cell_type": "code",
      "source": [
        "Data_basic = pd.DataFrame()"
      ],
      "metadata": {
        "id": "3NjyF4Nhb_PS"
      },
      "execution_count": 111,
      "outputs": []
    },
    {
      "cell_type": "code",
      "source": [
        "Data_basic = pd.DataFrame(columns=['GameID','season','types','week','HomeTeam_ID','AwayTeam_ID','Winner'])\n",
        "week = list(range(1, 19))\n",
        "seasons=list(range(2017,2023))"
      ],
      "metadata": {
        "id": "rY_TrTk0-f5l"
      },
      "execution_count": 115,
      "outputs": []
    },
    {
      "cell_type": "code",
      "source": [
        "seasons"
      ],
      "metadata": {
        "colab": {
          "base_uri": "https://localhost:8080/"
        },
        "id": "zYaZ-OXs-nRW",
        "outputId": "83a097c0-c6ad-4bad-f17b-577c348d0d00"
      },
      "execution_count": 114,
      "outputs": [
        {
          "output_type": "execute_result",
          "data": {
            "text/plain": [
              "[2015, 2016, 2017, 2018, 2019, 2020, 2021, 2022]"
            ]
          },
          "metadata": {},
          "execution_count": 114
        }
      ]
    },
    {
      "cell_type": "code",
      "source": [
        "\n",
        "def infos(season,types,weeks):\n",
        "  url = f\"https://sports.core.api.espn.com/v2/sports/football/leagues/nfl/seasons/{season}/types/{types}/weeks/{weeks}/events\"\n",
        "\n",
        "  response = r.get(url)\n",
        "  json_data = response.json()\n",
        "  df = json_normalize(json_data['items'])\n",
        "  for game in range(len(df)):\n",
        "    l=[]\n",
        "    response = r.get(df['$ref'][game])\n",
        "    data=response.json()\n",
        "    try:\n",
        "      df2=json_normalize(data['competitions'])\n",
        "      l.append(df2['id'][0])\n",
        "      l.append(season)\n",
        "      l.append(types)\n",
        "      l.append(weeks)\n",
        "      l.append(df2['competitors'][0][0]['id'])\n",
        "      l.append(df2['competitors'][0][1]['id'])\n",
        "      try:\n",
        "        if df2['competitors'][0][0]['winner'] == True:\n",
        "          l.append('Home')\n",
        "        else:\n",
        "          l.append('Away')\n",
        "      except KeyError:\n",
        "        l.append('NaN')\n",
        "    except KeyError:\n",
        "      print('it doesnt worked')\n",
        "    Data_basic.loc[len(Data_basic)] = l\n"
      ],
      "metadata": {
        "id": "Qd5lK3aAzCTN"
      },
      "execution_count": 116,
      "outputs": []
    },
    {
      "cell_type": "code",
      "source": [
        "for x in seasons:  \n",
        "  for i in week:\n",
        "    infos(x,2,i)"
      ],
      "metadata": {
        "id": "6qVMfDXo3020"
      },
      "execution_count": 117,
      "outputs": []
    },
    {
      "cell_type": "code",
      "source": [
        "Data_basic\n"
      ],
      "metadata": {
        "colab": {
          "base_uri": "https://localhost:8080/",
          "height": 424
        },
        "id": "yv9tuuQFzfuH",
        "outputId": "b8346b9b-3a52-41ac-d546-8f5f5a6a6ce4"
      },
      "execution_count": 118,
      "outputs": [
        {
          "output_type": "execute_result",
          "data": {
            "text/plain": [
              "         GameID  season  types  week HomeTeam_ID AwayTeam_ID Winner\n",
              "0     400951566    2017      2     1          17          12   Away\n",
              "1     400951567    2017      2     1           2          20   Home\n",
              "2     400951570    2017      2     1           3           1   Away\n",
              "3     400951572    2017      2     1           4          33   Away\n",
              "4     400951574    2017      2     1           5          23   Away\n",
              "...         ...     ...    ...   ...         ...         ...    ...\n",
              "1564  401437957    2022      2    18          21          19   Home\n",
              "1565  401437962    2022      2    18          25          22   Home\n",
              "1566  401437963    2022      2    18          26          14   Home\n",
              "1567  401437959    2022      2    18          28           6   Home\n",
              "1568  401437952    2022      2    18           9           8   Away\n",
              "\n",
              "[1569 rows x 7 columns]"
            ],
            "text/html": [
              "\n",
              "  <div id=\"df-e65fb186-d2a8-4361-9ee2-14a31cc8b9b3\">\n",
              "    <div class=\"colab-df-container\">\n",
              "      <div>\n",
              "<style scoped>\n",
              "    .dataframe tbody tr th:only-of-type {\n",
              "        vertical-align: middle;\n",
              "    }\n",
              "\n",
              "    .dataframe tbody tr th {\n",
              "        vertical-align: top;\n",
              "    }\n",
              "\n",
              "    .dataframe thead th {\n",
              "        text-align: right;\n",
              "    }\n",
              "</style>\n",
              "<table border=\"1\" class=\"dataframe\">\n",
              "  <thead>\n",
              "    <tr style=\"text-align: right;\">\n",
              "      <th></th>\n",
              "      <th>GameID</th>\n",
              "      <th>season</th>\n",
              "      <th>types</th>\n",
              "      <th>week</th>\n",
              "      <th>HomeTeam_ID</th>\n",
              "      <th>AwayTeam_ID</th>\n",
              "      <th>Winner</th>\n",
              "    </tr>\n",
              "  </thead>\n",
              "  <tbody>\n",
              "    <tr>\n",
              "      <th>0</th>\n",
              "      <td>400951566</td>\n",
              "      <td>2017</td>\n",
              "      <td>2</td>\n",
              "      <td>1</td>\n",
              "      <td>17</td>\n",
              "      <td>12</td>\n",
              "      <td>Away</td>\n",
              "    </tr>\n",
              "    <tr>\n",
              "      <th>1</th>\n",
              "      <td>400951567</td>\n",
              "      <td>2017</td>\n",
              "      <td>2</td>\n",
              "      <td>1</td>\n",
              "      <td>2</td>\n",
              "      <td>20</td>\n",
              "      <td>Home</td>\n",
              "    </tr>\n",
              "    <tr>\n",
              "      <th>2</th>\n",
              "      <td>400951570</td>\n",
              "      <td>2017</td>\n",
              "      <td>2</td>\n",
              "      <td>1</td>\n",
              "      <td>3</td>\n",
              "      <td>1</td>\n",
              "      <td>Away</td>\n",
              "    </tr>\n",
              "    <tr>\n",
              "      <th>3</th>\n",
              "      <td>400951572</td>\n",
              "      <td>2017</td>\n",
              "      <td>2</td>\n",
              "      <td>1</td>\n",
              "      <td>4</td>\n",
              "      <td>33</td>\n",
              "      <td>Away</td>\n",
              "    </tr>\n",
              "    <tr>\n",
              "      <th>4</th>\n",
              "      <td>400951574</td>\n",
              "      <td>2017</td>\n",
              "      <td>2</td>\n",
              "      <td>1</td>\n",
              "      <td>5</td>\n",
              "      <td>23</td>\n",
              "      <td>Away</td>\n",
              "    </tr>\n",
              "    <tr>\n",
              "      <th>...</th>\n",
              "      <td>...</td>\n",
              "      <td>...</td>\n",
              "      <td>...</td>\n",
              "      <td>...</td>\n",
              "      <td>...</td>\n",
              "      <td>...</td>\n",
              "      <td>...</td>\n",
              "    </tr>\n",
              "    <tr>\n",
              "      <th>1564</th>\n",
              "      <td>401437957</td>\n",
              "      <td>2022</td>\n",
              "      <td>2</td>\n",
              "      <td>18</td>\n",
              "      <td>21</td>\n",
              "      <td>19</td>\n",
              "      <td>Home</td>\n",
              "    </tr>\n",
              "    <tr>\n",
              "      <th>1565</th>\n",
              "      <td>401437962</td>\n",
              "      <td>2022</td>\n",
              "      <td>2</td>\n",
              "      <td>18</td>\n",
              "      <td>25</td>\n",
              "      <td>22</td>\n",
              "      <td>Home</td>\n",
              "    </tr>\n",
              "    <tr>\n",
              "      <th>1566</th>\n",
              "      <td>401437963</td>\n",
              "      <td>2022</td>\n",
              "      <td>2</td>\n",
              "      <td>18</td>\n",
              "      <td>26</td>\n",
              "      <td>14</td>\n",
              "      <td>Home</td>\n",
              "    </tr>\n",
              "    <tr>\n",
              "      <th>1567</th>\n",
              "      <td>401437959</td>\n",
              "      <td>2022</td>\n",
              "      <td>2</td>\n",
              "      <td>18</td>\n",
              "      <td>28</td>\n",
              "      <td>6</td>\n",
              "      <td>Home</td>\n",
              "    </tr>\n",
              "    <tr>\n",
              "      <th>1568</th>\n",
              "      <td>401437952</td>\n",
              "      <td>2022</td>\n",
              "      <td>2</td>\n",
              "      <td>18</td>\n",
              "      <td>9</td>\n",
              "      <td>8</td>\n",
              "      <td>Away</td>\n",
              "    </tr>\n",
              "  </tbody>\n",
              "</table>\n",
              "<p>1569 rows × 7 columns</p>\n",
              "</div>\n",
              "      <button class=\"colab-df-convert\" onclick=\"convertToInteractive('df-e65fb186-d2a8-4361-9ee2-14a31cc8b9b3')\"\n",
              "              title=\"Convert this dataframe to an interactive table.\"\n",
              "              style=\"display:none;\">\n",
              "        \n",
              "  <svg xmlns=\"http://www.w3.org/2000/svg\" height=\"24px\"viewBox=\"0 0 24 24\"\n",
              "       width=\"24px\">\n",
              "    <path d=\"M0 0h24v24H0V0z\" fill=\"none\"/>\n",
              "    <path d=\"M18.56 5.44l.94 2.06.94-2.06 2.06-.94-2.06-.94-.94-2.06-.94 2.06-2.06.94zm-11 1L8.5 8.5l.94-2.06 2.06-.94-2.06-.94L8.5 2.5l-.94 2.06-2.06.94zm10 10l.94 2.06.94-2.06 2.06-.94-2.06-.94-.94-2.06-.94 2.06-2.06.94z\"/><path d=\"M17.41 7.96l-1.37-1.37c-.4-.4-.92-.59-1.43-.59-.52 0-1.04.2-1.43.59L10.3 9.45l-7.72 7.72c-.78.78-.78 2.05 0 2.83L4 21.41c.39.39.9.59 1.41.59.51 0 1.02-.2 1.41-.59l7.78-7.78 2.81-2.81c.8-.78.8-2.07 0-2.86zM5.41 20L4 18.59l7.72-7.72 1.47 1.35L5.41 20z\"/>\n",
              "  </svg>\n",
              "      </button>\n",
              "      \n",
              "  <style>\n",
              "    .colab-df-container {\n",
              "      display:flex;\n",
              "      flex-wrap:wrap;\n",
              "      gap: 12px;\n",
              "    }\n",
              "\n",
              "    .colab-df-convert {\n",
              "      background-color: #E8F0FE;\n",
              "      border: none;\n",
              "      border-radius: 50%;\n",
              "      cursor: pointer;\n",
              "      display: none;\n",
              "      fill: #1967D2;\n",
              "      height: 32px;\n",
              "      padding: 0 0 0 0;\n",
              "      width: 32px;\n",
              "    }\n",
              "\n",
              "    .colab-df-convert:hover {\n",
              "      background-color: #E2EBFA;\n",
              "      box-shadow: 0px 1px 2px rgba(60, 64, 67, 0.3), 0px 1px 3px 1px rgba(60, 64, 67, 0.15);\n",
              "      fill: #174EA6;\n",
              "    }\n",
              "\n",
              "    [theme=dark] .colab-df-convert {\n",
              "      background-color: #3B4455;\n",
              "      fill: #D2E3FC;\n",
              "    }\n",
              "\n",
              "    [theme=dark] .colab-df-convert:hover {\n",
              "      background-color: #434B5C;\n",
              "      box-shadow: 0px 1px 3px 1px rgba(0, 0, 0, 0.15);\n",
              "      filter: drop-shadow(0px 1px 2px rgba(0, 0, 0, 0.3));\n",
              "      fill: #FFFFFF;\n",
              "    }\n",
              "  </style>\n",
              "\n",
              "      <script>\n",
              "        const buttonEl =\n",
              "          document.querySelector('#df-e65fb186-d2a8-4361-9ee2-14a31cc8b9b3 button.colab-df-convert');\n",
              "        buttonEl.style.display =\n",
              "          google.colab.kernel.accessAllowed ? 'block' : 'none';\n",
              "\n",
              "        async function convertToInteractive(key) {\n",
              "          const element = document.querySelector('#df-e65fb186-d2a8-4361-9ee2-14a31cc8b9b3');\n",
              "          const dataTable =\n",
              "            await google.colab.kernel.invokeFunction('convertToInteractive',\n",
              "                                                     [key], {});\n",
              "          if (!dataTable) return;\n",
              "\n",
              "          const docLinkHtml = 'Like what you see? Visit the ' +\n",
              "            '<a target=\"_blank\" href=https://colab.research.google.com/notebooks/data_table.ipynb>data table notebook</a>'\n",
              "            + ' to learn more about interactive tables.';\n",
              "          element.innerHTML = '';\n",
              "          dataTable['output_type'] = 'display_data';\n",
              "          await google.colab.output.renderOutput(dataTable, element);\n",
              "          const docLink = document.createElement('div');\n",
              "          docLink.innerHTML = docLinkHtml;\n",
              "          element.appendChild(docLink);\n",
              "        }\n",
              "      </script>\n",
              "    </div>\n",
              "  </div>\n",
              "  "
            ]
          },
          "metadata": {},
          "execution_count": 118
        }
      ]
    },
    {
      "cell_type": "code",
      "source": [
        "type(Data_basic['HomeTeam_ID'][0])\n",
        "\n",
        "\n",
        "\n"
      ],
      "metadata": {
        "colab": {
          "base_uri": "https://localhost:8080/"
        },
        "id": "MEx1vE_NbD_U",
        "outputId": "9e3c95f4-a45a-4a71-83c8-6392b541f65a"
      },
      "execution_count": 135,
      "outputs": [
        {
          "output_type": "execute_result",
          "data": {
            "text/plain": [
              "0    17\n",
              "Name: HomeTeam_ID, dtype: object"
            ]
          },
          "metadata": {},
          "execution_count": 135
        }
      ]
    },
    {
      "cell_type": "code",
      "source": [
        "GameID='400951566'\n",
        "url=f'http://sports.core.api.espn.com/v2/sports/football/leagues/nfl/events/{GameID}/competitions/{GameID}/drives?lang=en&region=us'\n",
        "response_drive = r.get(url)\n",
        "drive_data = response_drive.json()\n",
        "drive_df = json_normalize(drive_data['items'])"
      ],
      "metadata": {
        "id": "jaFeGfpfWY-8"
      },
      "execution_count": 121,
      "outputs": []
    },
    {
      "cell_type": "code",
      "source": [
        "drive_df['result']\n"
      ],
      "metadata": {
        "colab": {
          "base_uri": "https://localhost:8080/"
        },
        "id": "ogg9vBz5YFKd",
        "outputId": "bdd21707-0bb5-4bc6-9134-24775b29c69e"
      },
      "execution_count": 159,
      "outputs": [
        {
          "output_type": "execute_result",
          "data": {
            "text/plain": [
              "0              TD\n",
              "1          FUMBLE\n",
              "2           DOWNS\n",
              "3              TD\n",
              "4              FG\n",
              "5            PUNT\n",
              "6              TD\n",
              "7            PUNT\n",
              "8            PUNT\n",
              "9              TD\n",
              "10    END OF HALF\n",
              "11           PUNT\n",
              "12           PUNT\n",
              "13             TD\n",
              "14           PUNT\n",
              "15           PUNT\n",
              "16             TD\n",
              "17           PUNT\n",
              "18             FG\n",
              "19             TD\n",
              "20          DOWNS\n",
              "21           PUNT\n",
              "22           PUNT\n",
              "23             TD\n",
              "24           PUNT\n",
              "Name: result, dtype: object"
            ]
          },
          "metadata": {},
          "execution_count": 159
        }
      ]
    },
    {
      "cell_type": "code",
      "source": [
        "for i in drive_df:\n",
        "  print(i)"
      ],
      "metadata": {
        "colab": {
          "base_uri": "https://localhost:8080/"
        },
        "id": "C_RH3smTh1DX",
        "outputId": "79df6d44-9917-4a24-92af-8cfc9ddc75b9"
      },
      "execution_count": 138,
      "outputs": [
        {
          "output_type": "stream",
          "name": "stdout",
          "text": [
            "$ref\n",
            "id\n",
            "description\n",
            "sequenceNumber\n",
            "yards\n",
            "isScore\n",
            "offensivePlays\n",
            "result\n",
            "shortDisplayResult\n",
            "displayResult\n",
            "team.$ref\n",
            "endTeam.$ref\n",
            "start.period.type\n",
            "start.period.number\n",
            "start.clock.value\n",
            "start.clock.displayValue\n",
            "start.yardLine\n",
            "start.text\n",
            "end.period.type\n",
            "end.period.number\n",
            "end.clock.value\n",
            "end.clock.displayValue\n",
            "end.yardLine\n",
            "end.text\n",
            "timeElapsed.value\n",
            "timeElapsed.displayValue\n",
            "source.id\n",
            "source.description\n",
            "plays.$ref\n",
            "plays.count\n",
            "plays.pageIndex\n",
            "plays.pageSize\n",
            "plays.pageCount\n",
            "plays.items\n"
          ]
        }
      ]
    },
    {
      "cell_type": "code",
      "source": [
        "Hometeam=Data_basic[Data_basic['GameID'] == GameID]['HomeTeam_ID']"
      ],
      "metadata": {
        "id": "ySXshmJ1isDb"
      },
      "execution_count": 150,
      "outputs": []
    },
    {
      "cell_type": "code",
      "source": [
        "Hometeam[0]"
      ],
      "metadata": {
        "colab": {
          "base_uri": "https://localhost:8080/",
          "height": 36
        },
        "id": "cTFdLLDDkuh5",
        "outputId": "b15d7acb-b44b-4bf4-9910-0103206e182c"
      },
      "execution_count": 153,
      "outputs": [
        {
          "output_type": "execute_result",
          "data": {
            "text/plain": [
              "'17'"
            ],
            "application/vnd.google.colaboratory.intrinsic+json": {
              "type": "string"
            }
          },
          "metadata": {},
          "execution_count": 153
        }
      ]
    },
    {
      "cell_type": "code",
      "source": [
        "yards_Home=0\n",
        "yards_Away=0\n",
        "TD_Home=0\n",
        "TD_Away=0\n",
        "Data_basic[Data_basic['GameID'] == GameID]['HomeTeam_ID']\n",
        "#if re.search(r\"teams/(\\d+)\", drive_df['team.$ref'][0]).group(1) == Data_basic[Data_basic['GameID'] == GameID]['HomeTeam_ID']:\n",
        "for index, row in drive_df.iterrows():\n",
        "    if re.search(r\"teams/(\\d+)\",row['team.$ref']).group(1) == Data_basic[Data_basic['GameID'] == GameID]['HomeTeam_ID'][0]:\n",
        "      yards_Home=yards_Home + row['yards']\n",
        "      if row['result']=='TD':\n",
        "        TD_Home=TD_Home+1\n",
        "\n",
        "    else:\n",
        "      yards_Away=yards_Away + row['yards'] \n",
        "      if row['result']=='TD':\n",
        "        TD_Away=TD_Away+1\n",
        "        \n",
        "\n",
        "\n"
      ],
      "metadata": {
        "id": "hswZGY6AfWJW"
      },
      "execution_count": 162,
      "outputs": []
    },
    {
      "cell_type": "code",
      "source": [
        "TD_Home"
      ],
      "metadata": {
        "colab": {
          "base_uri": "https://localhost:8080/"
        },
        "id": "COhB1Fduk3x2",
        "outputId": "bf4579af-b2e5-48c3-9985-635ff5ca75c4"
      },
      "execution_count": 161,
      "outputs": [
        {
          "output_type": "execute_result",
          "data": {
            "text/plain": [
              "3"
            ]
          },
          "metadata": {},
          "execution_count": 161
        }
      ]
    },
    {
      "cell_type": "code",
      "source": [
        "TD_Away"
      ],
      "metadata": {
        "colab": {
          "base_uri": "https://localhost:8080/"
        },
        "id": "26kRKWZ0m0uL",
        "outputId": "85ca4422-5552-4093-807c-093302016fe2"
      },
      "execution_count": 163,
      "outputs": [
        {
          "output_type": "execute_result",
          "data": {
            "text/plain": [
              "5"
            ]
          },
          "metadata": {},
          "execution_count": 163
        }
      ]
    }
  ]
}