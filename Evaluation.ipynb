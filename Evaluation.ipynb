{
 "cells": [
  {
   "cell_type": "code",
   "execution_count": 112,
   "metadata": {},
   "outputs": [],
   "source": [
    "\n",
    "from pytorch_tabnet.tab_model import TabNetClassifier\n",
    "import requests as r\n",
    "import pandas as pd\n",
    "from sklearn.preprocessing import StandardScaler\n",
    "from sklearn.datasets import make_classification\n",
    "from sklearn.model_selection import train_test_split\n",
    "from matplotlib import pyplot as plt\n",
    "from sklearn.preprocessing import OneHotEncoder\n",
    "from sklearn.compose import ColumnTransformer\n",
    "from sklearn.pipeline import Pipeline\n",
    "from sklearn.metrics import accuracy_score\n",
    "from sklearn.metrics import confusion_matrix, classification_report\n",
    "import numpy as np\n",
    "from sklearn.metrics import mean_absolute_error\n",
    "from sklearn.metrics import accuracy_score, precision_score, recall_score, f1_score, roc_auc_score, confusion_matrix\n",
    "import pickle\n"
   ]
  },
  {
   "attachments": {},
   "cell_type": "markdown",
   "metadata": {},
   "source": [
    "Den Datensatz laden"
   ]
  },
  {
   "cell_type": "code",
   "execution_count": 136,
   "metadata": {},
   "outputs": [],
   "source": [
    "\n",
    "\n",
    "play_data = pd.read_csv(\n",
    "    'data_final.1.csv'\n",
    ")\n",
    "\n"
   ]
  },
  {
   "attachments": {},
   "cell_type": "markdown",
   "metadata": {},
   "source": [
    "Einteilung Nach Trainings-, Validierungs-, und Testdatensatz"
   ]
  },
  {
   "cell_type": "code",
   "execution_count": 137,
   "metadata": {},
   "outputs": [],
   "source": [
    "\n",
    "import numpy as np\n",
    "from sklearn.model_selection import train_test_split\n",
    "\n",
    "\n",
    "unique_game_ids = play_data['GameID'].unique()\n",
    "\n",
    "\n",
    "train_game_ids, remaining_game_ids = train_test_split(unique_game_ids, test_size=0.2, random_state=42)\n",
    "train_game_ids, valid_game_ids = train_test_split(train_game_ids, test_size=0.2, random_state=42)\n",
    "test_game_ids =remaining_game_ids\n",
    "\n",
    "\n",
    "train_df = play_data[play_data['GameID'].isin(train_game_ids)]\n",
    "valid_df = play_data[play_data['GameID'].isin(valid_game_ids)]\n",
    "test_df = play_data[play_data['GameID'].isin(test_game_ids)]\n",
    "\n",
    "\n",
    "\n"
   ]
  },
  {
   "cell_type": "code",
   "execution_count": null,
   "metadata": {},
   "outputs": [],
   "source": [
    "train_game_ids = set(train_df['GameID'])\n",
    "valid_game_ids = set(valid_df['GameID'])\n",
    "test_game_ids = set(test_df['GameID'])\n",
    "\n",
    "intersection_train_valid = train_game_ids.intersection(valid_game_ids)\n",
    "intersection_train_test = train_game_ids.intersection(test_game_ids)\n",
    "intersection_valid_test = valid_game_ids.intersection(test_game_ids)\n",
    "\n",
    "if len(intersection_train_valid) == 0 and len(intersection_train_test) == 0 and len(intersection_valid_test) == 0:\n",
    "    print(\"Keine gemeinsamen GameIDs zwischen train_df, valid_df und test_df.\")\n",
    "else:\n",
    "    print(\"Es gibt gemeinsame GameIDs zwischen train_df, valid_df und test_df.\")"
   ]
  },
  {
   "attachments": {},
   "cell_type": "markdown",
   "metadata": {},
   "source": [
    "Hier werden die verschiedenen Modelle geladen"
   ]
  },
  {
   "cell_type": "code",
   "execution_count": null,
   "metadata": {},
   "outputs": [],
   "source": [
    "rf_filename = \"RandomForest_final.pkl\"\n",
    "with open(rf_filename, 'rb') as file:\n",
    "    rf_model = pickle.load(file)\n",
    "xgb_filename = \"xgbAll_final.pkl\"\n",
    "with open(xgb_filename, 'rb') as file:\n",
    "    xgb_model = pickle.load(file)\n",
    "tn_filename = \"TabNet_final.pkl\"\n",
    "with open(tn_filename, 'rb') as file:\n",
    "    tn_model = pickle.load(file)"
   ]
  },
  {
   "attachments": {},
   "cell_type": "markdown",
   "metadata": {},
   "source": [
    "Preprocessing"
   ]
  },
  {
   "cell_type": "code",
   "execution_count": null,
   "metadata": {},
   "outputs": [],
   "source": [
    "tn = TabNetClassifier(verbose=1, seed=42)\n",
    "\n",
    "y_train_tn = train_df['Winner']\n",
    "y_valid_tn = valid_df['Winner']\n",
    "y_test_tn = test_df['Winner']\n",
    "X_train_tn = train_df.drop('Winner', axis=1)\n",
    "X_valid_tn = valid_df.drop('Winner', axis=1)\n",
    "X_test_tn = test_df.drop('Winner', axis=1)\n",
    "\n",
    "y_valid_tn = y_valid_tn.astype(int)\n",
    "y_train_tn = y_train_tn.astype(int)\n",
    "y_test_tn = y_test_tn.astype(int)\n",
    "cardinality_cols = ['type_text', 'team_play', 'start_down', 'end_down', 'season', 'week', 'Home_teamname', 'Away_teamname', 'leading_Team']\n",
    "numerical_cols = ['GameID','scoring_game','point_difference','awayScore', 'homeScore', 'scoreValue', 'statYardage', 'quarter', 'clock', 'start_distance', 'start_yardlinie', 'start_yardsToEndzone', 'end_distance', 'end_yardlinie', 'end_yardsToEndzone', 'elo_score_away', 'elo_score_home', 'attendence', 'time_remaining']\n",
    "\n",
    "scaler = StandardScaler()\n",
    "X_train_numerical_tn = scaler.fit_transform(X_train_tn[numerical_cols])\n",
    "X_valid_numerical_tn = scaler.transform(X_valid_tn[numerical_cols])\n",
    "X_test_numerical_tn = scaler.transform(X_test_tn[numerical_cols])\n",
    "\n",
    "\n",
    "encoder = OneHotEncoder(handle_unknown='ignore')\n",
    "X_train_categorical_tn = encoder.fit_transform(X_train_tn[cardinality_cols]).toarray()\n",
    "X_valid_categorical_tn = encoder.transform(X_valid_tn[cardinality_cols]).toarray()\n",
    "X_test_categorical_tn = encoder.transform(X_test_tn[cardinality_cols]).toarray()\n",
    "\n",
    "\n",
    "X_train_processed_tn = np.concatenate([X_train_numerical_tn, X_train_categorical_tn], axis=1)\n",
    "X_valid_processed_tn = np.concatenate([X_valid_numerical_tn, X_valid_categorical_tn], axis=1)\n",
    "X_test_processed_tn = np.concatenate([X_test_numerical_tn, X_test_categorical_tn], axis=1)"
   ]
  },
  {
   "cell_type": "code",
   "execution_count": 143,
   "metadata": {},
   "outputs": [],
   "source": [
    "\n",
    "y_train_rf = train_df['Winner']\n",
    "y_valid_rf = valid_df['Winner']\n",
    "y_test_rf = test_df['Winner']\n",
    "X_train_rf = train_df.drop('Winner', axis=1)\n",
    "X_valid_rf = valid_df.drop('Winner', axis=1)\n",
    "X_test_rf = test_df.drop('Winner', axis=1)\n",
    "\n",
    "\n",
    "y_valid_rf = y_valid_rf.astype(int)\n",
    "y_train_rf = y_train_rf.astype(int)\n",
    "y_test_rf = y_test_rf.astype(int)\n",
    "\n",
    "\n",
    "cardinality_cols = ['GameID','type_text', 'team_play', 'start_down', 'end_down', 'season', 'week', 'Home_teamname', 'Away_teamname', 'leading_Team']\n",
    "numerical_cols = ['scoring_game','point_difference','awayScore', 'homeScore', 'scoreValue', 'statYardage', 'quarter', 'clock', 'start_distance', 'start_yardlinie', 'start_yardsToEndzone', 'end_distance', 'end_yardlinie', 'end_yardsToEndzone', 'elo_score_away', 'elo_score_home', 'attendence', 'time_remaining']\n",
    "\n",
    "scaler = StandardScaler()\n",
    "X_train_numerical_rf = scaler.fit_transform(X_train_rf[numerical_cols])\n",
    "X_valid_numerical_rf = scaler.transform(X_valid_rf[numerical_cols])\n",
    "X_test_numerical_rf = scaler.transform(X_test_rf[numerical_cols])\n",
    "\n",
    "\n",
    "encoder = OneHotEncoder(handle_unknown='ignore')\n",
    "X_train_categorical_rf = encoder.fit_transform(X_train_rf[cardinality_cols]).toarray()\n",
    "X_valid_categorical_rf = encoder.transform(X_valid_rf[cardinality_cols]).toarray()\n",
    "X_test_categorical_rf = encoder.transform(X_test_rf[cardinality_cols]).toarray()\n",
    "\n",
    "\n",
    "X_train_processed_rf = np.concatenate([X_train_numerical_rf, X_train_categorical_rf], axis=1)\n",
    "X_valid_processed_rf = np.concatenate([X_valid_numerical_rf, X_valid_categorical_rf], axis=1)\n",
    "X_test_processed_rf = np.concatenate([X_test_numerical_rf, X_test_categorical_rf], axis=1)"
   ]
  },
  {
   "cell_type": "code",
   "execution_count": 144,
   "metadata": {},
   "outputs": [],
   "source": [
    "y_train_xgb = train_df['Winner']\n",
    "y_valid_xgb = valid_df['Winner']\n",
    "y_test_xgb = test_df['Winner']\n",
    "X_train_xgb = train_df.drop('Winner', axis=1)\n",
    "X_valid_xgb = valid_df.drop('Winner', axis=1)\n",
    "X_test_xgb = test_df.drop('Winner', axis=1)\n",
    "\n",
    "\n",
    "y_valid_xgb = y_valid_xgb.astype(int)\n",
    "y_train_xgb = y_train_xgb.astype(int)\n",
    "y_test_xgb = y_test_xgb.astype(int)\n",
    "cardinality_cols = ['GameID','type_text', 'team_play', 'start_down', 'end_down', 'season', 'week', 'Home_teamname', 'Away_teamname', 'leading_Team']\n",
    "numerical_cols = ['scoring_game','point_difference','awayScore', 'homeScore', 'scoreValue', 'statYardage', 'quarter', 'clock', 'start_distance', 'start_yardlinie', 'start_yardsToEndzone', 'end_distance', 'end_yardlinie', 'end_yardsToEndzone', 'elo_score_away', 'elo_score_home', 'attendence', 'time_remaining']\n",
    "\n",
    "\n",
    "scaler = StandardScaler()\n",
    "X_train_numerical_xgb = scaler.fit_transform(X_train_xgb[numerical_cols])\n",
    "X_valid_numerical_xgb = scaler.transform(X_valid_xgb[numerical_cols])\n",
    "X_test_numerical_xgb = scaler.transform(X_test_xgb[numerical_cols])\n",
    "\n",
    "encoder = OneHotEncoder(handle_unknown='ignore')\n",
    "X_train_categorical_xgb = encoder.fit_transform(X_train_xgb[cardinality_cols]).toarray()\n",
    "X_valid_categorical_xgb = encoder.transform(X_valid_xgb[cardinality_cols]).toarray()\n",
    "X_test_categorical_xgb = encoder.transform(X_test_xgb[cardinality_cols]).toarray()\n",
    "\n",
    "\n",
    "X_train_processed_xgb = np.concatenate([X_train_numerical_xgb, X_train_categorical_xgb], axis=1)\n",
    "X_valid_processed_xgb = np.concatenate([X_valid_numerical_xgb, X_valid_categorical_xgb], axis=1)\n",
    "X_test_processed_xgb = np.concatenate([X_test_numerical_xgb, X_test_categorical_xgb], axis=1)"
   ]
  },
  {
   "cell_type": "code",
   "execution_count": 145,
   "metadata": {},
   "outputs": [],
   "source": [
    "preds_test_xgb = xgb_model.predict(X_test_processed_xgb )"
   ]
  },
  {
   "cell_type": "code",
   "execution_count": 146,
   "metadata": {},
   "outputs": [],
   "source": [
    "preds_test_rf = rf_model.predict(X_test_processed_rf )"
   ]
  },
  {
   "cell_type": "code",
   "execution_count": 147,
   "metadata": {},
   "outputs": [],
   "source": [
    "preds_test_tn = tn_model.predict(X_test_processed_tn )"
   ]
  },
  {
   "attachments": {},
   "cell_type": "markdown",
   "metadata": {},
   "source": [
    "Hier kann der Datensatz nach den Punkteabstände gefiltert werden"
   ]
  },
  {
   "cell_type": "code",
   "execution_count": 148,
   "metadata": {},
   "outputs": [],
   "source": [
    "preds_test_xgb = preds_test_xgb[X_test_xgb['scoring_game'] == 2]\n",
    "preds_test_rf = preds_test_rf[X_test_rf['scoring_game'] == 2]\n",
    "preds_test_tn = preds_test_tn[X_test_tn['scoring_game'] == 2]\n",
    "y_test_xgb = y_test_xgb[X_test_xgb['scoring_game'] == 2]\n",
    "y_test_rf = y_test_rf[X_test_rf['scoring_game'] == 2]\n",
    "y_test_tn = y_test_tn[X_test_tn['scoring_game'] == 2]"
   ]
  },
  {
   "cell_type": "code",
   "execution_count": 149,
   "metadata": {},
   "outputs": [
    {
     "name": "stdout",
     "output_type": "stream",
     "text": [
      "Accuracy: 0.8360\n",
      "Precision: 0.8014\n",
      "Recall: 0.9202\n",
      "F1 Score: 0.8567\n",
      "Confusion Matrix:  [[5514, 1937],\n",
      " [ 678, 7815]]\n"
     ]
    }
   ],
   "source": [
    "accuracy_test_rf = accuracy_score(y_test_rf, preds_test_rf)\n",
    "precision_test_rf = precision_score(y_test_rf, preds_test_rf)\n",
    "recall_test_rf = recall_score(y_test_rf, preds_test_rf)\n",
    "f1_test_rf = f1_score(y_test_rf, preds_test_rf)\n",
    "auc_test_rf = roc_auc_score(y_test_rf, preds_test_rf)\n",
    "cm_test_rf = confusion_matrix(y_test_rf, preds_test_rf)\n",
    "cm_str_test_rf = np.array2string(cm_test_rf, separator=', ')\n",
    "\n",
    "# Ergebnisse ausgeben\n",
    "print(\"Accuracy: {:.4f}\".format(accuracy_test_rf))\n",
    "print(\"Precision: {:.4f}\".format(precision_test_rf))\n",
    "print(\"Recall: {:.4f}\".format(recall_test_rf))\n",
    "print(\"F1 Score: {:.4f}\".format(f1_test_rf))\n",
    "print('Confusion Matrix: ', cm_str_test_rf)"
   ]
  },
  {
   "cell_type": "code",
   "execution_count": 150,
   "metadata": {},
   "outputs": [
    {
     "name": "stdout",
     "output_type": "stream",
     "text": [
      "Accuracy: 0.6843\n",
      "Precision: 0.6650\n",
      "Recall: 0.8209\n",
      "F1 Score: 0.7348\n",
      "Confusion Matrix:  [[3939, 3512],\n",
      " [1521, 6972]]\n"
     ]
    }
   ],
   "source": [
    "accuracy_test_tn = accuracy_score(y_test_tn, preds_test_tn)\n",
    "precision_test_tn = precision_score(y_test_tn, preds_test_tn)\n",
    "recall_test_tn = recall_score(y_test_tn, preds_test_tn)\n",
    "f1_test_tn = f1_score(y_test_tn, preds_test_tn)\n",
    "auc_test_tn = roc_auc_score(y_test_tn, preds_test_tn)\n",
    "cm_test_tn = confusion_matrix(y_test_tn, preds_test_tn)\n",
    "cm_str_test_tn = np.array2string(cm_test_tn, separator=', ')\n",
    "\n",
    "print(\"Accuracy: {:.4f}\".format(accuracy_test_tn))\n",
    "print(\"Precision: {:.4f}\".format(precision_test_tn))\n",
    "print(\"Recall: {:.4f}\".format(recall_test_tn))\n",
    "print(\"F1 Score: {:.4f}\".format(f1_test_tn))\n",
    "print('Confusion Matrix: ', cm_str_test_tn)"
   ]
  },
  {
   "cell_type": "code",
   "execution_count": 151,
   "metadata": {},
   "outputs": [
    {
     "name": "stdout",
     "output_type": "stream",
     "text": [
      "Accuracy: 0.8597\n",
      "Precision: 0.8358\n",
      "Recall: 0.9168\n",
      "F1 Score: 0.8744\n",
      "Confusion Matrix:  [[5921, 1530],\n",
      " [ 707, 7786]]\n"
     ]
    }
   ],
   "source": [
    "accuracy_test_xgb = accuracy_score(y_test_xgb, preds_test_xgb)\n",
    "precision_test_xgb = precision_score(y_test_xgb, preds_test_xgb)\n",
    "recall_test_xgb = recall_score(y_test_xgb, preds_test_xgb)\n",
    "f1_test_xgb = f1_score(y_test_xgb, preds_test_xgb)\n",
    "auc_test_xgb = roc_auc_score(y_test_xgb, preds_test_xgb)\n",
    "cm_test_xgb = confusion_matrix(y_test_xgb, preds_test_xgb)\n",
    "cm_str_test_xgb = np.array2string(cm_test_xgb, separator=', ')\n",
    "\n",
    "\n",
    "print(\"Accuracy: {:.4f}\".format(accuracy_test_xgb))\n",
    "print(\"Precision: {:.4f}\".format(precision_test_xgb))\n",
    "print(\"Recall: {:.4f}\".format(recall_test_xgb))\n",
    "print(\"F1 Score: {:.4f}\".format(f1_test_xgb))\n",
    "print('Confusion Matrix: ', cm_str_test_xgb)"
   ]
  },
  {
   "attachments": {},
   "cell_type": "markdown",
   "metadata": {},
   "source": [
    "Hier werden die Plots des gefiltersten Datensatzes generiert"
   ]
  },
  {
   "cell_type": "code",
   "execution_count": 39,
   "metadata": {},
   "outputs": [],
   "source": [
    "def plot_data_xgb(time):\n",
    "  preds_time_xgb = preds_test_xgb[((X_test_xgb['time_remaining'] <= time) &(X_test_xgb['time_remaining'] >= time-3))]\n",
    "  y_time_xgb = y_test_xgb[((X_test_xgb['time_remaining'] <= time) & (X_test_xgb['time_remaining'] >= time-3))]\n",
    "  accuracy = accuracy_score(y_time_xgb, preds_time_xgb)\n",
    "  return accuracy"
   ]
  },
  {
   "cell_type": "code",
   "execution_count": 40,
   "metadata": {},
   "outputs": [],
   "source": [
    "def plot_data_rf(time):\n",
    "  preds_time_rf = preds_test_rf[((X_test_rf['time_remaining'] <= time) &(X_test_rf['time_remaining'] >= time-3))]\n",
    "  y_time_rf = y_test_rf[((X_test_rf['time_remaining'] <= time) & (X_test_rf['time_remaining'] >= time-3))]\n",
    "  accuracy = accuracy_score(y_time_rf, preds_time_rf)\n",
    "  return accuracy"
   ]
  },
  {
   "cell_type": "code",
   "execution_count": 41,
   "metadata": {},
   "outputs": [],
   "source": [
    "def plot_data_tn(time):\n",
    "  preds_time_tn = preds_test_tn[((X_test_tn['time_remaining'] <= time) &(X_test_tn['time_remaining'] >= time-3))]\n",
    "  y_time_tn = y_test_tn[((X_test_tn['time_remaining'] <= time) & (X_test_tn['time_remaining'] >= time-3))]\n",
    "  accuracy = accuracy_score(y_time_tn, preds_time_tn)\n",
    "  return accuracy"
   ]
  },
  {
   "cell_type": "code",
   "execution_count": 66,
   "metadata": {},
   "outputs": [],
   "source": [
    "def plot_data_xgb(time):\n",
    "  preds_time_xgb = preds_test_xgb[((X_test_xgb['time_remaining'] <= time) &(X_test_xgb['time_remaining'] >= time-3)&(X_test_xgb['scoring_game'] == 1))]\n",
    "  y_time_xgb = y_test_xgb[((X_test_xgb['time_remaining'] <= time) & (X_test_xgb['time_remaining'] >= time-3)&(X_test_xgb['scoring_game'] == 1))]\n",
    "  accuracy = accuracy_score(y_time_xgb, preds_time_xgb)\n",
    "  return accuracy"
   ]
  },
  {
   "cell_type": "code",
   "execution_count": 67,
   "metadata": {},
   "outputs": [],
   "source": [
    "def plot_data_rf(time):\n",
    "  preds_time_rf = preds_test_rf[((X_test_rf['time_remaining'] <= time) &(X_test_rf['time_remaining'] >= time-3)&(X_test_rf['scoring_game'] == 1))]\n",
    "  y_time_rf = y_test_rf[((X_test_rf['time_remaining'] <= time) & (X_test_rf['time_remaining'] >= time-3)&(X_test_rf['scoring_game'] == 1))]\n",
    "  accuracy = accuracy_score(y_time_rf, preds_time_rf)\n",
    "  return accuracy"
   ]
  },
  {
   "cell_type": "code",
   "execution_count": 68,
   "metadata": {},
   "outputs": [],
   "source": [
    "def plot_data_tn(time):\n",
    "  preds_time_tn = preds_test_tn[((X_test_tn['time_remaining'] <= time) &(X_test_tn['time_remaining'] >= time-3)&(X_test_tn['scoring_game'] == 1))]\n",
    "  y_time_tn = y_test_tn[((X_test_tn['time_remaining'] <= time) & (X_test_tn['time_remaining'] >= time-3)&(X_test_tn['scoring_game'] == 1))]\n",
    "  accuracy = accuracy_score(y_time_tn, preds_time_tn)\n",
    "  return accuracy"
   ]
  },
  {
   "cell_type": "code",
   "execution_count": 69,
   "metadata": {},
   "outputs": [],
   "source": [
    "time_values = list(np.arange(60, 0, -3))\n",
    "\n",
    "auc_values_xgb = []\n",
    "time_plot = []\n",
    "\n",
    "for time in time_values:\n",
    "    auc_values_xgb.append(plot_data_xgb(time))\n",
    "    time_plot.append(time)\n"
   ]
  },
  {
   "cell_type": "code",
   "execution_count": 70,
   "metadata": {},
   "outputs": [],
   "source": [
    "time_values = list(np.arange(60, 0, -3))\n",
    "\n",
    "auc_values_rf = []\n",
    "time_plot = []\n",
    "\n",
    "for time in time_values:\n",
    "    auc_values_rf.append(plot_data_rf(time))\n",
    "    time_plot.append(time)"
   ]
  },
  {
   "cell_type": "code",
   "execution_count": 71,
   "metadata": {},
   "outputs": [],
   "source": [
    "time_values = list(np.arange(60, 0, -3))\n",
    "\n",
    "auc_values_tn = []\n",
    "time_plot = []\n",
    "\n",
    "for time in time_values:\n",
    "    auc_values_tn.append(plot_data_tn(time))\n",
    "    time_plot.append(time)"
   ]
  },
  {
   "cell_type": "code",
   "execution_count": 73,
   "metadata": {},
   "outputs": [
    {
     "data": {
      "image/png": "[encoded data removed]",
      "text/plain": [
       "<Figure size 640x480 with 1 Axes>"
      ]
     },
     "metadata": {},
     "output_type": "display_data"
    }
   ],
   "source": [
    "import matplotlib.pyplot as plt\n",
    "\n",
    "\n",
    "x = time_plot[::-1]\n",
    "y_xgb = auc_values_xgb\n",
    "y_tn = auc_values_tn\n",
    "y_rf = auc_values_rf\n",
    "\n",
    "\n",
    "plt.plot(x, y_xgb, label='XGBoost')\n",
    "plt.plot(x, y_tn, label='TabNet')\n",
    "plt.plot(x, y_rf, label='Random Forest')\n",
    "\n",
    "\n",
    "plt.xlabel('Spielzeit [min]')\n",
    "plt.ylabel('Accuracy')\n",
    "plt.title('Accuracy-Werte über die Zeit')\n",
    "\n",
    "\n",
    "plt.legend()\n",
    "\n",
    "\n",
    "plt.show()"
   ]
  },
  {
   "cell_type": "code",
   "execution_count": 74,
   "metadata": {},
   "outputs": [
    {
     "data": {
      "image/png": "[encoded data removed]",
      "text/plain": [
       "<Figure size 640x480 with 1 Axes>"
      ]
     },
     "metadata": {},
     "output_type": "display_data"
    }
   ],
   "source": [
    "import matplotlib.pyplot as plt\n",
    "\n",
    "\n",
    "x = time_plot[::-1]\n",
    "y_xgb = auc_values_xgb\n",
    "y_tn = auc_values_tn\n",
    "y_rf = auc_values_rf\n",
    "\n",
    "\n",
    "data = [y_xgb, y_tn, y_rf]\n",
    "\n",
    "\n",
    "plt.boxplot(data)\n",
    "\n",
    "\n",
    "plt.xlabel('Modelle')\n",
    "plt.ylabel('Accuracy')\n",
    "plt.title('Accuracy-Werte über die Zeit')\n",
    "\n",
    "\n",
    "labels = ['XGBoost', 'TabNet', 'Random Forest']\n",
    "plt.xticks(range(1, len(labels) + 1), labels)\n",
    "\n",
    "\n",
    "plt.show()\n"
   ]
  }
 ],
 "metadata": {
  "kernelspec": {
   "display_name": "Python 3",
   "language": "python",
   "name": "python3"
  },
  "language_info": {
   "codemirror_mode": {
    "name": "ipython",
    "version": 3
   },
   "file_extension": ".py",
   "mimetype": "text/x-python",
   "name": "python",
   "nbconvert_exporter": "python",
   "pygments_lexer": "ipython3",
   "version": "3.10.8"
  },
  "orig_nbformat": 4
 },
 "nbformat": 4,
 "nbformat_minor": 2
}
