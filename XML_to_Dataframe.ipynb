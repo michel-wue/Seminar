{
  "nbformat": 4,
  "nbformat_minor": 0,
  "metadata": {
    "colab": {
      "provenance": [],
      "authorship_tag": "ABX9TyNPivewcLcrBhuaYgAXlGBc",
      "include_colab_link": true
    },
    "kernelspec": {
      "name": "python3",
      "display_name": "Python 3"
    },
    "language_info": {
      "name": "python"
    }
  },
  "cells": [
    {
      "cell_type": "markdown",
      "metadata": {
        "id": "view-in-github",
        "colab_type": "text"
      },
      "source": [
        "<a href=\"https://colab.research.google.com/github/michel-wue/PDS_Project/blob/michel/XML_to_Dataframe.ipynb\" target=\"_parent\"><img src=\"https://colab.research.google.com/assets/colab-badge.svg\" alt=\"Open In Colab\"/></a>"
      ]
    },
    {
      "cell_type": "code",
      "execution_count": null,
      "metadata": {
        "id": "d4P3uPnDkPYb"
      },
      "outputs": [],
      "source": [
        "import requests\n",
        "import xml.etree.ElementTree as ET\n",
        "import pandas as pd"
      ]
    },
    {
      "cell_type": "code",
      "source": [
        "def XML_Reader_FirmenDaten(XML, Rigersternname, Firmenname, \tPLZ, \tStrasse ,\tHausNr, Ort):\n",
        "  tree = ET.parse(XML)\n",
        "  root =tree.getroot()\n",
        "  Daten_Firma=[]\n",
        "  for x in root.findall(Rigersternname):\n",
        "    Daten_Firma.extend([x.find(Firmenname).text, x.find(PLZ).text, x.find(Strasse).text, x.find(HausNr).text, x.find(Ort).text])\n",
        "  df = pd.DataFrame(Daten_Firma).transpose()\n",
        "  df.columns=['Firmenname', 'PLZ', 'Strasse', 'HausNr.', 'Ort']\n",
        "   "
      ],
      "metadata": {
        "id": "U2Xx1AebkVdK"
      },
      "execution_count": null,
      "outputs": []
    },
    {
      "cell_type": "code",
      "source": [],
      "metadata": {
        "id": "GeVu45f7n5T6"
      },
      "execution_count": null,
      "outputs": []
    }
  ]
}